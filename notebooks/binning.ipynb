{
 "cells": [
  {
   "cell_type": "code",
   "execution_count": 1,
   "id": "d8939d20-2895-4b6e-aa37-18af53964989",
   "metadata": {},
   "outputs": [],
   "source": [
    "import pandas as pd\n",
    "import numpy as np\n",
    "import matplotlib.pyplot as plt"
   ]
  },
  {
   "cell_type": "code",
   "execution_count": 2,
   "id": "72a174a0-17a0-4a17-b4a4-cdc9dd9b7599",
   "metadata": {},
   "outputs": [],
   "source": [
    "%run -i ../notebooks/functions/functions.py"
   ]
  },
  {
   "cell_type": "code",
   "execution_count": 3,
   "id": "3449ace8-8882-4483-b48f-fef72494b25f",
   "metadata": {},
   "outputs": [
    {
     "name": "stdout",
     "output_type": "stream",
     "text": [
      "(195, 2)\n"
     ]
    },
    {
     "data": {
      "text/html": [
       "<div>\n",
       "<style scoped>\n",
       "    .dataframe tbody tr th:only-of-type {\n",
       "        vertical-align: middle;\n",
       "    }\n",
       "\n",
       "    .dataframe tbody tr th {\n",
       "        vertical-align: top;\n",
       "    }\n",
       "\n",
       "    .dataframe thead th {\n",
       "        text-align: right;\n",
       "    }\n",
       "</style>\n",
       "<table border=\"1\" class=\"dataframe\">\n",
       "  <thead>\n",
       "    <tr style=\"text-align: right;\">\n",
       "      <th></th>\n",
       "      <th>NTA_lat</th>\n",
       "      <th>NTA_long</th>\n",
       "    </tr>\n",
       "  </thead>\n",
       "  <tbody>\n",
       "    <tr>\n",
       "      <th>0</th>\n",
       "      <td>40.768352</td>\n",
       "      <td>-73.809546</td>\n",
       "    </tr>\n",
       "    <tr>\n",
       "      <th>1</th>\n",
       "      <td>40.763352</td>\n",
       "      <td>-73.868396</td>\n",
       "    </tr>\n",
       "    <tr>\n",
       "      <th>2</th>\n",
       "      <td>40.734894</td>\n",
       "      <td>-73.783716</td>\n",
       "    </tr>\n",
       "    <tr>\n",
       "      <th>3</th>\n",
       "      <td>40.755734</td>\n",
       "      <td>-73.983503</td>\n",
       "    </tr>\n",
       "    <tr>\n",
       "      <th>4</th>\n",
       "      <td>40.818055</td>\n",
       "      <td>-73.856188</td>\n",
       "    </tr>\n",
       "  </tbody>\n",
       "</table>\n",
       "</div>"
      ],
      "text/plain": [
       "     NTA_lat   NTA_long\n",
       "0  40.768352 -73.809546\n",
       "1  40.763352 -73.868396\n",
       "2  40.734894 -73.783716\n",
       "3  40.755734 -73.983503\n",
       "4  40.818055 -73.856188"
      ]
     },
     "execution_count": 3,
     "metadata": {},
     "output_type": "execute_result"
    }
   ],
   "source": [
    "#get NTA centroid list\n",
    "NTA = pd.read_csv('../processed_data/NTA_coords.csv')\n",
    "\n",
    "print(NTA.shape)\n",
    "NTA.head()"
   ]
  },
  {
   "cell_type": "code",
   "execution_count": 4,
   "id": "632df29b-55e2-43b0-ba12-d02a7bca315d",
   "metadata": {},
   "outputs": [
    {
     "data": {
      "text/plain": [
       "NTA_lat     float64\n",
       "NTA_long    float64\n",
       "dtype: object"
      ]
     },
     "execution_count": 4,
     "metadata": {},
     "output_type": "execute_result"
    }
   ],
   "source": [
    "NTA.dtypes"
   ]
  },
  {
   "cell_type": "markdown",
   "id": "8d2beff0-06a3-47a6-840f-e4c477b81493",
   "metadata": {
    "tags": []
   },
   "source": [
    "## Data Binning"
   ]
  },
  {
   "cell_type": "markdown",
   "id": "757b2820-0a9d-47be-97da-37adf9146732",
   "metadata": {},
   "source": [
    "#-- ORIGINAL DATA -- \n",
    "#create list of frames to pull in (facilities treated seperately)\n",
    "wanted_df = ['density/geocoded_population', 'density/geocoded_traffic', 'density/geocoded_pedestrian', \n",
    "             'wellbeing/hotels', 'wellbeing/parks', 'wellbeing/libraries']\n",
    "#list of whether each frame should have 'sum' or 'count'\n",
    "metrics = [False, 'sum', 'sum', 'count', 'sum', 'count']"
   ]
  },
  {
   "cell_type": "code",
   "execution_count": 5,
   "id": "536a66e3-3570-4a17-b756-fde52b34b317",
   "metadata": {},
   "outputs": [],
   "source": [
    "#--- EXPERIMENT --- \n",
    "\n",
    "#create list of frames to pull in (facilities treated seperately)\n",
    "wanted_df = ['density/geocoded_population', 'density/geocoded_traffic', \n",
    "             'buildings/building_count','buildings/building_stories', ]\n",
    "#list of whether each frame should have 'sum' or 'count'\n",
    "metrics = [False, 'sum', False, False]"
   ]
  },
  {
   "cell_type": "code",
   "execution_count": 6,
   "id": "ea004b98-2f34-4104-901e-5cab9abd9038",
   "metadata": {},
   "outputs": [],
   "source": [
    "#empty dict for binned dataframes\n",
    "df_bins = {}\n",
    "\n",
    "#import every wanted dataframe\n",
    "for i, frame in enumerate(wanted_df):\n",
    "    #set path to current frame\n",
    "    path = f\"../processed_data/{frame}.csv\"\n",
    "    #create temporary dataframe out of loaded csv\n",
    "    temp_df = pd.read_csv(path)\n",
    "    \n",
    "    #save name of csv to save binned dataframe under\n",
    "    df_name = frame.split('/')[1]\n",
    "    \n",
    "    #if metrics are true then bin data by the metric\n",
    "    if bool(metrics[i]):         \n",
    "        #save binned dataframe to dictionary under frame name\n",
    "        df_bins[df_name] = bin_data(temp_df, metrics[i], wanted_df[i])    \n",
    "    else:\n",
    "        df_bins[df_name] = temp_df"
   ]
  },
  {
   "cell_type": "code",
   "execution_count": 7,
   "id": "5414ab63-5db9-4ade-9973-4b8cd67265cd",
   "metadata": {},
   "outputs": [],
   "source": [
    "df_bins['geocoded_traffic'].replace({0: 290}, inplace = True)"
   ]
  },
  {
   "cell_type": "code",
   "execution_count": 8,
   "id": "e8636bab-ceb5-48aa-a0fe-9a3317492591",
   "metadata": {},
   "outputs": [
    {
     "name": "stdout",
     "output_type": "stream",
     "text": [
      "(195, 3)\n"
     ]
    },
    {
     "data": {
      "text/html": [
       "<div>\n",
       "<style scoped>\n",
       "    .dataframe tbody tr th:only-of-type {\n",
       "        vertical-align: middle;\n",
       "    }\n",
       "\n",
       "    .dataframe tbody tr th {\n",
       "        vertical-align: top;\n",
       "    }\n",
       "\n",
       "    .dataframe thead th {\n",
       "        text-align: right;\n",
       "    }\n",
       "</style>\n",
       "<table border=\"1\" class=\"dataframe\">\n",
       "  <thead>\n",
       "    <tr style=\"text-align: right;\">\n",
       "      <th></th>\n",
       "      <th>NTA_lat</th>\n",
       "      <th>NTA_long</th>\n",
       "      <th>traffic</th>\n",
       "    </tr>\n",
       "  </thead>\n",
       "  <tbody>\n",
       "    <tr>\n",
       "      <th>190</th>\n",
       "      <td>40.783330</td>\n",
       "      <td>-73.785962</td>\n",
       "      <td>290.0</td>\n",
       "    </tr>\n",
       "    <tr>\n",
       "      <th>191</th>\n",
       "      <td>40.588299</td>\n",
       "      <td>-73.941511</td>\n",
       "      <td>290.0</td>\n",
       "    </tr>\n",
       "    <tr>\n",
       "      <th>192</th>\n",
       "      <td>40.672090</td>\n",
       "      <td>-73.773039</td>\n",
       "      <td>290.0</td>\n",
       "    </tr>\n",
       "    <tr>\n",
       "      <th>193</th>\n",
       "      <td>40.690302</td>\n",
       "      <td>-73.832763</td>\n",
       "      <td>290.0</td>\n",
       "    </tr>\n",
       "    <tr>\n",
       "      <th>194</th>\n",
       "      <td>40.812089</td>\n",
       "      <td>-73.885547</td>\n",
       "      <td>290.0</td>\n",
       "    </tr>\n",
       "  </tbody>\n",
       "</table>\n",
       "</div>"
      ],
      "text/plain": [
       "       NTA_lat   NTA_long  traffic\n",
       "190  40.783330 -73.785962    290.0\n",
       "191  40.588299 -73.941511    290.0\n",
       "192  40.672090 -73.773039    290.0\n",
       "193  40.690302 -73.832763    290.0\n",
       "194  40.812089 -73.885547    290.0"
      ]
     },
     "execution_count": 8,
     "metadata": {},
     "output_type": "execute_result"
    }
   ],
   "source": [
    "#check it works\n",
    "print(df_bins['geocoded_traffic'].shape)\n",
    "df_bins['geocoded_traffic'].tail()"
   ]
  },
  {
   "cell_type": "markdown",
   "id": "2ea0321f-8c13-4cce-bb9a-d18da6a14b02",
   "metadata": {
    "tags": []
   },
   "source": [
    "#### Facilities DF\n",
    "\n",
    "For generation of `facilities.csv` see `notebooks/buildings_wellbeing.ipynb`"
   ]
  },
  {
   "cell_type": "code",
   "execution_count": 9,
   "id": "b24b36c3-e605-4456-9478-060907e167f5",
   "metadata": {},
   "outputs": [],
   "source": [
    "#get data\n",
    "facilities_df = pd.read_csv(\"../processed_data/wellbeing/facilities.csv\")\n",
    "\n",
    "#pull value counts for each category for each neighborhood\n",
    "facilities_count = bin_data(facilities_df).value_counts(['factype', 'NTA_lat', 'NTA_long'])"
   ]
  },
  {
   "cell_type": "code",
   "execution_count": 10,
   "id": "44be2a58-f427-4570-8d8c-191faa7d960f",
   "metadata": {},
   "outputs": [
    {
     "name": "stderr",
     "output_type": "stream",
     "text": [
      "/var/folders/r6/fys6jqz12zg0mt2n15r5gw3m0000gq/T/ipykernel_6605/3096404365.py:21: FutureWarning: Passing 'suffixes' which cause duplicate columns {'count_x'} in the result is deprecated and will raise a MergeError in a future version.\n",
      "  facilities_all = pd.merge(facilities_all, facility_bin[factypes[i]],  how='left',\n"
     ]
    }
   ],
   "source": [
    "#get the index corresponding to the subgroup names\n",
    "factypes = facilities_count.index.get_level_values(0).unique()\n",
    "#empty dict to save facility dataframes\n",
    "facility_bin = {}\n",
    "#column list to create new column names\n",
    "fac_columns = ['NTA_lat', 'NTA_long']\n",
    "\n",
    "#create a dataframe for each subgroup and append name to column list\n",
    "for factype in factypes:\n",
    "    facility_bin[factype] = pd.DataFrame(facilities_count[factype], columns=['count']).reset_index()\n",
    "    #add factype name to the column names\n",
    "    fac_columns.append(factype)\n",
    "\n",
    "#create initial dataframe out of merged first two factypes\n",
    "facilities_all = pd.merge(facility_bin[factypes[0]], facility_bin[factypes[1]],  how='left', \n",
    "                          left_on=['NTA_lat','NTA_long'], \n",
    "                          right_on = ['NTA_lat','NTA_long'])\n",
    "\n",
    "#merge rest of the factype dataframes in\n",
    "for i in range(2, len(facility_bin)):\n",
    "    facilities_all = pd.merge(facilities_all, facility_bin[factypes[i]],  how='left', \n",
    "                              left_on=['NTA_lat','NTA_long'], \n",
    "                              right_on = ['NTA_lat','NTA_long'])\n",
    "    \n",
    "\n",
    "#rename the columns\n",
    "facilities_all.columns = fac_columns\n"
   ]
  },
  {
   "cell_type": "code",
   "execution_count": 11,
   "id": "ce33d085-34e8-4e2b-a1b2-1fcd337b7255",
   "metadata": {},
   "outputs": [],
   "source": [
    "#add 0 for missing NTA values\n",
    "#for each NTA value\n",
    "for lat, long in NTA.values:\n",
    "    #check that it is not in the grouped dataframe\n",
    "    if lat not in facilities_all['NTA_lat'].values and long not in facilities_all['NTA_long'].values:\n",
    "            #if not then append a row with that NTA lat long\n",
    "            neighborhood = {'NTA_lat': lat, 'NTA_long': long}\n",
    "            facilities_all = facilities_all.append(neighborhood, ignore_index=True)\n",
    "#replace all NaN with 0           \n",
    "facilities_final = facilities_all.fillna(0)"
   ]
  },
  {
   "cell_type": "code",
   "execution_count": 12,
   "id": "f450002f-050c-41c1-986f-c22f73e928be",
   "metadata": {},
   "outputs": [
    {
     "name": "stdout",
     "output_type": "stream",
     "text": [
      "(195, 6)\n"
     ]
    },
    {
     "data": {
      "text/html": [
       "<div>\n",
       "<style scoped>\n",
       "    .dataframe tbody tr th:only-of-type {\n",
       "        vertical-align: middle;\n",
       "    }\n",
       "\n",
       "    .dataframe tbody tr th {\n",
       "        vertical-align: top;\n",
       "    }\n",
       "\n",
       "    .dataframe thead th {\n",
       "        text-align: right;\n",
       "    }\n",
       "</style>\n",
       "<table border=\"1\" class=\"dataframe\">\n",
       "  <thead>\n",
       "    <tr style=\"text-align: right;\">\n",
       "      <th></th>\n",
       "      <th>NTA_lat</th>\n",
       "      <th>NTA_long</th>\n",
       "      <th>DAY CARE</th>\n",
       "      <th>NON-PUBLIC K-12 SCHOOLS</th>\n",
       "      <th>HOSPITALS AND CLINICS</th>\n",
       "      <th>PUBLIC K-12 SCHOOLS</th>\n",
       "    </tr>\n",
       "  </thead>\n",
       "  <tbody>\n",
       "    <tr>\n",
       "      <th>0</th>\n",
       "      <td>40.630950</td>\n",
       "      <td>-73.988661</td>\n",
       "      <td>68.0</td>\n",
       "      <td>59.0</td>\n",
       "      <td>11.0</td>\n",
       "      <td>6.0</td>\n",
       "    </tr>\n",
       "    <tr>\n",
       "      <th>1</th>\n",
       "      <td>40.703917</td>\n",
       "      <td>-73.958597</td>\n",
       "      <td>49.0</td>\n",
       "      <td>46.0</td>\n",
       "      <td>17.0</td>\n",
       "      <td>6.0</td>\n",
       "    </tr>\n",
       "    <tr>\n",
       "      <th>2</th>\n",
       "      <td>40.641889</td>\n",
       "      <td>-74.004646</td>\n",
       "      <td>43.0</td>\n",
       "      <td>16.0</td>\n",
       "      <td>12.0</td>\n",
       "      <td>14.0</td>\n",
       "    </tr>\n",
       "    <tr>\n",
       "      <th>3</th>\n",
       "      <td>40.790380</td>\n",
       "      <td>-73.973908</td>\n",
       "      <td>42.0</td>\n",
       "      <td>24.0</td>\n",
       "      <td>9.0</td>\n",
       "      <td>16.0</td>\n",
       "    </tr>\n",
       "    <tr>\n",
       "      <th>4</th>\n",
       "      <td>40.671228</td>\n",
       "      <td>-73.983903</td>\n",
       "      <td>36.0</td>\n",
       "      <td>7.0</td>\n",
       "      <td>9.0</td>\n",
       "      <td>15.0</td>\n",
       "    </tr>\n",
       "  </tbody>\n",
       "</table>\n",
       "</div>"
      ],
      "text/plain": [
       "     NTA_lat   NTA_long  DAY CARE  NON-PUBLIC K-12 SCHOOLS  \\\n",
       "0  40.630950 -73.988661      68.0                     59.0   \n",
       "1  40.703917 -73.958597      49.0                     46.0   \n",
       "2  40.641889 -74.004646      43.0                     16.0   \n",
       "3  40.790380 -73.973908      42.0                     24.0   \n",
       "4  40.671228 -73.983903      36.0                      7.0   \n",
       "\n",
       "   HOSPITALS AND CLINICS  PUBLIC K-12 SCHOOLS  \n",
       "0                   11.0                  6.0  \n",
       "1                   17.0                  6.0  \n",
       "2                   12.0                 14.0  \n",
       "3                    9.0                 16.0  \n",
       "4                    9.0                 15.0  "
      ]
     },
     "execution_count": 12,
     "metadata": {},
     "output_type": "execute_result"
    }
   ],
   "source": [
    "print(facilities_final.shape)\n",
    "facilities_final.head()"
   ]
  },
  {
   "cell_type": "markdown",
   "id": "08793b44-0d42-48e5-957f-6c6b4777df20",
   "metadata": {},
   "source": [
    "## Zipping"
   ]
  },
  {
   "cell_type": "code",
   "execution_count": 13,
   "id": "514b5f6b-0081-4125-814e-9fe8ee21e6d7",
   "metadata": {},
   "outputs": [],
   "source": [
    "#create initial dataframe out of merged first two frames\n",
    "master_df = pd.merge(df_bins[wanted_df[0].split('/')[1]], df_bins[wanted_df[1].split('/')[1]],  \n",
    "                     how='left', left_on=['NTA_lat','NTA_long'], \n",
    "                     right_on = ['NTA_lat','NTA_long'])\n",
    "\n",
    "#merge all subsequent dataframes\n",
    "for i in range(2, len(wanted_df)):\n",
    "    name = wanted_df[i].split('/')[1]\n",
    "    \n",
    "    master_df = pd.merge(master_df, df_bins[name],  \n",
    "                         how='left', left_on=['NTA_lat','NTA_long'], \n",
    "                         right_on = ['NTA_lat','NTA_long'])\n",
    "\n",
    "#add on facilities\n",
    "master_df = pd.merge(master_df, facilities_final,  \n",
    "                     how='left', left_on=['NTA_lat','NTA_long'], \n",
    "                     right_on = ['NTA_lat','NTA_long'])"
   ]
  },
  {
   "cell_type": "code",
   "execution_count": 14,
   "id": "fa4ac085-d0fa-451c-91a0-b9675c609810",
   "metadata": {},
   "outputs": [
    {
     "data": {
      "text/html": [
       "<div>\n",
       "<style scoped>\n",
       "    .dataframe tbody tr th:only-of-type {\n",
       "        vertical-align: middle;\n",
       "    }\n",
       "\n",
       "    .dataframe tbody tr th {\n",
       "        vertical-align: top;\n",
       "    }\n",
       "\n",
       "    .dataframe thead th {\n",
       "        text-align: right;\n",
       "    }\n",
       "</style>\n",
       "<table border=\"1\" class=\"dataframe\">\n",
       "  <thead>\n",
       "    <tr style=\"text-align: right;\">\n",
       "      <th></th>\n",
       "      <th>NTA_lat</th>\n",
       "      <th>NTA_long</th>\n",
       "      <th>Population</th>\n",
       "      <th>traffic</th>\n",
       "      <th>buildings</th>\n",
       "      <th>legalstories</th>\n",
       "      <th>DAY CARE</th>\n",
       "      <th>NON-PUBLIC K-12 SCHOOLS</th>\n",
       "      <th>HOSPITALS AND CLINICS</th>\n",
       "      <th>PUBLIC K-12 SCHOOLS</th>\n",
       "    </tr>\n",
       "  </thead>\n",
       "  <tbody>\n",
       "    <tr>\n",
       "      <th>0</th>\n",
       "      <td>40.768352</td>\n",
       "      <td>-73.809546</td>\n",
       "      <td>51739.0</td>\n",
       "      <td>244.032407</td>\n",
       "      <td>70.0</td>\n",
       "      <td>1.000000</td>\n",
       "      <td>13.0</td>\n",
       "      <td>4.0</td>\n",
       "      <td>1.0</td>\n",
       "      <td>4.0</td>\n",
       "    </tr>\n",
       "    <tr>\n",
       "      <th>1</th>\n",
       "      <td>40.763352</td>\n",
       "      <td>-73.868396</td>\n",
       "      <td>23150.0</td>\n",
       "      <td>290.000000</td>\n",
       "      <td>62.0</td>\n",
       "      <td>2.193548</td>\n",
       "      <td>3.0</td>\n",
       "      <td>0.0</td>\n",
       "      <td>0.0</td>\n",
       "      <td>3.0</td>\n",
       "    </tr>\n",
       "    <tr>\n",
       "      <th>2</th>\n",
       "      <td>40.734894</td>\n",
       "      <td>-73.783716</td>\n",
       "      <td>17812.0</td>\n",
       "      <td>618.412037</td>\n",
       "      <td>23.0</td>\n",
       "      <td>2.086957</td>\n",
       "      <td>4.0</td>\n",
       "      <td>5.0</td>\n",
       "      <td>5.0</td>\n",
       "      <td>4.0</td>\n",
       "    </tr>\n",
       "    <tr>\n",
       "      <th>3</th>\n",
       "      <td>40.755734</td>\n",
       "      <td>-73.983503</td>\n",
       "      <td>28630.0</td>\n",
       "      <td>3993.351852</td>\n",
       "      <td>8.0</td>\n",
       "      <td>26.875000</td>\n",
       "      <td>9.0</td>\n",
       "      <td>0.0</td>\n",
       "      <td>3.0</td>\n",
       "      <td>2.0</td>\n",
       "    </tr>\n",
       "    <tr>\n",
       "      <th>4</th>\n",
       "      <td>40.818055</td>\n",
       "      <td>-73.856188</td>\n",
       "      <td>53686.0</td>\n",
       "      <td>290.000000</td>\n",
       "      <td>355.0</td>\n",
       "      <td>2.754237</td>\n",
       "      <td>4.0</td>\n",
       "      <td>2.0</td>\n",
       "      <td>5.0</td>\n",
       "      <td>15.0</td>\n",
       "    </tr>\n",
       "  </tbody>\n",
       "</table>\n",
       "</div>"
      ],
      "text/plain": [
       "     NTA_lat   NTA_long  Population      traffic  buildings  legalstories  \\\n",
       "0  40.768352 -73.809546     51739.0   244.032407       70.0      1.000000   \n",
       "1  40.763352 -73.868396     23150.0   290.000000       62.0      2.193548   \n",
       "2  40.734894 -73.783716     17812.0   618.412037       23.0      2.086957   \n",
       "3  40.755734 -73.983503     28630.0  3993.351852        8.0     26.875000   \n",
       "4  40.818055 -73.856188     53686.0   290.000000      355.0      2.754237   \n",
       "\n",
       "   DAY CARE  NON-PUBLIC K-12 SCHOOLS  HOSPITALS AND CLINICS  \\\n",
       "0      13.0                      4.0                    1.0   \n",
       "1       3.0                      0.0                    0.0   \n",
       "2       4.0                      5.0                    5.0   \n",
       "3       9.0                      0.0                    3.0   \n",
       "4       4.0                      2.0                    5.0   \n",
       "\n",
       "   PUBLIC K-12 SCHOOLS  \n",
       "0                  4.0  \n",
       "1                  3.0  \n",
       "2                  4.0  \n",
       "3                  2.0  \n",
       "4                 15.0  "
      ]
     },
     "execution_count": 14,
     "metadata": {},
     "output_type": "execute_result"
    }
   ],
   "source": [
    "#check it works\n",
    "master_df.head()"
   ]
  },
  {
   "cell_type": "code",
   "execution_count": 15,
   "id": "ba50c291-9598-4aa6-9090-b20b913f35b6",
   "metadata": {},
   "outputs": [],
   "source": [
    "#save to csv\n",
    "master_df.to_csv('../processed_data/master.csv', index=False, encoding='utf-8')"
   ]
  }
 ],
 "metadata": {
  "kernelspec": {
   "display_name": "Python 3 (ipykernel)",
   "language": "python",
   "name": "python3"
  },
  "language_info": {
   "codemirror_mode": {
    "name": "ipython",
    "version": 3
   },
   "file_extension": ".py",
   "mimetype": "text/x-python",
   "name": "python",
   "nbconvert_exporter": "python",
   "pygments_lexer": "ipython3",
   "version": "3.9.7"
  }
 },
 "nbformat": 4,
 "nbformat_minor": 5
}
