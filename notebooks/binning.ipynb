{
 "cells": [
  {
   "cell_type": "code",
   "execution_count": 1,
   "id": "d8939d20-2895-4b6e-aa37-18af53964989",
   "metadata": {},
   "outputs": [],
   "source": [
    "import pandas as pd\n",
    "import numpy as np\n",
    "import matplotlib.pyplot as plt"
   ]
  },
  {
   "cell_type": "code",
   "execution_count": 2,
   "id": "72a174a0-17a0-4a17-b4a4-cdc9dd9b7599",
   "metadata": {},
   "outputs": [],
   "source": [
    "%run -i ../notebooks/functions.py"
   ]
  },
  {
   "cell_type": "code",
   "execution_count": 12,
   "id": "3449ace8-8882-4483-b48f-fef72494b25f",
   "metadata": {},
   "outputs": [
    {
     "name": "stdout",
     "output_type": "stream",
     "text": [
      "(195, 2)\n"
     ]
    },
    {
     "data": {
      "text/html": [
       "<div>\n",
       "<style scoped>\n",
       "    .dataframe tbody tr th:only-of-type {\n",
       "        vertical-align: middle;\n",
       "    }\n",
       "\n",
       "    .dataframe tbody tr th {\n",
       "        vertical-align: top;\n",
       "    }\n",
       "\n",
       "    .dataframe thead th {\n",
       "        text-align: right;\n",
       "    }\n",
       "</style>\n",
       "<table border=\"1\" class=\"dataframe\">\n",
       "  <thead>\n",
       "    <tr style=\"text-align: right;\">\n",
       "      <th></th>\n",
       "      <th>latitude</th>\n",
       "      <th>longitude</th>\n",
       "    </tr>\n",
       "  </thead>\n",
       "  <tbody>\n",
       "    <tr>\n",
       "      <th>0</th>\n",
       "      <td>40.768352</td>\n",
       "      <td>-73.809546</td>\n",
       "    </tr>\n",
       "    <tr>\n",
       "      <th>1</th>\n",
       "      <td>40.763352</td>\n",
       "      <td>-73.868396</td>\n",
       "    </tr>\n",
       "    <tr>\n",
       "      <th>2</th>\n",
       "      <td>40.734894</td>\n",
       "      <td>-73.783716</td>\n",
       "    </tr>\n",
       "    <tr>\n",
       "      <th>3</th>\n",
       "      <td>40.755734</td>\n",
       "      <td>-73.983503</td>\n",
       "    </tr>\n",
       "    <tr>\n",
       "      <th>4</th>\n",
       "      <td>40.818055</td>\n",
       "      <td>-73.856188</td>\n",
       "    </tr>\n",
       "  </tbody>\n",
       "</table>\n",
       "</div>"
      ],
      "text/plain": [
       "    latitude  longitude\n",
       "0  40.768352 -73.809546\n",
       "1  40.763352 -73.868396\n",
       "2  40.734894 -73.783716\n",
       "3  40.755734 -73.983503\n",
       "4  40.818055 -73.856188"
      ]
     },
     "execution_count": 12,
     "metadata": {},
     "output_type": "execute_result"
    }
   ],
   "source": [
    "#get NTA centroid list\n",
    "NTA = pd.read_csv('../processed_data/density/geocoded_population.csv').loc[:, ['latitude', 'longitude']]\n",
    "#export NTA as its own csv\n",
    "NTA.to_csv('../processed_data/NTA_coords.csv')\n",
    "\n",
    "print(NTA.shape)\n",
    "NTA.head()"
   ]
  },
  {
   "cell_type": "markdown",
   "id": "8d2beff0-06a3-47a6-840f-e4c477b81493",
   "metadata": {
    "tags": []
   },
   "source": [
    "## Data Binning"
   ]
  },
  {
   "cell_type": "code",
   "execution_count": 4,
   "id": "364aa19c-c4ef-4fd6-8098-4e60fafe4a54",
   "metadata": {},
   "outputs": [],
   "source": [
    "#-- ORIGINAL DATA -- \n",
    "#create list of frames to pull in (facilities treated seperately)\n",
    "wanted_df = ['geocoded_population', 'geocoded_traffic', 'geocoded_pedestrian', \n",
    "             'hotels', 'parks', 'libraries']\n",
    "#list of whether each frame should have 'sum' or 'count'\n",
    "metrics = ['sum', 'sum', 'sum', 'count', 'count', 'count']"
   ]
  },
  {
   "cell_type": "code",
   "execution_count": 14,
   "id": "536a66e3-3570-4a17-b756-fde52b34b317",
   "metadata": {},
   "outputs": [],
   "source": [
    "#--- EXPERIMENT --- \n",
    "\n",
    "#create list of frames to pull in (facilities treated seperately)\n",
    "wanted_df = ['density/geocoded_population', 'density/geocoded_traffic', \n",
    "             'buildings/building_count','buildings/building_stories', ]\n",
    "#list of whether each frame should have 'sum' or 'count'\n",
    "metrics = ['sum', 'sum', False, False]"
   ]
  },
  {
   "cell_type": "code",
   "execution_count": 15,
   "id": "ea004b98-2f34-4104-901e-5cab9abd9038",
   "metadata": {},
   "outputs": [],
   "source": [
    "#empty dict for binned dataframes\n",
    "df_bins = {}\n",
    "\n",
    "#import every wanted dataframe\n",
    "for i, frame in enumerate(wanted_df):\n",
    "    #set path to current frame\n",
    "    path = f\"../processed_data/{frame}.csv\"\n",
    "    #create temporary dataframe out of loaded csv\n",
    "    temp_df = pd.read_csv(path)\n",
    "    \n",
    "    #if metrics are true then bin data by the metric\n",
    "    if bool(metrics[i]):         \n",
    "        #save binned dataframe to dictionary under frame name\n",
    "        df_bins[frame] = bin_data(temp_df, metrics[i], wanted_df[i])    \n",
    "    else:\n",
    "        df_bins[frame] = temp_df"
   ]
  },
  {
   "cell_type": "code",
   "execution_count": 17,
   "id": "e8636bab-ceb5-48aa-a0fe-9a3317492591",
   "metadata": {},
   "outputs": [
    {
     "name": "stdout",
     "output_type": "stream",
     "text": [
      "(195, 3)\n"
     ]
    },
    {
     "data": {
      "text/html": [
       "<div>\n",
       "<style scoped>\n",
       "    .dataframe tbody tr th:only-of-type {\n",
       "        vertical-align: middle;\n",
       "    }\n",
       "\n",
       "    .dataframe tbody tr th {\n",
       "        vertical-align: top;\n",
       "    }\n",
       "\n",
       "    .dataframe thead th {\n",
       "        text-align: right;\n",
       "    }\n",
       "</style>\n",
       "<table border=\"1\" class=\"dataframe\">\n",
       "  <thead>\n",
       "    <tr style=\"text-align: right;\">\n",
       "      <th></th>\n",
       "      <th>NTA_lat</th>\n",
       "      <th>NTA_long</th>\n",
       "      <th>Population</th>\n",
       "    </tr>\n",
       "  </thead>\n",
       "  <tbody>\n",
       "    <tr>\n",
       "      <th>0</th>\n",
       "      <td>40.525528</td>\n",
       "      <td>-74.233554</td>\n",
       "      <td>23313</td>\n",
       "    </tr>\n",
       "    <tr>\n",
       "      <th>1</th>\n",
       "      <td>40.528645</td>\n",
       "      <td>-74.187734</td>\n",
       "      <td>27770</td>\n",
       "    </tr>\n",
       "    <tr>\n",
       "      <th>2</th>\n",
       "      <td>40.540334</td>\n",
       "      <td>-74.207828</td>\n",
       "      <td>20763</td>\n",
       "    </tr>\n",
       "    <tr>\n",
       "      <th>3</th>\n",
       "      <td>40.545779</td>\n",
       "      <td>-74.128351</td>\n",
       "      <td>0</td>\n",
       "    </tr>\n",
       "    <tr>\n",
       "      <th>4</th>\n",
       "      <td>40.551860</td>\n",
       "      <td>-74.150890</td>\n",
       "      <td>40720</td>\n",
       "    </tr>\n",
       "  </tbody>\n",
       "</table>\n",
       "</div>"
      ],
      "text/plain": [
       "     NTA_lat   NTA_long  Population\n",
       "0  40.525528 -74.233554       23313\n",
       "1  40.528645 -74.187734       27770\n",
       "2  40.540334 -74.207828       20763\n",
       "3  40.545779 -74.128351           0\n",
       "4  40.551860 -74.150890       40720"
      ]
     },
     "execution_count": 17,
     "metadata": {},
     "output_type": "execute_result"
    }
   ],
   "source": [
    "#check it works\n",
    "print(df_bins['density/geocoded_population'].shape)\n",
    "df_bins['density/geocoded_population'].head()"
   ]
  },
  {
   "cell_type": "markdown",
   "id": "2ea0321f-8c13-4cce-bb9a-d18da6a14b02",
   "metadata": {
    "tags": []
   },
   "source": [
    "#### Facilities DF"
   ]
  },
  {
   "cell_type": "code",
   "execution_count": null,
   "id": "b24b36c3-e605-4456-9478-060907e167f5",
   "metadata": {},
   "outputs": [],
   "source": [
    "facilities_df = pd.read_csv(\"../processed_data/facilities.csv\")\n",
    "\n",
    "#pull value counts for each category for each neighborhood\n",
    "facilities_count = bin_data(facilities_df).value_counts(['factype', 'close_NTA_lat', 'close_NTA_long'])"
   ]
  },
  {
   "cell_type": "code",
   "execution_count": null,
   "id": "44be2a58-f427-4570-8d8c-191faa7d960f",
   "metadata": {},
   "outputs": [],
   "source": [
    "#get the index corresponding to the subgroup names\n",
    "factypes = facilities_count.index.get_level_values(0).unique()\n",
    "#empty dict to save facility dataframes\n",
    "facility_bin = {}\n",
    "#column list to create new column names\n",
    "fac_columns = ['NTA_lat', 'NTA_long']\n",
    "\n",
    "#create a dataframe for each subgroup and append name to column list\n",
    "for factype in factypes:\n",
    "    facility_bin[factype] = pd.DataFrame(facilities_count[factype], columns=['count']).reset_index()\n",
    "    #add factype name to the column names\n",
    "    fac_columns.append(factype)\n",
    "\n",
    "#create initial dataframe out of merged first two factypes\n",
    "facilities_all = pd.merge(facility_bin[factypes[0]], facility_bin[factypes[1]],  how='left', \n",
    "                          left_on=['close_NTA_lat','close_NTA_long'], \n",
    "                          right_on = ['close_NTA_lat','close_NTA_long'])\n",
    "\n",
    "#merge rest of the factype dataframes in\n",
    "for i in range(2, len(facility_bin)):\n",
    "    facilities_all = pd.merge(facilities_all, facility_bin[factypes[i]],  how='left', \n",
    "                              left_on=['close_NTA_lat','close_NTA_long'], \n",
    "                              right_on = ['close_NTA_lat','close_NTA_long'])\n",
    "    \n",
    "\n",
    "#rename the columns\n",
    "facilities_all.columns = fac_columns\n"
   ]
  },
  {
   "cell_type": "code",
   "execution_count": null,
   "id": "ce33d085-34e8-4e2b-a1b2-1fcd337b7255",
   "metadata": {},
   "outputs": [],
   "source": [
    "#add 0 for missing NTA values\n",
    "#for each NTA value\n",
    "for lat, long in NTA.values:\n",
    "    #check that it is not in the grouped dataframe\n",
    "    if lat not in facilities_all['NTA_lat'].values and long not in facilities_all['NTA_long'].values:\n",
    "            #if not then append a row with that NTA lat long\n",
    "            neighborhood = {'NTA_lat': lat, 'NTA_long': long}\n",
    "            facilities_all = facilities_all.append(neighborhood, ignore_index=True)\n",
    "#replace all NaN with 0           \n",
    "facilities_final = facilities_all.fillna(0)"
   ]
  },
  {
   "cell_type": "code",
   "execution_count": null,
   "id": "f450002f-050c-41c1-986f-c22f73e928be",
   "metadata": {},
   "outputs": [],
   "source": [
    "print(facilities_final.shape)\n",
    "facilities_final.head()"
   ]
  },
  {
   "cell_type": "markdown",
   "id": "08793b44-0d42-48e5-957f-6c6b4777df20",
   "metadata": {},
   "source": [
    "## Zipping"
   ]
  },
  {
   "cell_type": "code",
   "execution_count": null,
   "id": "514b5f6b-0081-4125-814e-9fe8ee21e6d7",
   "metadata": {},
   "outputs": [],
   "source": [
    "#create initial dataframe out of merged first two frames\n",
    "master_df = pd.merge(df_bins[wanted_df[0]], df_bins[wanted_df[1]],  \n",
    "                     how='left', left_on=['NTA_lat','NTA_long'], \n",
    "                     right_on = ['NTA_lat','NTA_long'])\n",
    "\n",
    "#merge all subsequent dataframes\n",
    "for i in range(2, len(wanted_df)):\n",
    "    master_df = pd.merge(master_df, df_bins[wanted_df[i]],  \n",
    "                         how='left', left_on=['NTA_lat','NTA_long'], \n",
    "                         right_on = ['NTA_lat','NTA_long'])\n",
    "\n",
    "#add on facilities\n",
    "master_df = pd.merge(master_df, facilities_final,  \n",
    "                     how='left', left_on=['NTA_lat','NTA_long'], \n",
    "                     right_on = ['NTA_lat','NTA_long'])"
   ]
  },
  {
   "cell_type": "code",
   "execution_count": null,
   "id": "fa4ac085-d0fa-451c-91a0-b9675c609810",
   "metadata": {},
   "outputs": [],
   "source": [
    "#check it works\n",
    "master_df.head()"
   ]
  },
  {
   "cell_type": "code",
   "execution_count": null,
   "id": "ba50c291-9598-4aa6-9090-b20b913f35b6",
   "metadata": {},
   "outputs": [],
   "source": [
    "#save to csv\n",
    "master_df.to_csv('../processed_data/master.csv', index=False, encoding='utf-8')"
   ]
  },
  {
   "cell_type": "code",
   "execution_count": null,
   "id": "2566e5c0-97ec-44c3-95f9-10e8b7236b27",
   "metadata": {},
   "outputs": [],
   "source": [
    "master_df.describe()"
   ]
  }
 ],
 "metadata": {
  "kernelspec": {
   "display_name": "Python 3 (ipykernel)",
   "language": "python",
   "name": "python3"
  },
  "language_info": {
   "codemirror_mode": {
    "name": "ipython",
    "version": 3
   },
   "file_extension": ".py",
   "mimetype": "text/x-python",
   "name": "python",
   "nbconvert_exporter": "python",
   "pygments_lexer": "ipython3",
   "version": "3.9.7"
  }
 },
 "nbformat": 4,
 "nbformat_minor": 5
}
