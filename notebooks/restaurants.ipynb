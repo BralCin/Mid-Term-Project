{
 "cells": [
  {
   "cell_type": "code",
   "execution_count": 62,
   "id": "673534a4-155c-49aa-a75e-9150c97ae45e",
   "metadata": {},
   "outputs": [],
   "source": [
    "# Imports\n",
    "import requests as re\n",
    "import json\n",
    "import pandas as pd\n",
    "from statistics import mean"
   ]
  },
  {
   "cell_type": "markdown",
   "id": "cc14cceb-0f64-4a36-a6e6-0112337fb9bf",
   "metadata": {
    "tags": []
   },
   "source": [
    "## Yelp"
   ]
  },
  {
   "cell_type": "code",
   "execution_count": 2,
   "id": "9c469cf9-0e48-4114-a088-535c3555abc8",
   "metadata": {},
   "outputs": [],
   "source": [
    "# Load master csv for lat-long data\n",
    "df = pd.read_csv(\"../processed_data/master.csv\")\n",
    "# Separate lat-long from df\n",
    "nta_ll = df.iloc[:, :2]"
   ]
  },
  {
   "cell_type": "code",
   "execution_count": 3,
   "id": "c8c73e30-73c7-4aaf-9d86-e051383dc98a",
   "metadata": {},
   "outputs": [],
   "source": [
    "# Create lists of lat and long\n",
    "lat = nta_ll['NTA_lat'].to_list()\n",
    "long = nta_ll['NTA_long'].to_list()"
   ]
  },
  {
   "cell_type": "code",
   "execution_count": 4,
   "id": "81ce3731-8316-4a10-a658-b17491383678",
   "metadata": {
    "tags": []
   },
   "outputs": [],
   "source": [
    "#initialize request variables\n",
    "root_endpoint = \"https://api.yelp.com/v3/businesses/search\"\n",
    "headers = {\"Accept\": \"application/json\", \n",
    "           \"Authorization\": ('YELP_API_KEY')}"
   ]
  },
  {
   "cell_type": "code",
   "execution_count": 5,
   "id": "543e4039-5a89-43ea-b49e-664e705424b9",
   "metadata": {},
   "outputs": [],
   "source": [
    "#pulling and saving requests\n",
    "results_list = []\n",
    "for i in range(195):\n",
    "    response = re.get(root_endpoint, params={'latitude': lat[i], 'longitude': long[i], 'radius': 500, \n",
    "                                             'categories': 'Food', 'limit': 50}, headers=headers)\n",
    "    results_list.append(response.json())"
   ]
  },
  {
   "cell_type": "code",
   "execution_count": 39,
   "id": "cf39000a-1867-455d-bbbc-5a49f0613039",
   "metadata": {},
   "outputs": [],
   "source": [
    "#checking for failed requests\n",
    "fails = []\n",
    "for i in range(len(results_list)):\n",
    "    if 'error' in results_list[i]:\n",
    "        fails.append(i)"
   ]
  },
  {
   "cell_type": "code",
   "execution_count": 26,
   "id": "02b6382a-eae5-4099-b1df-09c0679713cc",
   "metadata": {},
   "outputs": [],
   "source": [
    "#rety failed requests\n",
    "retry_list = []\n",
    "for i in range(len(fails)):\n",
    "    response = re.get(root_endpoint, params={'latitude': lat[(fails[i])], 'longitude': long[(fails[i])], \n",
    "                                             'radius': 500, 'categories': 'Food', 'limit': 50}, headers=headers)\n",
    "    retry_list.append(response.json())"
   ]
  },
  {
   "cell_type": "code",
   "execution_count": 38,
   "id": "f5317d73-4062-4237-8eaf-ba0d10a0b22a",
   "metadata": {},
   "outputs": [],
   "source": [
    "#replace failed results\n",
    "for i in range(len(fails)):\n",
    "    results_list[(fails[i])] = retry_list[i]"
   ]
  },
  {
   "cell_type": "code",
   "execution_count": 43,
   "id": "643c56cf-4096-4d17-821b-62ac6f2fcab3",
   "metadata": {},
   "outputs": [],
   "source": [
    "#save as JSON\n",
    "with open('../raw_data/yelp/yelp.json', 'w', encoding='utf-8') as f:\n",
    "    json.dump(results_list, f)"
   ]
  },
  {
   "cell_type": "code",
   "execution_count": 45,
   "id": "7febae41-ec37-457e-9ea0-a5273628a9ed",
   "metadata": {},
   "outputs": [],
   "source": [
    "#load json for parsing\n",
    "file = open(\"../raw_data/yelp/yelp.json\", \"r\")\n",
    "yelp = json.load(file)"
   ]
  },
  {
   "cell_type": "code",
   "execution_count": 67,
   "id": "0e278f9e-dd5b-441d-9fa2-57f0c3f706d2",
   "metadata": {},
   "outputs": [],
   "source": [
    "#JSON parsing\n",
    "yelp_list = []\n",
    "for i in range(195):\n",
    "    rating = []\n",
    "    price = []\n",
    "    for j in range(50):\n",
    "        try:\n",
    "            rating.append(yelp[i]['businesses'][j]['rating'])\n",
    "        except:\n",
    "            rating.append(2.5)\n",
    "        try:\n",
    "            if yelp[i]['businesses'][j]['price'] == '$':\n",
    "                price.append(1)\n",
    "            elif yelp[i]['businesses'][j]['price'] == '$$':\n",
    "                price.append(2)\n",
    "            elif yelp[i]['businesses'][j]['price'] == '$$$':\n",
    "                price.append(3)\n",
    "            elif yelp[i]['businesses'][j]['price'] == '$$$$':\n",
    "                price.append(4)\n",
    "        except:\n",
    "            price.append(2)\n",
    "    try:\n",
    "        rating.remove(0)\n",
    "    except:\n",
    "        pass\n",
    "    rating_mean = mean(rating)\n",
    "    try:\n",
    "        price.remove(0)\n",
    "    except:\n",
    "        pass\n",
    "    price_mean = mean(price) \n",
    "    yelp_list.append((rating_mean, price_mean))"
   ]
  },
  {
   "cell_type": "code",
   "execution_count": 71,
   "id": "90da81c2-d953-4001-b342-8da1dee0f1ef",
   "metadata": {},
   "outputs": [],
   "source": [
    "# Create final dataframe to save\n",
    "df = pd.DataFrame(yelp_list, columns=['rating', 'price'])"
   ]
  },
  {
   "cell_type": "code",
   "execution_count": 54,
   "id": "11962cb8-dfb9-444f-984c-7b4f58fb18ee",
   "metadata": {},
   "outputs": [],
   "source": [
    "dfnta = pd.read_csv(\"../processed_data/NTA_coords.csv\")\n",
    "dfyelp = pd.read_csv('../processed_data/restaurants/yelp.csv')"
   ]
  },
  {
   "cell_type": "code",
   "execution_count": 57,
   "id": "6456f978-b7fc-47e2-b2dc-f9ef391e942a",
   "metadata": {},
   "outputs": [],
   "source": [
    "df = pd.concat([dfnta, dfyelp], axis=1)"
   ]
  },
  {
   "cell_type": "code",
   "execution_count": 60,
   "id": "70e56a2b-5e24-4534-a2d6-8cd4a593c0b7",
   "metadata": {},
   "outputs": [],
   "source": [
    "df.rename(columns={\"NTA_lat\": \"latitude\", \"NTA_long\": \"longitude\"}, inplace=True)"
   ]
  },
  {
   "cell_type": "code",
   "execution_count": 61,
   "id": "3c112ad3-6ffb-45ed-9c77-0893e404a255",
   "metadata": {},
   "outputs": [],
   "source": [
    "# Save dataframe to CSV\n",
    "df.to_csv('../processed_data/restaurants/yelp.csv', index=False, encoding='utf-8')"
   ]
  },
  {
   "cell_type": "markdown",
   "id": "0a535755-a8e7-47e5-b5c2-a29f87a66310",
   "metadata": {
    "tags": []
   },
   "source": [
    "## Restaurant Inspections"
   ]
  },
  {
   "cell_type": "code",
   "execution_count": 65,
   "id": "c0fa191c-b6af-45a6-85b6-240b07022dd5",
   "metadata": {},
   "outputs": [],
   "source": [
    "df_r = pd.read_csv(\"/home/brian/Documents/temp midterm/restaurant_inspections.csv\")"
   ]
  },
  {
   "cell_type": "code",
   "execution_count": 67,
   "id": "dbeaa6be-8cc0-47b3-9ec0-0966ad12c0fe",
   "metadata": {},
   "outputs": [],
   "source": [
    "df_r = df_r[[\"Latitude\", \"Longitude\", \"SCORE\", \"INSPECTION DATE\"]]"
   ]
  },
  {
   "cell_type": "code",
   "execution_count": 68,
   "id": "c83f75cc-caaf-43fe-a44a-cd1b1403785a",
   "metadata": {},
   "outputs": [],
   "source": [
    "df_r.dropna(inplace=True)"
   ]
  },
  {
   "cell_type": "code",
   "execution_count": 69,
   "id": "fb7ef329-8232-450e-9360-4e43489f7c72",
   "metadata": {},
   "outputs": [],
   "source": [
    "df_r = df_r[df_r[\"INSPECTION DATE\"].str.contains('2021')]"
   ]
  },
  {
   "cell_type": "code",
   "execution_count": 70,
   "id": "bcea05bd-5496-49c7-84bc-34c70b31c2b5",
   "metadata": {},
   "outputs": [],
   "source": [
    "df_r = df_r[df_r.Latitude != 0]\n",
    "df_r = df_r[df_r.Longitude != 0]\n",
    "df_r = df_r[df_r.SCORE != 0]"
   ]
  },
  {
   "cell_type": "code",
   "execution_count": 71,
   "id": "a07d90b6-7449-4a6a-bbc8-a841ba92f497",
   "metadata": {},
   "outputs": [],
   "source": [
    "df_r.rename(columns={\"Latitude\": \"latitude\", \"Longitude\": \"longitude\", \"SCORE\": \"rest_insp_score\"}, inplace=True)"
   ]
  },
  {
   "cell_type": "code",
   "execution_count": 72,
   "id": "46cfdc35-e842-4d03-83f7-67c4ee9e6383",
   "metadata": {},
   "outputs": [],
   "source": [
    "df_r.to_csv('../processed_data/restaurants/rest_insp.csv', index=False, encoding='utf-8')"
   ]
  },
  {
   "cell_type": "code",
   "execution_count": null,
   "id": "0fb92a97-6437-4d0f-b7c8-0a72b4cb49df",
   "metadata": {},
   "outputs": [],
   "source": []
  }
 ],
 "metadata": {
  "kernelspec": {
   "display_name": "Python 3 (ipykernel)",
   "language": "python",
   "name": "python3"
  },
  "language_info": {
   "codemirror_mode": {
    "name": "ipython",
    "version": 3
   },
   "file_extension": ".py",
   "mimetype": "text/x-python",
   "name": "python",
   "nbconvert_exporter": "python",
   "pygments_lexer": "ipython3",
   "version": "3.9.7"
  }
 },
 "nbformat": 4,
 "nbformat_minor": 5
}
