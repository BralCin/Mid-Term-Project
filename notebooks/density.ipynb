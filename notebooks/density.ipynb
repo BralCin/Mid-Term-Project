{
 "cells": [
  {
   "cell_type": "code",
   "execution_count": 1,
   "id": "5a231397-2a8a-4392-94b2-3ceef866ed3a",
   "metadata": {},
   "outputs": [],
   "source": [
    "# Imports\n",
    "import pandas as pd\n",
    "import numpy as np\n",
    "import geopandas as gpd\n",
    "import shapely\n",
    "import requests\n",
    "import googlemaps\n",
    "from sklearn.preprocessing import MinMaxScaler\n",
    "import warnings\n",
    "warnings.filterwarnings(\"ignore\")\n",
    "%run -i ../notebooks/functions/functions.py"
   ]
  },
  {
   "cell_type": "markdown",
   "id": "de380ec2-866b-4434-ad57-8abc7f3c0806",
   "metadata": {
    "tags": []
   },
   "source": [
    "## Population"
   ]
  },
  {
   "cell_type": "markdown",
   "id": "20d3e3b5-e22e-4e37-b8b5-70fa800af56b",
   "metadata": {
    "tags": []
   },
   "source": [
    "### Population Import"
   ]
  },
  {
   "cell_type": "code",
   "execution_count": 2,
   "id": "e2a430b3-bfa9-4e77-96bd-85b64916cc6f",
   "metadata": {},
   "outputs": [],
   "source": [
    "# Read population csv\n",
    "df = pd.read_csv(\"../raw_data/density/population/population.csv\")"
   ]
  },
  {
   "cell_type": "markdown",
   "id": "bde60033-b77d-40a5-b14e-5337b5a531ad",
   "metadata": {},
   "source": [
    "### Cleaning"
   ]
  },
  {
   "cell_type": "code",
   "execution_count": 3,
   "id": "a65f874f-d62b-48d1-9587-97d847b690b4",
   "metadata": {},
   "outputs": [],
   "source": [
    "# Separate 2000 and 2010 data\n",
    "df_2000 = df.iloc[0:195]\n",
    "df_2010 = df.iloc[195:]\n",
    "df_2010 = df_2010.reset_index()"
   ]
  },
  {
   "cell_type": "code",
   "execution_count": 4,
   "id": "6f47768c-a589-4748-832e-155cef92fd00",
   "metadata": {},
   "outputs": [],
   "source": [
    "# Change names and drop unused columns\n",
    "df_2010['ntacode'] = df_2010['NTA Code']\n",
    "df_2010 = df_2010.drop(['index','Borough','Year','FIPS County Code','NTA Name','NTA Code'], axis=1)"
   ]
  },
  {
   "cell_type": "markdown",
   "id": "df2cc261-8450-4e74-8c70-781a55d9eea3",
   "metadata": {},
   "source": [
    "### Geocoding"
   ]
  },
  {
   "cell_type": "code",
   "execution_count": 43,
   "id": "48e669f7-4884-4756-9f7c-9e9361da6b1f",
   "metadata": {},
   "outputs": [],
   "source": [
    "# Read shape data\n",
    "poly = gpd.read_file(\"../raw_data/density/population/geo_export.shp\")\n",
    "# Invert lat-long to conform with our standard\n",
    "poly['geometry'] = poly.geometry.map(lambda polygon: shapely.ops.transform(lambda x, y: (y, x), polygon))\n",
    "# Find centroids of NTAs\n",
    "poly.centroid\n",
    "poly[\"NTA_lat\"] = poly.centroid.x\n",
    "poly[\"NTA_long\"] = poly.centroid.y\n",
    "# Create NTA object\n",
    "NTAs = poly.drop(['boro_code', 'boro_name', 'county_fip', 'shape_area', 'shape_leng', 'geometry', 'ntaname'], axis=1)"
   ]
  },
  {
   "cell_type": "markdown",
   "id": "9d4d032a-5715-4c47-89af-624a026a966b",
   "metadata": {},
   "source": [
    "### Additional Cleaning"
   ]
  },
  {
   "cell_type": "code",
   "execution_count": 44,
   "id": "9d74ed29-bd45-4741-85ba-8d5a0f2bd621",
   "metadata": {},
   "outputs": [],
   "source": [
    "# Fix index and drop additional unused column\n",
    "population = NTAs.set_index('ntacode').join(df_2010.set_index('ntacode'))\n",
    "geocoded_population = population.reset_index()\n",
    "geocoded_population = geocoded_population.drop(['ntacode'], axis=1)"
   ]
  },
  {
   "cell_type": "code",
   "execution_count": 7,
   "id": "c52dcc3a-0a84-48b7-91d3-36aa88f15cd6",
   "metadata": {},
   "outputs": [],
   "source": [
    "# Replace 0 values with median\n",
    "geocoded_population = geocoded_population.replace(to_replace={'Population': {0: df['Population'].median()}}, value=None)"
   ]
  },
  {
   "cell_type": "markdown",
   "id": "27d7832d-1481-4bf4-81d0-0341e7878938",
   "metadata": {},
   "source": [
    "### Population Export"
   ]
  },
  {
   "cell_type": "code",
   "execution_count": 45,
   "id": "8b7ecc07-735e-44d1-8b1a-26838a5b0d2c",
   "metadata": {},
   "outputs": [],
   "source": [
    "# Save processed CSV\n",
    "geocoded_population.to_csv('../processed_data/density/geocoded_population.csv', index=False, encoding='utf-8')"
   ]
  },
  {
   "cell_type": "markdown",
   "id": "60e485f0-2087-4483-831a-4feaf588a6ce",
   "metadata": {
    "tags": []
   },
   "source": [
    "## Car Traffic"
   ]
  },
  {
   "cell_type": "markdown",
   "id": "db549593-1203-489c-adf2-7dc24bd6ae0e",
   "metadata": {
    "tags": []
   },
   "source": [
    "### Traffic Import"
   ]
  },
  {
   "cell_type": "code",
   "execution_count": 9,
   "id": "9b6d7a84-46a6-4003-9260-3bf4eb3249d4",
   "metadata": {},
   "outputs": [],
   "source": [
    "# Read car traffic CSV\n",
    "df = pd.read_csv(\"../raw_data/density/traffic/traffic.csv\")"
   ]
  },
  {
   "cell_type": "markdown",
   "id": "6ef6a883-29f4-4a06-be08-9b6da5ea1bb3",
   "metadata": {},
   "source": [
    "### Cleaning"
   ]
  },
  {
   "cell_type": "code",
   "execution_count": 10,
   "id": "6484ac81-4007-4be4-8a6a-37f46f1132d6",
   "metadata": {},
   "outputs": [],
   "source": [
    "# Separate 2020 data from the rest\n",
    "df = df[df[\"Date\"].str.contains(\"2020\") == True]\n",
    "# Convert hourly data to full day average\n",
    "df['traffic'] = (df.iloc[:, 5:].sum(axis=1)) / 24\n",
    "# Drop unused columns\n",
    "df = df[['ID', 'Roadway Name', 'To', 'traffic']].copy()"
   ]
  },
  {
   "cell_type": "code",
   "execution_count": 11,
   "id": "66fd3627-d572-4d3b-8ccc-af14750ef01d",
   "metadata": {},
   "outputs": [],
   "source": [
    "# Bin roadways by ID\n",
    "df_mean = df.groupby(['ID']).mean()\n",
    "df_mean = df_mean.reset_index()"
   ]
  },
  {
   "cell_type": "code",
   "execution_count": 12,
   "id": "58f6d4b8-6791-4e01-9b57-eac8353d14ff",
   "metadata": {},
   "outputs": [],
   "source": [
    "# Drop duplicates\n",
    "df = df.drop(['traffic'], axis=1)\n",
    "df = df.drop_duplicates()"
   ]
  },
  {
   "cell_type": "code",
   "execution_count": 13,
   "id": "62cbbfc9-43f0-46ef-921b-f45cc6de6bfc",
   "metadata": {},
   "outputs": [],
   "source": [
    "# Prepare traffic object for geocoding\n",
    "traffic = df.set_index('ID').join(df_mean.set_index('ID'))\n",
    "traffic = traffic.reset_index()\n",
    "traffic = traffic.drop_duplicates(subset=['ID'], keep='first')"
   ]
  },
  {
   "cell_type": "markdown",
   "id": "9568cdb3-ba2b-425f-834d-3e5328abc476",
   "metadata": {
    "tags": []
   },
   "source": [
    "### Geocoding"
   ]
  },
  {
   "cell_type": "code",
   "execution_count": 14,
   "id": "c32f5494-fd54-4444-b94f-306f88146c88",
   "metadata": {},
   "outputs": [],
   "source": [
    "# THIS HAS BEEN COMMENTED OUT FOR SAKE OF MY WALLET, DATA HAS BEEN SAVED"
   ]
  },
  {
   "cell_type": "code",
   "execution_count": 15,
   "id": "388874e4-8ff7-4783-83cb-94c11e1c641c",
   "metadata": {},
   "outputs": [],
   "source": [
    " # Create google maps client object\n",
    "#gmaps = googlemaps.Client(key='GOOGLE_API_KEY')"
   ]
  },
  {
   "cell_type": "code",
   "execution_count": 16,
   "id": "9e8b093d-cba5-435e-a884-a5ab6ae00622",
   "metadata": {},
   "outputs": [],
   "source": [
    " # Pull lat-long data for each roadway bin\n",
    "#lat_long = []\n",
    "#for i in range(len(traffic)):\n",
    "#    first = traffic.iloc[i][1]\n",
    "#    second = traffic.iloc[i][2]\n",
    "#    geocode_result = gmaps.geocode(f'{first}, {second}, NY')\n",
    "#    coords = (geocode_result[0]['geometry']['location']['lat'], geocode_result[0]['geometry']['location']['lng'])\n",
    "#    lat_long.append(coords)"
   ]
  },
  {
   "cell_type": "code",
   "execution_count": 17,
   "id": "540db90c-4aa2-4af9-af0d-0e96eac6b36f",
   "metadata": {},
   "outputs": [],
   "source": [
    " # Prepare lat-long data\n",
    "#lat = []\n",
    "#lng = []\n",
    "#for i in range(349):\n",
    "#    lat.append(lat_long[i][0])\n",
    "#    lng.append(lat_long[i][1])"
   ]
  },
  {
   "cell_type": "code",
   "execution_count": 18,
   "id": "e1ae4587-c97b-4777-bbb7-f896ae19c598",
   "metadata": {},
   "outputs": [],
   "source": [
    " # Append lat-long data to dataframe\n",
    "#traffic = traffic.drop(['Roadway Name', 'To', 'ID'], axis=1)\n",
    "#traffic['latitude'] = lat\n",
    "#traffic['longitude'] = lng"
   ]
  },
  {
   "cell_type": "markdown",
   "id": "f56ee11f-efc4-4f76-9a56-6cf1938e70b2",
   "metadata": {},
   "source": [
    "### Traffic Export"
   ]
  },
  {
   "cell_type": "code",
   "execution_count": 19,
   "id": "abbf928d-ed47-4027-9179-6fab592f263f",
   "metadata": {},
   "outputs": [],
   "source": [
    "# COMMENTED OUT TO AVOID ERRORS STEMMING FROM API REQUESTS\n",
    "# Save car traffic CSV\n",
    "# traffic.to_csv('../processed_data/density/geocoded_traffic.csv', index=False, encoding='utf-8')"
   ]
  },
  {
   "cell_type": "markdown",
   "id": "ddb6326c-e9cc-4abf-b185-ab4fa766d128",
   "metadata": {
    "tags": []
   },
   "source": [
    "## Pedestrian Traffic"
   ]
  },
  {
   "cell_type": "markdown",
   "id": "8888d405-9c3c-4df3-9d51-e7329b019830",
   "metadata": {
    "tags": []
   },
   "source": [
    "### Pedestrian Import"
   ]
  },
  {
   "cell_type": "code",
   "execution_count": 20,
   "id": "2526436b-57ac-44ea-821e-c0566d063d7b",
   "metadata": {},
   "outputs": [],
   "source": [
    "# Read pedestrian CSV\n",
    "df = pd.read_csv(\"../raw_data/density/pedestrian/pedestrian.csv\")"
   ]
  },
  {
   "cell_type": "markdown",
   "id": "d2597d0f-8da2-4535-9fa5-91d479fab225",
   "metadata": {
    "tags": []
   },
   "source": [
    "### Cleaning"
   ]
  },
  {
   "cell_type": "code",
   "execution_count": 21,
   "id": "288fac97-392a-4414-82fa-d1d2ee57c445",
   "metadata": {},
   "outputs": [],
   "source": [
    "# Drop unused columns\n",
    "df = df.drop(['Borough', 'Loc', 'OBJECTID', 'To_Street', 'Index'], axis=1)\n",
    "# Select used columns\n",
    "df = df[['the_geom', 'Street_Nam', 'From_Stree', 'May21_AM', 'May21_PM', 'May21_MD']]\n",
    "# Drop corrupted value\n",
    "df = df.drop(25)"
   ]
  },
  {
   "cell_type": "code",
   "execution_count": 22,
   "id": "56184131-21f8-4231-a87f-6b4008c2b73b",
   "metadata": {},
   "outputs": [],
   "source": [
    "# Average 2021 pedestrian traffic\n",
    "df['ped_traffic'] = (df.iloc[:, 4:].sum(axis=1)) / 3\n",
    "df = df.drop(['May21_AM', 'May21_PM', 'May21_MD'], axis=1)"
   ]
  },
  {
   "cell_type": "markdown",
   "id": "46f7da1b-b796-4ce8-836b-20ea15a3fb54",
   "metadata": {},
   "source": [
    "### Geocoding"
   ]
  },
  {
   "cell_type": "code",
   "execution_count": 23,
   "id": "46e7b432-d9c4-44c3-b497-c3847ec00b57",
   "metadata": {},
   "outputs": [],
   "source": [
    "# Break down geometry data to individual lat-long\n",
    "lat = []\n",
    "lng = []\n",
    "for i in range(113):\n",
    "    try:\n",
    "        string = df['the_geom'][i]\n",
    "        words = string.split()\n",
    "        lng.append(float(words[1][1:]))\n",
    "        lat.append(float(words[2][:-1]))\n",
    "    except KeyError:\n",
    "        lat.append(0)\n",
    "        lng.append(0)"
   ]
  },
  {
   "cell_type": "markdown",
   "id": "f1b3c631-b717-4a72-8d77-3627089b760c",
   "metadata": {},
   "source": [
    "### Additional Cleaning"
   ]
  },
  {
   "cell_type": "code",
   "execution_count": 24,
   "id": "eba4f1b3-f1d0-4ea3-b750-a9e3ab6f9d75",
   "metadata": {},
   "outputs": [
    {
     "data": {
      "text/html": [
       "<div>\n",
       "<style scoped>\n",
       "    .dataframe tbody tr th:only-of-type {\n",
       "        vertical-align: middle;\n",
       "    }\n",
       "\n",
       "    .dataframe tbody tr th {\n",
       "        vertical-align: top;\n",
       "    }\n",
       "\n",
       "    .dataframe thead th {\n",
       "        text-align: right;\n",
       "    }\n",
       "</style>\n",
       "<table border=\"1\" class=\"dataframe\">\n",
       "  <thead>\n",
       "    <tr style=\"text-align: right;\">\n",
       "      <th></th>\n",
       "      <th>ped_traffic</th>\n",
       "      <th>latitude</th>\n",
       "      <th>longitude</th>\n",
       "    </tr>\n",
       "  </thead>\n",
       "  <tbody>\n",
       "    <tr>\n",
       "      <th>0</th>\n",
       "      <td>1657.333333</td>\n",
       "      <td>40.879199</td>\n",
       "      <td>-73.904591</td>\n",
       "    </tr>\n",
       "    <tr>\n",
       "      <th>1</th>\n",
       "      <td>1169.000000</td>\n",
       "      <td>40.826628</td>\n",
       "      <td>-73.921884</td>\n",
       "    </tr>\n",
       "    <tr>\n",
       "      <th>2</th>\n",
       "      <td>3326.000000</td>\n",
       "      <td>40.862155</td>\n",
       "      <td>-73.895358</td>\n",
       "    </tr>\n",
       "    <tr>\n",
       "      <th>3</th>\n",
       "      <td>790.666667</td>\n",
       "      <td>40.881287</td>\n",
       "      <td>-73.878925</td>\n",
       "    </tr>\n",
       "    <tr>\n",
       "      <th>4</th>\n",
       "      <td>1255.333333</td>\n",
       "      <td>40.844637</td>\n",
       "      <td>-73.889564</td>\n",
       "    </tr>\n",
       "    <tr>\n",
       "      <th>...</th>\n",
       "      <td>...</td>\n",
       "      <td>...</td>\n",
       "      <td>...</td>\n",
       "    </tr>\n",
       "    <tr>\n",
       "      <th>109</th>\n",
       "      <td>157.666667</td>\n",
       "      <td>40.819495</td>\n",
       "      <td>-73.933305</td>\n",
       "    </tr>\n",
       "    <tr>\n",
       "      <th>110</th>\n",
       "      <td>60.666667</td>\n",
       "      <td>40.814131</td>\n",
       "      <td>-73.933133</td>\n",
       "    </tr>\n",
       "    <tr>\n",
       "      <th>111</th>\n",
       "      <td>58.333333</td>\n",
       "      <td>40.807555</td>\n",
       "      <td>-73.932530</td>\n",
       "    </tr>\n",
       "    <tr>\n",
       "      <th>112</th>\n",
       "      <td>29.666667</td>\n",
       "      <td>40.803769</td>\n",
       "      <td>-73.928961</td>\n",
       "    </tr>\n",
       "    <tr>\n",
       "      <th>113</th>\n",
       "      <td>252.666667</td>\n",
       "      <td>40.800345</td>\n",
       "      <td>-73.927852</td>\n",
       "    </tr>\n",
       "  </tbody>\n",
       "</table>\n",
       "<p>112 rows × 3 columns</p>\n",
       "</div>"
      ],
      "text/plain": [
       "     ped_traffic   latitude  longitude\n",
       "0    1657.333333  40.879199 -73.904591\n",
       "1    1169.000000  40.826628 -73.921884\n",
       "2    3326.000000  40.862155 -73.895358\n",
       "3     790.666667  40.881287 -73.878925\n",
       "4    1255.333333  40.844637 -73.889564\n",
       "..           ...        ...        ...\n",
       "109   157.666667  40.819495 -73.933305\n",
       "110    60.666667  40.814131 -73.933133\n",
       "111    58.333333  40.807555 -73.932530\n",
       "112    29.666667  40.803769 -73.928961\n",
       "113   252.666667  40.800345 -73.927852\n",
       "\n",
       "[112 rows x 3 columns]"
      ]
     },
     "execution_count": 24,
     "metadata": {},
     "output_type": "execute_result"
    }
   ],
   "source": [
    "# Drop unused columns\n",
    "df = df.drop(['Street_Nam', 'From_Stree', 'the_geom'], axis=1)\n",
    "# Rename lat-long as per our conventions\n",
    "df['latitude'] = lat\n",
    "df['longitude'] = lng\n",
    "# Remove broken lat-long data\n",
    "df = df[df.latitude != 0]\n",
    "# Replace 0 values with median\n",
    "#df.replace(to_replace={'ped_traffic': {0: df['ped_traffic'].median()}}, value=None)"
   ]
  },
  {
   "cell_type": "markdown",
   "id": "6c1806a0-a087-43bb-ab52-5c64afc85ba8",
   "metadata": {},
   "source": [
    "### Pedestrian Export"
   ]
  },
  {
   "cell_type": "code",
   "execution_count": 25,
   "id": "35ae8ff0-ac1a-49e3-8183-6d3684d405d7",
   "metadata": {},
   "outputs": [],
   "source": [
    "# Save to pedestrian CSV\n",
    "df.to_csv('../processed_data/density/geocoded_pedestrian.csv', index=False, encoding='utf-8')"
   ]
  },
  {
   "cell_type": "markdown",
   "id": "1edfecf3-a80d-41ce-95dc-edfdc0a0d572",
   "metadata": {
    "tags": []
   },
   "source": [
    "## Parking Meters"
   ]
  },
  {
   "cell_type": "code",
   "execution_count": 27,
   "id": "12dbe112-2605-468b-b1b6-eb5e642dacb2",
   "metadata": {},
   "outputs": [],
   "source": [
    "#df = pd.read_csv(\"/home/brian/Downloads/parking_meters.csv\")"
   ]
  },
  {
   "cell_type": "code",
   "execution_count": 39,
   "id": "5baadad1-f7df-4bc3-8da5-5965e3f2b917",
   "metadata": {},
   "outputs": [],
   "source": [
    "#import custom function python\n",
    "%run -i ../notebooks/functions/functions.py\n",
    "#get NTA centroid list\n",
    "NTA = pd.read_csv('../processed_data/NTA_coords.csv')\n",
    "import requests as re\n",
    "from IPython.display import JSON"
   ]
  },
  {
   "cell_type": "code",
   "execution_count": 33,
   "id": "3dc90d82-348a-4946-a853-1399556d9366",
   "metadata": {},
   "outputs": [],
   "source": [
    "pmeter_JSON = API('https://data.cityofnewyork.us/resource/kbkc-iav5.json', \n",
    "   '?status=Active&$limit=20000', None)"
   ]
  },
  {
   "cell_type": "code",
   "execution_count": 37,
   "id": "1b5c2567-95b7-40dc-b4d3-5db71062e5aa",
   "metadata": {},
   "outputs": [],
   "source": [
    "desired_feat = ['lat', 'long']\n",
    "\n",
    "pmeter_df = JSON_to_DF(pmeter_JSON, desired_feat)\n",
    "pmeter_df = pmeter_df.apply(pd.to_numeric, errors='coerce')\n",
    "\n",
    "pmeter_df.columns = ['latitude', 'longitude']"
   ]
  },
  {
   "cell_type": "code",
   "execution_count": 40,
   "id": "68e2ecbd-e6c0-4022-afe2-28447c635e25",
   "metadata": {},
   "outputs": [],
   "source": [
    "pmeter_binned = bin_data(pmeter_df, 'count', 'pmeters')"
   ]
  },
  {
   "cell_type": "code",
   "execution_count": 42,
   "id": "1ead2a0c-d60f-497d-8159-53ee53d81dc7",
   "metadata": {},
   "outputs": [],
   "source": [
    "pmeter_binned.to_csv('../processed_data/density/p_meter.csv', index=False, encoding='utf-8')"
   ]
  },
  {
   "cell_type": "code",
   "execution_count": null,
   "id": "71b94cba-4519-4252-a4ef-cb380b280807",
   "metadata": {},
   "outputs": [],
   "source": [
    "#df.drop(['the_geom', 'MeterNo', 'MeterType', 'Borough', 'X', 'Y'], axis=1, inplace=True)"
   ]
  },
  {
   "cell_type": "code",
   "execution_count": null,
   "id": "5ee0a160-99cb-4c9d-9063-751d67dc785d",
   "metadata": {},
   "outputs": [],
   "source": [
    "#df.dropna(inplace=True)"
   ]
  },
  {
   "cell_type": "code",
   "execution_count": null,
   "id": "522aa307-6ed0-4c91-a680-35abc44c3e6d",
   "metadata": {},
   "outputs": [],
   "source": [
    "#df = df[df[\"Status\"].str.contains('Active')]"
   ]
  },
  {
   "cell_type": "code",
   "execution_count": null,
   "id": "b9a3cb59-dfab-4e09-93d0-275469370d0f",
   "metadata": {},
   "outputs": [],
   "source": [
    "#df.drop(['Status'], axis=1, inplace=True)"
   ]
  },
  {
   "cell_type": "code",
   "execution_count": null,
   "id": "cd051b46-f373-48a5-b545-2ee95db97afd",
   "metadata": {},
   "outputs": [],
   "source": [
    "#df = df.rename(columns={\"LONG\": \"longitude\", \"LAT\": \"latitude\"})"
   ]
  },
  {
   "cell_type": "code",
   "execution_count": null,
   "id": "841ef9e1-5eec-4291-a20b-ef5fad81fa51",
   "metadata": {},
   "outputs": [],
   "source": [
    "#df.info()"
   ]
  },
  {
   "cell_type": "code",
   "execution_count": null,
   "id": "694769c9-a017-4fe6-a32b-d6d3facfa1ce",
   "metadata": {},
   "outputs": [],
   "source": [
    "#df.to_csv('../processed_data/density/p_meter.csv', index=False, encoding='utf-8')"
   ]
  },
  {
   "cell_type": "code",
   "execution_count": null,
   "id": "ef36b4b8-042b-4e1f-b3fc-e207c9ea2a28",
   "metadata": {},
   "outputs": [],
   "source": []
  }
 ],
 "metadata": {
  "kernelspec": {
   "display_name": "Python 3 (ipykernel)",
   "language": "python",
   "name": "python3"
  },
  "language_info": {
   "codemirror_mode": {
    "name": "ipython",
    "version": 3
   },
   "file_extension": ".py",
   "mimetype": "text/x-python",
   "name": "python",
   "nbconvert_exporter": "python",
   "pygments_lexer": "ipython3",
   "version": "3.9.7"
  }
 },
 "nbformat": 4,
 "nbformat_minor": 5
}
