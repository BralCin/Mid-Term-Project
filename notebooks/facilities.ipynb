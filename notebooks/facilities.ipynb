{
 "cells": [
  {
   "cell_type": "markdown",
   "id": "1fc3d9a5-5c29-4b82-b788-3a7eff92efd7",
   "metadata": {},
   "source": [
    "## Setup"
   ]
  },
  {
   "cell_type": "code",
   "execution_count": 1,
   "id": "fe3165f2-c41f-49b3-afc1-75b9ec062797",
   "metadata": {},
   "outputs": [],
   "source": [
    "import os\n",
    "import pandas as pd\n",
    "import requests as re\n",
    "from IPython.display import JSON"
   ]
  },
  {
   "cell_type": "code",
   "execution_count": 3,
   "id": "bdfdc662-a1a2-4df6-a034-d923d93d7b84",
   "metadata": {},
   "outputs": [],
   "source": [
    "#and a dictionary of the parameters to define\n",
    "def API(root, search_term, param, header=None):\n",
    "    \"\"\"search_term must be a string of valid end point queries \n",
    "            - as specified by the relevent documentation\n",
    "            \n",
    "            returns JSON of results\n",
    "   \"\"\"\n",
    " \n",
    "    #define endpoint\n",
    "    if search_term is not None:\n",
    "        endpoint = root + search_term\n",
    "    else:\n",
    "        endpoint = root\n",
    "    \n",
    "    #GET\n",
    "    response = re.get(endpoint, params = param, headers=header)\n",
    "   \n",
    "    #return status code and results\n",
    "    status_code, results = response.status_code, response.json()\n",
    "    \n",
    "    #Let's make sure it worked\n",
    "    if status_code != 200:\n",
    "        print('Something went wrong!')\n",
    "        print(status_code)\n",
    "        \n",
    "    return results"
   ]
  },
  {
   "cell_type": "code",
   "execution_count": 12,
   "id": "cf1f042b-2b22-4116-ab9f-16699bb5351e",
   "metadata": {},
   "outputs": [],
   "source": [
    "test_param = {'latitude': 45.6387, 'longitude':-122.6615, 'radius': 1000}\n",
    "test_param2 = {'ll': '45.6387,-122.6615', 'radius': 1000}\n",
    "yelp_head = {\"Authorization\": f\"Bearer {os.environ['YELP_API']}\"}\n",
    "four_head = {\"Accept\": \"application/json\",\n",
    "                  \"Authorization\": os.environ['FOURSQUARE_API_KEY']}\n",
    "             "
   ]
  },
  {
   "cell_type": "code",
   "execution_count": 13,
   "id": "a9034402-0473-46e3-a9e2-8233213fec85",
   "metadata": {},
   "outputs": [
    {
     "name": "stdout",
     "output_type": "stream",
     "text": [
      "True\n"
     ]
    },
    {
     "data": {
      "text/plain": [
       "True"
      ]
     },
     "execution_count": 13,
     "metadata": {},
     "output_type": "execute_result"
    }
   ],
   "source": [
    "#test it's working\n",
    "print(bool(API(\"https://api.yelp.com/\", 'v3/businesses/search', test_param, yelp_head)))\n",
    "bool(API(\"https://api.foursquare.com/\", 'v3/places/search', test_param2, four_head))"
   ]
  },
  {
   "cell_type": "markdown",
   "id": "a56e23c2-c8e7-4ef4-b5ed-a1d812e33d68",
   "metadata": {},
   "source": [
    "## Exploration"
   ]
  },
  {
   "cell_type": "markdown",
   "id": "8341b07e-bcab-48ed-bc00-ebdb36f7494a",
   "metadata": {},
   "source": [
    "See MiniProject 4 Google Doc for more details"
   ]
  },
  {
   "cell_type": "markdown",
   "id": "fd6fb7d5-e735-4676-ac81-dcec4d56c880",
   "metadata": {},
   "source": [
    "### OpenData"
   ]
  },
  {
   "cell_type": "code",
   "execution_count": 36,
   "id": "64a7c976-bf82-47c9-b30f-0c0d86be35ec",
   "metadata": {},
   "outputs": [],
   "source": [
    "#function to retrieve data from SODA datasets within inputted time frame\n",
    "def range_SODA(root, column, time_range, params=None):\n",
    "  \n",
    "    range_endpoint = f\"?$where=project_start_date between '{time_range[0]}' and '{time_range[1]}'\"\n",
    "    \n",
    "    endpoint = root + range_endpoint\n",
    "    \n",
    "    results = API(endpoint, None, params)\n",
    "    \n",
    "    return results"
   ]
  },
  {
   "cell_type": "code",
   "execution_count": 4,
   "id": "b0584e96-d0c6-4909-8be8-43e9ff4a7c23",
   "metadata": {},
   "outputs": [],
   "source": [
    "#set standard variables\n",
    "range_start = '2021-02-01T00:00:00'\n",
    "range_end = '2021-02-28T00:00:00'\n",
    "range_21 = [range_start, range_end]\n",
    "\n",
    "#roots of the different datasets\n",
    "#Housing\n",
    "housing_root = 'https://data.cityofnewyork.us/resource/hg8x-zxpr.json'\n",
    "\n",
    "#Areas of Interest\n",
    "facilities_root = 'https://data.cityofnewyork.us/resource/ji82-xba5.json'\n",
    "places_root = 'https://data.cityofnewyork.us/resource/ssdk-4qjy.json'\n",
    "parks_root = 'https://data.cityofnewyork.us/resource/enfh-gkve.json'\n",
    "hotels_root = 'https://data.cityofnewyork.us/resource/tjus-cn27.json'\n",
    "library_root = 'https://data.cityofnewyork.us/resource/feuq-due4.json'\n",
    "\n",
    "#Business\n",
    "business_root = 'https://data.cityofnewyork.us/resource/w7w3-xahh.json'"
   ]
  },
  {
   "cell_type": "code",
   "execution_count": 28,
   "id": "b6cc118c-d234-443e-952b-1a8e14163c23",
   "metadata": {},
   "outputs": [],
   "source": [
    "def JSON_to_DF(JSON, desired_features):\n",
    " \n",
    "    columns = {}\n",
    "    \n",
    "    #for each desired column\n",
    "    for feat in desired_features: \n",
    "        #empty value list\n",
    "        values = []\n",
    "        #for each project\n",
    "        for element in JSON:\n",
    "            #try to append value\n",
    "            try:\n",
    "                values.append(element[feat])\n",
    "            #if error means no value append NaaN\n",
    "            except:\n",
    "                values.append('NaaN')\n",
    "            \n",
    "        columns[feat] = values\n",
    "\n",
    "    #make dict into pandas dataframe        \n",
    "    return pd.DataFrame(columns)                    "
   ]
  },
  {
   "cell_type": "markdown",
   "id": "024cb881-8a37-40b4-8a3a-9092fd68cf02",
   "metadata": {
    "tags": []
   },
   "source": [
    "#### Housing"
   ]
  },
  {
   "cell_type": "code",
   "execution_count": 81,
   "id": "ba6b9c06-af0c-40f1-a887-7e3fa1b0a281",
   "metadata": {},
   "outputs": [],
   "source": [
    "#-- API call -- \n",
    "\n",
    "#call housing data within range\n",
    "housing_start_JSON = range_SODA(housing_root, 'project_start_date', range_21)\n",
    "housing_complete_JSON = range_SODA(housing_root, 'project_completion_date', ['2020-11-01T00:00:00', '2021-03-01T00:00:00'])"
   ]
  },
  {
   "cell_type": "code",
   "execution_count": 98,
   "id": "15a4e781-caed-4827-9ceb-82d046998667",
   "metadata": {},
   "outputs": [],
   "source": [
    "#id desired features\n",
    "desired_feat = ['project_id', 'project_name', 'latitude', 'longitude', 'all_counted_units', 'total_units']"
   ]
  },
  {
   "cell_type": "code",
   "execution_count": 97,
   "id": "8a0bec89-4224-42db-affa-84d7c5e59583",
   "metadata": {},
   "outputs": [
    {
     "data": {
      "text/html": [
       "<div>\n",
       "<style scoped>\n",
       "    .dataframe tbody tr th:only-of-type {\n",
       "        vertical-align: middle;\n",
       "    }\n",
       "\n",
       "    .dataframe tbody tr th {\n",
       "        vertical-align: top;\n",
       "    }\n",
       "\n",
       "    .dataframe thead th {\n",
       "        text-align: right;\n",
       "    }\n",
       "</style>\n",
       "<table border=\"1\" class=\"dataframe\">\n",
       "  <thead>\n",
       "    <tr style=\"text-align: right;\">\n",
       "      <th></th>\n",
       "      <th>project_id</th>\n",
       "      <th>project_name</th>\n",
       "      <th>latitude</th>\n",
       "      <th>longitude</th>\n",
       "      <th>all_counted_units</th>\n",
       "      <th>total_units</th>\n",
       "    </tr>\n",
       "  </thead>\n",
       "  <tbody>\n",
       "    <tr>\n",
       "      <th>0</th>\n",
       "      <td>70849</td>\n",
       "      <td>1893 CROTONA AVENUE APARTMENTS</td>\n",
       "      <td>40.844171</td>\n",
       "      <td>-73.892197</td>\n",
       "      <td>9</td>\n",
       "      <td>28</td>\n",
       "    </tr>\n",
       "    <tr>\n",
       "      <th>1</th>\n",
       "      <td>70851</td>\n",
       "      <td>1634 CHURCH AVENUE APARTMENTS</td>\n",
       "      <td>40.648856</td>\n",
       "      <td>-73.964536</td>\n",
       "      <td>15</td>\n",
       "      <td>48</td>\n",
       "    </tr>\n",
       "    <tr>\n",
       "      <th>2</th>\n",
       "      <td>70853</td>\n",
       "      <td>770 &amp; 774 LEXINGTON AVENUE APARTMENTS</td>\n",
       "      <td>40.690236</td>\n",
       "      <td>-73.928624</td>\n",
       "      <td>3</td>\n",
       "      <td>10</td>\n",
       "    </tr>\n",
       "    <tr>\n",
       "      <th>3</th>\n",
       "      <td>70853</td>\n",
       "      <td>770 &amp; 774 LEXINGTON AVENUE APARTMENTS</td>\n",
       "      <td>40.690252</td>\n",
       "      <td>-73.928495</td>\n",
       "      <td>3</td>\n",
       "      <td>10</td>\n",
       "    </tr>\n",
       "    <tr>\n",
       "      <th>4</th>\n",
       "      <td>70856</td>\n",
       "      <td>142 LENOX ROAD</td>\n",
       "      <td>40.653856</td>\n",
       "      <td>-73.954709</td>\n",
       "      <td>5</td>\n",
       "      <td>16</td>\n",
       "    </tr>\n",
       "  </tbody>\n",
       "</table>\n",
       "</div>"
      ],
      "text/plain": [
       "  project_id                           project_name   latitude   longitude  \\\n",
       "0      70849         1893 CROTONA AVENUE APARTMENTS  40.844171  -73.892197   \n",
       "1      70851          1634 CHURCH AVENUE APARTMENTS  40.648856  -73.964536   \n",
       "2      70853  770 & 774 LEXINGTON AVENUE APARTMENTS  40.690236  -73.928624   \n",
       "3      70853  770 & 774 LEXINGTON AVENUE APARTMENTS  40.690252  -73.928495   \n",
       "4      70856                         142 LENOX ROAD  40.653856  -73.954709   \n",
       "\n",
       "  all_counted_units total_units  \n",
       "0                 9          28  \n",
       "1                15          48  \n",
       "2                 3          10  \n",
       "3                 3          10  \n",
       "4                 5          16  "
      ]
     },
     "execution_count": 97,
     "metadata": {},
     "output_type": "execute_result"
    }
   ],
   "source": [
    "house_start_df = JSON_to_DF(housing_start_JSON, desired_feat)\n",
    "house_start_df.head()"
   ]
  },
  {
   "cell_type": "code",
   "execution_count": 99,
   "id": "2220a9a7-b657-4acd-a51b-f49b1d9960c0",
   "metadata": {},
   "outputs": [
    {
     "data": {
      "text/html": [
       "<div>\n",
       "<style scoped>\n",
       "    .dataframe tbody tr th:only-of-type {\n",
       "        vertical-align: middle;\n",
       "    }\n",
       "\n",
       "    .dataframe tbody tr th {\n",
       "        vertical-align: top;\n",
       "    }\n",
       "\n",
       "    .dataframe thead th {\n",
       "        text-align: right;\n",
       "    }\n",
       "</style>\n",
       "<table border=\"1\" class=\"dataframe\">\n",
       "  <thead>\n",
       "    <tr style=\"text-align: right;\">\n",
       "      <th></th>\n",
       "      <th>project_id</th>\n",
       "      <th>project_name</th>\n",
       "      <th>latitude</th>\n",
       "      <th>longitude</th>\n",
       "      <th>all_counted_units</th>\n",
       "      <th>total_units</th>\n",
       "    </tr>\n",
       "  </thead>\n",
       "  <tbody>\n",
       "    <tr>\n",
       "      <th>0</th>\n",
       "      <td>70507</td>\n",
       "      <td>25-22 30TH DRIVE</td>\n",
       "      <td>40.766618</td>\n",
       "      <td>-73.925719</td>\n",
       "      <td>10</td>\n",
       "      <td>31</td>\n",
       "    </tr>\n",
       "    <tr>\n",
       "      <th>1</th>\n",
       "      <td>70508</td>\n",
       "      <td>27 BUCHANAN PLACE</td>\n",
       "      <td>40.858099</td>\n",
       "      <td>-73.905388</td>\n",
       "      <td>8</td>\n",
       "      <td>25</td>\n",
       "    </tr>\n",
       "    <tr>\n",
       "      <th>2</th>\n",
       "      <td>70509</td>\n",
       "      <td>834 PACIFIC STREET</td>\n",
       "      <td>40.680762</td>\n",
       "      <td>-73.966791</td>\n",
       "      <td>34</td>\n",
       "      <td>113</td>\n",
       "    </tr>\n",
       "    <tr>\n",
       "      <th>3</th>\n",
       "      <td>70510</td>\n",
       "      <td>3915 14TH AVENUE</td>\n",
       "      <td>40.639152</td>\n",
       "      <td>-73.984225</td>\n",
       "      <td>3</td>\n",
       "      <td>8</td>\n",
       "    </tr>\n",
       "    <tr>\n",
       "      <th>4</th>\n",
       "      <td>70511</td>\n",
       "      <td>ROOSEVELT PARC APARTMENTS</td>\n",
       "      <td>40.747525</td>\n",
       "      <td>-73.893776</td>\n",
       "      <td>47</td>\n",
       "      <td>154</td>\n",
       "    </tr>\n",
       "  </tbody>\n",
       "</table>\n",
       "</div>"
      ],
      "text/plain": [
       "  project_id               project_name   latitude   longitude  \\\n",
       "0      70507           25-22 30TH DRIVE  40.766618  -73.925719   \n",
       "1      70508          27 BUCHANAN PLACE  40.858099  -73.905388   \n",
       "2      70509         834 PACIFIC STREET  40.680762  -73.966791   \n",
       "3      70510           3915 14TH AVENUE  40.639152  -73.984225   \n",
       "4      70511  ROOSEVELT PARC APARTMENTS  40.747525  -73.893776   \n",
       "\n",
       "  all_counted_units total_units  \n",
       "0                10          31  \n",
       "1                 8          25  \n",
       "2                34         113  \n",
       "3                 3           8  \n",
       "4                47         154  "
      ]
     },
     "execution_count": 99,
     "metadata": {},
     "output_type": "execute_result"
    }
   ],
   "source": [
    "house_end_df = JSON_to_DF(housing_complete_JSON, desired_feat)\n",
    "house_end_df.head()"
   ]
  },
  {
   "cell_type": "markdown",
   "id": "7f52e06d-ad6e-422e-b7e8-3a5baff8a655",
   "metadata": {},
   "source": [
    "#### Other"
   ]
  },
  {
   "cell_type": "code",
   "execution_count": 57,
   "id": "0a90d59f-cd74-4f68-ac05-57d0c342dcb6",
   "metadata": {},
   "outputs": [],
   "source": [
    "#-- API call-- \n",
    "#for the smaller datasets, no filter required\n",
    "places_JSON = API(places_root, None, None)\n",
    "library_JSON = API(library_root, None, None)\n",
    "#only pull active parks\n",
    "parks_JSON = API(parks_root, None, {'retired':'false'})"
   ]
  },
  {
   "cell_type": "code",
   "execution_count": 60,
   "id": "6957e00d-0188-49e4-9927-0ec8ce3c212d",
   "metadata": {},
   "outputs": [
    {
     "name": "stdout",
     "output_type": "stream",
     "text": [
      "(96, 4)\n"
     ]
    },
    {
     "data": {
      "text/html": [
       "<div>\n",
       "<style scoped>\n",
       "    .dataframe tbody tr th:only-of-type {\n",
       "        vertical-align: middle;\n",
       "    }\n",
       "\n",
       "    .dataframe tbody tr th {\n",
       "        vertical-align: top;\n",
       "    }\n",
       "\n",
       "    .dataframe thead th {\n",
       "        text-align: right;\n",
       "    }\n",
       "</style>\n",
       "<table border=\"1\" class=\"dataframe\">\n",
       "  <thead>\n",
       "    <tr style=\"text-align: right;\">\n",
       "      <th></th>\n",
       "      <th>objectid</th>\n",
       "      <th>name</th>\n",
       "      <th>annoline2a</th>\n",
       "      <th>the_geom</th>\n",
       "    </tr>\n",
       "  </thead>\n",
       "  <tbody>\n",
       "    <tr>\n",
       "      <th>0</th>\n",
       "      <td>1</td>\n",
       "      <td>Van Cortlandt Park</td>\n",
       "      <td>Cortlandt</td>\n",
       "      <td>{'type': 'Point', 'coordinates': [-73.88895811...</td>\n",
       "    </tr>\n",
       "    <tr>\n",
       "      <th>1</th>\n",
       "      <td>2</td>\n",
       "      <td>Woodlawn Cemetery</td>\n",
       "      <td>Cemetery</td>\n",
       "      <td>{'type': 'Point', 'coordinates': [-73.87165102...</td>\n",
       "    </tr>\n",
       "    <tr>\n",
       "      <th>2</th>\n",
       "      <td>3</td>\n",
       "      <td>Seton Falls Park</td>\n",
       "      <td>Falls</td>\n",
       "      <td>{'type': 'Point', 'coordinates': [-73.83864188...</td>\n",
       "    </tr>\n",
       "    <tr>\n",
       "      <th>3</th>\n",
       "      <td>4</td>\n",
       "      <td>Pelham Bay Park</td>\n",
       "      <td>Bay</td>\n",
       "      <td>{'type': 'Point', 'coordinates': [-73.80980242...</td>\n",
       "    </tr>\n",
       "    <tr>\n",
       "      <th>4</th>\n",
       "      <td>5</td>\n",
       "      <td>Botanical Garden</td>\n",
       "      <td>Garden</td>\n",
       "      <td>{'type': 'Point', 'coordinates': [-73.87830775...</td>\n",
       "    </tr>\n",
       "  </tbody>\n",
       "</table>\n",
       "</div>"
      ],
      "text/plain": [
       "  objectid                name annoline2a  \\\n",
       "0        1  Van Cortlandt Park  Cortlandt   \n",
       "1        2   Woodlawn Cemetery   Cemetery   \n",
       "2        3    Seton Falls Park      Falls   \n",
       "3        4     Pelham Bay Park        Bay   \n",
       "4        5    Botanical Garden     Garden   \n",
       "\n",
       "                                            the_geom  \n",
       "0  {'type': 'Point', 'coordinates': [-73.88895811...  \n",
       "1  {'type': 'Point', 'coordinates': [-73.87165102...  \n",
       "2  {'type': 'Point', 'coordinates': [-73.83864188...  \n",
       "3  {'type': 'Point', 'coordinates': [-73.80980242...  \n",
       "4  {'type': 'Point', 'coordinates': [-73.87830775...  "
      ]
     },
     "execution_count": 60,
     "metadata": {},
     "output_type": "execute_result"
    }
   ],
   "source": [
    "#pull out desired feats from places\n",
    "desired_feat = ['objectid', 'name', 'annoline2a', 'the_geom']\n",
    "places_df = JSON_to_DF(places_JSON, desired_feat)\n",
    "print(places_df.shape)\n",
    "places_df.head()"
   ]
  },
  {
   "cell_type": "code",
   "execution_count": 61,
   "id": "795bdee9-a049-414b-8ca8-01c4844b8e26",
   "metadata": {},
   "outputs": [
    {
     "name": "stdout",
     "output_type": "stream",
     "text": [
      "(216, 3)\n"
     ]
    },
    {
     "data": {
      "text/html": [
       "<div>\n",
       "<style scoped>\n",
       "    .dataframe tbody tr th:only-of-type {\n",
       "        vertical-align: middle;\n",
       "    }\n",
       "\n",
       "    .dataframe tbody tr th {\n",
       "        vertical-align: top;\n",
       "    }\n",
       "\n",
       "    .dataframe thead th {\n",
       "        text-align: right;\n",
       "    }\n",
       "</style>\n",
       "<table border=\"1\" class=\"dataframe\">\n",
       "  <thead>\n",
       "    <tr style=\"text-align: right;\">\n",
       "      <th></th>\n",
       "      <th>bin</th>\n",
       "      <th>name</th>\n",
       "      <th>the_geom</th>\n",
       "    </tr>\n",
       "  </thead>\n",
       "  <tbody>\n",
       "    <tr>\n",
       "      <th>0</th>\n",
       "      <td>1055236</td>\n",
       "      <td>115th Street</td>\n",
       "      <td>{'type': 'Point', 'coordinates': [-73.95353074...</td>\n",
       "    </tr>\n",
       "    <tr>\n",
       "      <th>1</th>\n",
       "      <td>1054674</td>\n",
       "      <td>125th Street</td>\n",
       "      <td>{'type': 'Point', 'coordinates': [-73.93484756...</td>\n",
       "    </tr>\n",
       "    <tr>\n",
       "      <th>2</th>\n",
       "      <td>1089376</td>\n",
       "      <td>53rd Street</td>\n",
       "      <td>{'type': 'Point', 'coordinates': [-73.97736329...</td>\n",
       "    </tr>\n",
       "    <tr>\n",
       "      <th>3</th>\n",
       "      <td>1037165</td>\n",
       "      <td>58th Street</td>\n",
       "      <td>{'type': 'Point', 'coordinates': [-73.96938170...</td>\n",
       "    </tr>\n",
       "    <tr>\n",
       "      <th>4</th>\n",
       "      <td>1044749</td>\n",
       "      <td>67th Street</td>\n",
       "      <td>{'type': 'Point', 'coordinates': [-73.95954994...</td>\n",
       "    </tr>\n",
       "  </tbody>\n",
       "</table>\n",
       "</div>"
      ],
      "text/plain": [
       "       bin          name                                           the_geom\n",
       "0  1055236  115th Street  {'type': 'Point', 'coordinates': [-73.95353074...\n",
       "1  1054674  125th Street  {'type': 'Point', 'coordinates': [-73.93484756...\n",
       "2  1089376   53rd Street  {'type': 'Point', 'coordinates': [-73.97736329...\n",
       "3  1037165   58th Street  {'type': 'Point', 'coordinates': [-73.96938170...\n",
       "4  1044749   67th Street  {'type': 'Point', 'coordinates': [-73.95954994..."
      ]
     },
     "execution_count": 61,
     "metadata": {},
     "output_type": "execute_result"
    }
   ],
   "source": [
    "#pull out desired feats from library\n",
    "desired_feat = ['bin', 'name', 'the_geom']\n",
    "library_df = JSON_to_DF(library_JSON, desired_feat)\n",
    "print(library_df.shape)\n",
    "library_df.head()"
   ]
  },
  {
   "cell_type": "code",
   "execution_count": 59,
   "id": "36513ca7-957e-4255-975a-af92e1f6247c",
   "metadata": {},
   "outputs": [
    {
     "name": "stdout",
     "output_type": "stream",
     "text": [
      "(1000, 4)\n"
     ]
    },
    {
     "data": {
      "text/html": [
       "<div>\n",
       "<style scoped>\n",
       "    .dataframe tbody tr th:only-of-type {\n",
       "        vertical-align: middle;\n",
       "    }\n",
       "\n",
       "    .dataframe tbody tr th {\n",
       "        vertical-align: top;\n",
       "    }\n",
       "\n",
       "    .dataframe thead th {\n",
       "        text-align: right;\n",
       "    }\n",
       "</style>\n",
       "<table border=\"1\" class=\"dataframe\">\n",
       "  <thead>\n",
       "    <tr style=\"text-align: right;\">\n",
       "      <th></th>\n",
       "      <th>objectid</th>\n",
       "      <th>address</th>\n",
       "      <th>location</th>\n",
       "      <th>acres</th>\n",
       "    </tr>\n",
       "  </thead>\n",
       "  <tbody>\n",
       "    <tr>\n",
       "      <th>0</th>\n",
       "      <td>5548</td>\n",
       "      <td>NaaN</td>\n",
       "      <td>East River</td>\n",
       "      <td>21.10936646</td>\n",
       "    </tr>\n",
       "    <tr>\n",
       "      <th>1</th>\n",
       "      <td>5170</td>\n",
       "      <td>538 MACON STREET</td>\n",
       "      <td>Macdonough St. between Malcolm X Blvd. and Stu...</td>\n",
       "      <td>0.89</td>\n",
       "    </tr>\n",
       "    <tr>\n",
       "      <th>2</th>\n",
       "      <td>6349</td>\n",
       "      <td>50 COLUMBIA STREET</td>\n",
       "      <td>Columbia St., Hicks St. bet. Congress St. and ...</td>\n",
       "      <td>5.739</td>\n",
       "    </tr>\n",
       "    <tr>\n",
       "      <th>3</th>\n",
       "      <td>6063</td>\n",
       "      <td>NaaN</td>\n",
       "      <td>LIE Srv. Rd. S. at 86 St.</td>\n",
       "      <td>0.001</td>\n",
       "    </tr>\n",
       "    <tr>\n",
       "      <th>4</th>\n",
       "      <td>4884</td>\n",
       "      <td>8302 FT HAMILTON PARKWAY</td>\n",
       "      <td>Ft Hamilton Pkwy., 83 St., 6 Ave.</td>\n",
       "      <td>0.032</td>\n",
       "    </tr>\n",
       "  </tbody>\n",
       "</table>\n",
       "</div>"
      ],
      "text/plain": [
       "  objectid                   address  \\\n",
       "0     5548                      NaaN   \n",
       "1     5170          538 MACON STREET   \n",
       "2     6349        50 COLUMBIA STREET   \n",
       "3     6063                      NaaN   \n",
       "4     4884  8302 FT HAMILTON PARKWAY   \n",
       "\n",
       "                                            location        acres  \n",
       "0                                         East River  21.10936646  \n",
       "1  Macdonough St. between Malcolm X Blvd. and Stu...         0.89  \n",
       "2  Columbia St., Hicks St. bet. Congress St. and ...        5.739  \n",
       "3                          LIE Srv. Rd. S. at 86 St.        0.001  \n",
       "4                  Ft Hamilton Pkwy., 83 St., 6 Ave.        0.032  "
      ]
     },
     "execution_count": 59,
     "metadata": {},
     "output_type": "execute_result"
    }
   ],
   "source": [
    "#pull out desired feats from parks\n",
    "desired_feat = ['objectid', 'address', 'location', 'acres']\n",
    "parks_df = JSON_to_DF(parks_JSON, desired_feat)\n",
    "print(parks_df.shape)\n",
    "parks_df.head()"
   ]
  },
  {
   "cell_type": "markdown",
   "id": "fc01f608-ce92-4d88-b169-714ca6fc3502",
   "metadata": {},
   "source": [
    "Bigger sets, want to pull just based on specific categories so we're getting a clearer picture\n",
    "\n",
    "See `facilities_datadictionary.xlsx` for possible facility category, subcatory, and factype\n",
    "\n",
    "#hotels_JSON = API(hotels_root, None, None)"
   ]
  },
  {
   "cell_type": "code",
   "execution_count": 160,
   "id": "4fc474ba-9377-4d87-a1c9-655ad3351ccc",
   "metadata": {},
   "outputs": [],
   "source": [
    "facility_JSONs = {}"
   ]
  },
  {
   "cell_type": "code",
   "execution_count": 48,
   "id": "80877d9c-083f-43f8-85dd-f7063ba36199",
   "metadata": {},
   "outputs": [],
   "source": [
    "#-- API call--\n",
    "\n",
    "#make dict to store JSON returns\n",
    "facility_JSONs = {}\n",
    "\n",
    "#define subgroups we want\n",
    "facility_subgroup = ['PARKING LOTS AND GARAGES', 'STREETSCAPES, PLAZAS, AND MALLS', 'MUSEUMS',\n",
    "                     'NON-PUBLIC K-12 SCHOOLS', 'PUBLIC K-12 SCHOOLS', 'COLLEGES OR UNIVERSITIES', \n",
    "                    'HOSPITALS AND CLINICS', 'BUS DEPOTS AND TERMINALS'] \n",
    "\n",
    "#loop through each subgroup and call JSON\n",
    "for subgroup in facility_subgroup:\n",
    "    #define endpoint with higher limit\n",
    "    endpoint = facilities_root + f\"?facsubgrp={subgroup}&$limit=3000\"\n",
    "    #GET\n",
    "    response = re.get(endpoint, \n",
    "                      data={'app_token': os.environ['NYC_TOKEN']})\n",
    "   \n",
    "    #return status code and results\n",
    "    status_code, facility_JSONs[subgroup] = response.status_code, response.json()"
   ]
  },
  {
   "cell_type": "code",
   "execution_count": 49,
   "id": "6f7aa274-f041-4e2e-b02a-2f196fe87a97",
   "metadata": {},
   "outputs": [
    {
     "name": "stdout",
     "output_type": "stream",
     "text": [
      "PARKING LOTS AND GARAGES 2559\n",
      "STREETSCAPES, PLAZAS, AND MALLS 560\n",
      "MUSEUMS 138\n",
      "NON-PUBLIC K-12 SCHOOLS 1113\n",
      "PUBLIC K-12 SCHOOLS 1515\n",
      "COLLEGES OR UNIVERSITIES 132\n",
      "HOSPITALS AND CLINICS 1191\n",
      "BUS DEPOTS AND TERMINALS 144\n"
     ]
    }
   ],
   "source": [
    "#number of return values for each JSON\n",
    "for JSON in facility_JSONs:\n",
    "    print(JSON, len(facility_JSONs[JSON]))"
   ]
  },
  {
   "cell_type": "code",
   "execution_count": 53,
   "id": "462bac8a-f7c4-4f3a-b6c6-885e9c5b8ccc",
   "metadata": {},
   "outputs": [],
   "source": [
    "facility_features = ['factype', 'facgroup', 'latitude', 'longitude']\n",
    "facility_df = {}\n",
    "\n",
    "for JSON in facility_JSONs:\n",
    "    facility_df[JSON] = JSON_to_DF(facility_JSONs[JSON], facility_features)"
   ]
  },
  {
   "cell_type": "code",
   "execution_count": 54,
   "id": "95b09cfb-c389-400d-aed6-713cff7b01ec",
   "metadata": {},
   "outputs": [
    {
     "data": {
      "text/html": [
       "<div>\n",
       "<style scoped>\n",
       "    .dataframe tbody tr th:only-of-type {\n",
       "        vertical-align: middle;\n",
       "    }\n",
       "\n",
       "    .dataframe tbody tr th {\n",
       "        vertical-align: top;\n",
       "    }\n",
       "\n",
       "    .dataframe thead th {\n",
       "        text-align: right;\n",
       "    }\n",
       "</style>\n",
       "<table border=\"1\" class=\"dataframe\">\n",
       "  <thead>\n",
       "    <tr style=\"text-align: right;\">\n",
       "      <th></th>\n",
       "      <th>factype</th>\n",
       "      <th>facgroup</th>\n",
       "      <th>latitude</th>\n",
       "      <th>longitude</th>\n",
       "    </tr>\n",
       "  </thead>\n",
       "  <tbody>\n",
       "    <tr>\n",
       "      <th>0</th>\n",
       "      <td>PUBLIC PARKING</td>\n",
       "      <td>TRANSPORTATION</td>\n",
       "      <td>40.60339034490</td>\n",
       "      <td>-73.99677939040</td>\n",
       "    </tr>\n",
       "    <tr>\n",
       "      <th>1</th>\n",
       "      <td>COMMERCIAL GARAGE</td>\n",
       "      <td>TRANSPORTATION</td>\n",
       "      <td>40.71255221990</td>\n",
       "      <td>-73.95334101910</td>\n",
       "    </tr>\n",
       "    <tr>\n",
       "      <th>2</th>\n",
       "      <td>COMMERCIAL GARAGE</td>\n",
       "      <td>TRANSPORTATION</td>\n",
       "      <td>40.70182731130</td>\n",
       "      <td>-73.81731462730</td>\n",
       "    </tr>\n",
       "    <tr>\n",
       "      <th>3</th>\n",
       "      <td>COMMERCIAL GARAGE</td>\n",
       "      <td>TRANSPORTATION</td>\n",
       "      <td>40.76871612370</td>\n",
       "      <td>-73.95720086870</td>\n",
       "    </tr>\n",
       "    <tr>\n",
       "      <th>4</th>\n",
       "      <td>TOW TRUCK COMPANY</td>\n",
       "      <td>TRANSPORTATION</td>\n",
       "      <td>40.82459184960</td>\n",
       "      <td>-73.84338192360</td>\n",
       "    </tr>\n",
       "  </tbody>\n",
       "</table>\n",
       "</div>"
      ],
      "text/plain": [
       "             factype        facgroup        latitude        longitude\n",
       "0     PUBLIC PARKING  TRANSPORTATION  40.60339034490  -73.99677939040\n",
       "1  COMMERCIAL GARAGE  TRANSPORTATION  40.71255221990  -73.95334101910\n",
       "2  COMMERCIAL GARAGE  TRANSPORTATION  40.70182731130  -73.81731462730\n",
       "3  COMMERCIAL GARAGE  TRANSPORTATION  40.76871612370  -73.95720086870\n",
       "4  TOW TRUCK COMPANY  TRANSPORTATION  40.82459184960  -73.84338192360"
      ]
     },
     "execution_count": 54,
     "metadata": {},
     "output_type": "execute_result"
    }
   ],
   "source": [
    "facility_df[facility_subgroup[0]].head()"
   ]
  },
  {
   "cell_type": "markdown",
   "id": "339754cb-8256-4723-b18f-d78ae5eb7763",
   "metadata": {
    "jp-MarkdownHeadingCollapsed": true,
    "tags": []
   },
   "source": [
    "#### Business (discontinued)"
   ]
  },
  {
   "cell_type": "code",
   "execution_count": 159,
   "id": "39f925d4-af4e-4b05-9c24-02e1821db167",
   "metadata": {
    "tags": []
   },
   "outputs": [
    {
     "name": "stdout",
     "output_type": "stream",
     "text": [
      "Something went wrong!\n",
      "400\n",
      "Something went wrong!\n",
      "400\n"
     ]
    }
   ],
   "source": [
    "#within range\n",
    "business_started = range_SODA(business_root, 'license_creation_date', [range_start,range_end])\n",
    "business_ended = range_SODA(business_root, 'lic_expir_dd', [range_start,range_end])\n",
    "#all businesses with active license [may have limit?]\n",
    "business_active = API('https://data.cityofnewyork.us/resource/w7w3-xahh.json', None, {'license_status': 'Active'})"
   ]
  }
 ],
 "metadata": {
  "kernelspec": {
   "display_name": "Python 3 (ipykernel)",
   "language": "python",
   "name": "python3"
  },
  "language_info": {
   "codemirror_mode": {
    "name": "ipython",
    "version": 3
   },
   "file_extension": ".py",
   "mimetype": "text/x-python",
   "name": "python",
   "nbconvert_exporter": "python",
   "pygments_lexer": "ipython3",
   "version": "3.9.7"
  }
 },
 "nbformat": 4,
 "nbformat_minor": 5
}
