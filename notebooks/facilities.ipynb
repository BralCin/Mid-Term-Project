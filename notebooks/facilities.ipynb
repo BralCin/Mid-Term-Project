{
 "cells": [
  {
   "cell_type": "markdown",
   "id": "1fc3d9a5-5c29-4b82-b788-3a7eff92efd7",
   "metadata": {},
   "source": [
    "## Setup"
   ]
  },
  {
   "cell_type": "code",
   "execution_count": 9,
   "id": "fe3165f2-c41f-49b3-afc1-75b9ec062797",
   "metadata": {},
   "outputs": [],
   "source": [
    "import os\n",
    "import pandas as pd\n",
    "import requests as re\n",
    "import googlemaps\n",
    "\n",
    "from IPython.display import JSON"
   ]
  },
  {
   "cell_type": "code",
   "execution_count": 12,
   "id": "8475b5f5-f468-4fa1-8a45-a22c9c4cec84",
   "metadata": {},
   "outputs": [],
   "source": [
    "%run -i ../notebooks/functions.py"
   ]
  },
  {
   "cell_type": "code",
   "execution_count": 3,
   "id": "bdfdc662-a1a2-4df6-a034-d923d93d7b84",
   "metadata": {},
   "outputs": [],
   "source": [
    "#and a dictionary of the parameters to define\n",
    "def API(root, search_term, param, header=None):\n",
    "    \"\"\"search_term must be a string of valid end point queries \n",
    "            - as specified by the relevent documentation\n",
    "            \n",
    "            returns JSON of results\n",
    "   \"\"\"\n",
    " \n",
    "    #define endpoint\n",
    "    if search_term is not None:\n",
    "        endpoint = root + search_term\n",
    "    else:\n",
    "        endpoint = root\n",
    "    \n",
    "    #GET\n",
    "    response = re.get(endpoint, params = param, headers=header)\n",
    "   \n",
    "    #return status code and results\n",
    "    status_code, results = response.status_code, response.json()\n",
    "    \n",
    "    #Let's make sure it worked\n",
    "    if status_code != 200:\n",
    "        print('Something went wrong!')\n",
    "        print(status_code)\n",
    "        \n",
    "    return results"
   ]
  },
  {
   "cell_type": "code",
   "execution_count": 4,
   "id": "cf1f042b-2b22-4116-ab9f-16699bb5351e",
   "metadata": {},
   "outputs": [],
   "source": [
    "test_param = {'latitude': 45.6387, 'longitude':-122.6615, 'radius': 1000}\n",
    "test_param2 = {'ll': '45.6387,-122.6615', 'radius': 1000}\n",
    "yelp_head = {\"Authorization\": f\"Bearer {os.environ['YELP_API']}\"}\n",
    "four_head = {\"Accept\": \"application/json\",\n",
    "                  \"Authorization\": os.environ['FOURSQUARE_API_KEY']}\n",
    "             "
   ]
  },
  {
   "cell_type": "code",
   "execution_count": 5,
   "id": "a9034402-0473-46e3-a9e2-8233213fec85",
   "metadata": {},
   "outputs": [
    {
     "name": "stdout",
     "output_type": "stream",
     "text": [
      "True\n"
     ]
    },
    {
     "data": {
      "text/plain": [
       "True"
      ]
     },
     "execution_count": 5,
     "metadata": {},
     "output_type": "execute_result"
    }
   ],
   "source": [
    "#test it's working\n",
    "print(bool(API(\"https://api.yelp.com/\", 'v3/businesses/search', test_param, yelp_head)))\n",
    "bool(API(\"https://api.foursquare.com/\", 'v3/places/search', test_param2, four_head))"
   ]
  },
  {
   "cell_type": "markdown",
   "id": "a56e23c2-c8e7-4ef4-b5ed-a1d812e33d68",
   "metadata": {},
   "source": [
    "## JSON to DataFrame"
   ]
  },
  {
   "cell_type": "markdown",
   "id": "8341b07e-bcab-48ed-bc00-ebdb36f7494a",
   "metadata": {},
   "source": [
    "See MiniProject 4 Google Doc for more details"
   ]
  },
  {
   "cell_type": "code",
   "execution_count": 6,
   "id": "b0584e96-d0c6-4909-8be8-43e9ff4a7c23",
   "metadata": {},
   "outputs": [],
   "source": [
    "#roots of the different datasets\n",
    "#Housing\n",
    "construction_root = 'https://data.cityofnewyork.us/resource/hg8x-zxpr.json'\n",
    "hbd_root = 'https://data.cityofnewyork.us/resource/kj4p-ruqc.json'\n",
    "\n",
    "#Areas of Interest\n",
    "facilities_root = 'https://data.cityofnewyork.us/resource/ji82-xba5.json'\n",
    "places_root = 'https://data.cityofnewyork.us/resource/ssdk-4qjy.json'\n",
    "parks_root = 'https://data.cityofnewyork.us/resource/enfh-gkve.json'\n",
    "hotels_root = 'https://data.cityofnewyork.us/resource/tjus-cn27.json'\n",
    "library_root = 'https://data.cityofnewyork.us/resource/feuq-due4.json'\n",
    "\n",
    "#Business\n",
    "business_root = 'https://data.cityofnewyork.us/resource/w7w3-xahh.json'"
   ]
  },
  {
   "cell_type": "code",
   "execution_count": 7,
   "id": "64a7c976-bf82-47c9-b30f-0c0d86be35ec",
   "metadata": {},
   "outputs": [],
   "source": [
    "#function to retrieve data from SODA datasets within inputted time frame\n",
    "def range_SODA(root, column, time_range, params=None):\n",
    "    #set endpoint\n",
    "    range_endpoint = f\"?$where=project_start_date between '{time_range[0]}' and '{time_range[1]}'\"\n",
    "    \n",
    "    endpoint = root + range_endpoint\n",
    "    \n",
    "    results = API(endpoint, None, params)\n",
    "    \n",
    "    return results"
   ]
  },
  {
   "cell_type": "code",
   "execution_count": 8,
   "id": "b6cc118c-d234-443e-952b-1a8e14163c23",
   "metadata": {},
   "outputs": [],
   "source": [
    "def JSON_to_DF(JSON, desired_features):\n",
    " \n",
    "    columns = {}\n",
    "    \n",
    "    #for each desired column\n",
    "    for feat in desired_features: \n",
    "        #empty value list\n",
    "        values = []\n",
    "        #for each project\n",
    "        for element in JSON:\n",
    "            #try to append value\n",
    "            try:\n",
    "                values.append(element[feat])\n",
    "            #if error means no value append NaaN\n",
    "            except:\n",
    "                values.append('NaaN')\n",
    "            \n",
    "        columns[feat] = values\n",
    "\n",
    "    #make dict into pandas dataframe        \n",
    "    return pd.DataFrame(columns)                    "
   ]
  },
  {
   "cell_type": "code",
   "execution_count": 9,
   "id": "b7226f1e-17cc-4396-8b8e-8827eba7925b",
   "metadata": {},
   "outputs": [],
   "source": [
    "def coord_from_geom(dataframe):\n",
    "    latitude = []\n",
    "    longitude = []\n",
    "\n",
    "    for row in range(dataframe.shape[0]):\n",
    "        #latitude\n",
    "        latitude.append(dataframe.the_geom[row]['coordinates'][1])\n",
    "        \n",
    "        #longitude\n",
    "        longitude.append(dataframe.the_geom[row]['coordinates'][0])\n",
    "\n",
    "    dataframe['latitude'] = latitude\n",
    "    dataframe['longitude'] = longitude\n",
    "    \n",
    "    dataframe = dataframe.drop('the_geom', axis = 1)\n",
    "    \n",
    "    return dataframe"
   ]
  },
  {
   "cell_type": "markdown",
   "id": "7f52e06d-ad6e-422e-b7e8-3a5baff8a655",
   "metadata": {
    "jp-MarkdownHeadingCollapsed": true,
    "tags": []
   },
   "source": [
    "### Libraries, Parks & Hotels"
   ]
  },
  {
   "cell_type": "code",
   "execution_count": 11,
   "id": "0a90d59f-cd74-4f68-ac05-57d0c342dcb6",
   "metadata": {},
   "outputs": [],
   "source": [
    "#-- API calls-- \n",
    "#for the smaller datasets, no filter required\n",
    "library_JSON = API(library_root, None, None)\n",
    "#only pull active parks\n",
    "parks_JSON = API(parks_root, '?retired=false&$limit=3000', None)\n",
    "hotels_JSON = API(hotels_root, '?taxyear=2021&$limit=6000', None)"
   ]
  },
  {
   "cell_type": "markdown",
   "id": "43f63edb-2acd-47c3-8ab0-ecc5bb9341f9",
   "metadata": {
    "jp-MarkdownHeadingCollapsed": true,
    "tags": []
   },
   "source": [
    "#### Libraries"
   ]
  },
  {
   "cell_type": "code",
   "execution_count": null,
   "id": "795bdee9-a049-414b-8ca8-01c4844b8e26",
   "metadata": {},
   "outputs": [],
   "source": [
    "#pull out desired feats from library\n",
    "desired_feat = ['the_geom']\n",
    "library_geom = JSON_to_DF(library_JSON, desired_feat)\n",
    "\n",
    "#convert geometry point data to coordinates\n",
    "library_df = coord_from_geom(library_geom)\n",
    "print(library_df.shape)\n",
    "library_df.head()"
   ]
  },
  {
   "cell_type": "markdown",
   "id": "afd1a697-f1e8-470a-b72f-a7a02ce9d759",
   "metadata": {
    "jp-MarkdownHeadingCollapsed": true,
    "tags": []
   },
   "source": [
    "#### Parks"
   ]
  },
  {
   "cell_type": "code",
   "execution_count": null,
   "id": "36513ca7-957e-4255-975a-af92e1f6247c",
   "metadata": {},
   "outputs": [],
   "source": [
    "#pull out desired feats from parks\n",
    "desired_feat = ['multipolygon']\n",
    "parks_street = JSON_to_DF(parks_JSON, desired_feat)\n",
    "print(parks_street.shape)\n",
    "parks_street.head()"
   ]
  },
  {
   "cell_type": "code",
   "execution_count": null,
   "id": "5d1c1d48-ee75-48af-a7da-f0850b66563d",
   "metadata": {},
   "outputs": [],
   "source": [
    "#function to find centroid from list of coordinates\n",
    "def centroid(vertexes):\n",
    "    _x_list = [vertex [0] for vertex in vertexes]\n",
    "    _y_list = [vertex [1] for vertex in vertexes]\n",
    "    _len = len(vertexes)\n",
    "    _x = sum(_x_list) / _len\n",
    "    _y = sum(_y_list) / _len\n",
    "    return(_x, _y)"
   ]
  },
  {
   "cell_type": "code",
   "execution_count": null,
   "id": "84b379bf-18e3-45d1-84dc-822e5b78a61a",
   "metadata": {},
   "outputs": [],
   "source": [
    "#define empty lat, long lists\n",
    "latitude = []\n",
    "longitude = []\n",
    "\n",
    "#for each row \n",
    "for row in range(parks_street.shape[0]):\n",
    "    #pull out polygon coordinates\n",
    "    polygon = parks_street.multipolygon[row]['coordinates'][0][0]\n",
    "    #find the center\n",
    "    center = centroid(polygon)\n",
    "    #append to lat and long (coordinate order is swapped)\n",
    "    #latitude\n",
    "    latitude.append(center[1])\n",
    "    #longitude\n",
    "    longitude.append(center[0])\n",
    "\n",
    "parks_street['latitude'] = latitude\n",
    "parks_street['longitude'] = longitude\n",
    "    \n",
    "parks_df = parks_street.drop('multipolygon', axis = 1)\n",
    "parks_df.head()"
   ]
  },
  {
   "cell_type": "code",
   "execution_count": null,
   "id": "d52b91f5-dfd6-43cb-8627-2fb187cfa4e7",
   "metadata": {},
   "outputs": [],
   "source": [
    "print(parks_df.shape)\n",
    "parks_df.dtypes"
   ]
  },
  {
   "cell_type": "markdown",
   "id": "874834e4-3fd8-4748-9633-fe84e990369f",
   "metadata": {
    "jp-MarkdownHeadingCollapsed": true,
    "tags": []
   },
   "source": [
    "#### Hotels"
   ]
  },
  {
   "cell_type": "code",
   "execution_count": null,
   "id": "64f2cb60-e225-4fff-987a-416c56ff74d1",
   "metadata": {},
   "outputs": [],
   "source": [
    "#transform from JSON to DF\n",
    "desired_feats = ['latitude', 'longitude']\n",
    "hotels_df = JSON_to_DF(hotels_JSON, desired_feats)\n",
    "print(hotels_df.shape)\n",
    "hotels_df.head()"
   ]
  },
  {
   "cell_type": "code",
   "execution_count": null,
   "id": "cb08d70b-3d5f-423d-af7d-244d060bec00",
   "metadata": {},
   "outputs": [],
   "source": [
    "hotels_df = hotels_df.apply(pd.to_numeric, errors='coerce')"
   ]
  },
  {
   "cell_type": "markdown",
   "id": "fc01f608-ce92-4d88-b169-714ca6fc3502",
   "metadata": {
    "jp-MarkdownHeadingCollapsed": true,
    "tags": []
   },
   "source": [
    "#### Facilities\n",
    "\n",
    "Bigger sets, want to pull just based on specific categories so we're getting a clearer picture\n",
    "\n",
    "See `facilities_datadictionary.xlsx` for possible facility category, subcatory, and factype"
   ]
  },
  {
   "cell_type": "code",
   "execution_count": null,
   "id": "553f1822-53ae-4ef6-b227-d6c7f907dc96",
   "metadata": {},
   "outputs": [],
   "source": [
    "#--- ORIGINAL SUBGROUPS --\n",
    "#define subgroups we want\n",
    "facility_subgroup = ['BUS DEPOTS AND TERMINALS', 'PARKING LOTS AND GARAGES', \n",
    "                     'MUSEUMS', 'STREETSCAPES, PLAZAS, AND MALLS', \n",
    "                     'NON-PUBLIC K-12 SCHOOLS', 'PUBLIC K-12 SCHOOLS', 'COLLEGES OR UNIVERSITIES', \n",
    "                    'HOSPITALS AND CLINICS'] "
   ]
  },
  {
   "cell_type": "code",
   "execution_count": null,
   "id": "4bca13e6-a702-4db7-a2b0-fdcff7717ca4",
   "metadata": {},
   "outputs": [],
   "source": [
    "#--- EXPERIMENT SUBGROUPS --\n",
    "facility_subgroup = ['PUBLIC K-12 SCHOOLS', 'COLLEGES OR UNIVERSITIES',\n",
    "                    'HOSPITALS AND CLINICS', 'DAY CARE'] "
   ]
  },
  {
   "cell_type": "code",
   "execution_count": null,
   "id": "80877d9c-083f-43f8-85dd-f7063ba36199",
   "metadata": {
    "tags": []
   },
   "outputs": [],
   "source": [
    "#-- API call--\n",
    "\n",
    "#make dict to store JSON returns\n",
    "facility_JSONs = {}\n",
    "\n",
    "#loop through each subgroup and call JSON\n",
    "for subgroup in facility_subgroup:\n",
    "    #define endpoint with higher limit\n",
    "    endpoint = facilities_root + f\"?facsubgrp={subgroup}&$limit=3000\"\n",
    "    #GET\n",
    "    response = re.get(endpoint, \n",
    "                      data={'app_token': os.environ['NYC_TOKEN']})\n",
    "   \n",
    "    #return status code and results\n",
    "    status_code, facility_JSONs[subgroup] = response.status_code, response.json()"
   ]
  },
  {
   "cell_type": "code",
   "execution_count": null,
   "id": "6f7aa274-f041-4e2e-b02a-2f196fe87a97",
   "metadata": {},
   "outputs": [],
   "source": [
    "#number of return values for each JSON\n",
    "for JSON in facility_JSONs:\n",
    "    print(JSON, len(facility_JSONs[JSON]))"
   ]
  },
  {
   "cell_type": "code",
   "execution_count": null,
   "id": "462bac8a-f7c4-4f3a-b6c6-885e9c5b8ccc",
   "metadata": {},
   "outputs": [],
   "source": [
    "#name lat, long columns\n",
    "facility_features = ['latitude', 'longitude']\n",
    "#create empty dict\n",
    "facility_df = {}\n",
    "#for every JSON, translate to pandas DF and store into dict under its name\n",
    "for JSON in facility_JSONs:\n",
    "    facility_df[JSON] = JSON_to_DF(facility_JSONs[JSON], facility_features)"
   ]
  },
  {
   "cell_type": "code",
   "execution_count": null,
   "id": "95b09cfb-c389-400d-aed6-713cff7b01ec",
   "metadata": {},
   "outputs": [],
   "source": [
    "#test print a facility dataframe\n",
    "facility_df[facility_subgroup[0]].head()"
   ]
  },
  {
   "cell_type": "code",
   "execution_count": null,
   "id": "b12bad59-3949-42dd-86a7-dd41872cae81",
   "metadata": {},
   "outputs": [],
   "source": [
    "#concatinate all facilities into one dataframe, using title as factype column\n",
    "facility_all = pd.concat(facility_df).reset_index().drop('level_1', axis = 1)\n",
    "facility_all = facility_all.rename(columns={'level_0': 'factype'})\n",
    "print(facility_all.shape)\n",
    "facility_all.head()"
   ]
  },
  {
   "cell_type": "code",
   "execution_count": null,
   "id": "a8f97261-cbc6-4d2a-95cf-22aa4bd56ec6",
   "metadata": {},
   "outputs": [],
   "source": [
    "facility_clean = facility_all.loc[facility_all['latitude'] != 0]"
   ]
  },
  {
   "cell_type": "code",
   "execution_count": null,
   "id": "305bc97c-ffc1-4874-b7d2-a3cabd776faf",
   "metadata": {},
   "outputs": [],
   "source": [
    "#replace object lat_long with floata\n",
    "facility_clean[['latitude', 'longitude']] = facility_clean[['latitude', 'longitude']].apply(pd.to_numeric, errors='coerce')\n",
    "facility_clean.dtypes"
   ]
  },
  {
   "cell_type": "markdown",
   "id": "e11c8d32-5e50-4db2-971b-86b0f07a62fd",
   "metadata": {
    "tags": []
   },
   "source": [
    "### To csv"
   ]
  },
  {
   "cell_type": "code",
   "execution_count": null,
   "id": "dfe1478a-e577-4e1f-9eea-0334ac956a6a",
   "metadata": {},
   "outputs": [],
   "source": [
    "#save final dataframes to csv\n",
    "library_df.to_csv('../Mid-term/Mid-Term-Project/processed_data/libraries.csv', index=False)\n",
    "parks_df.to_csv('../Mid-term/Mid-Term-Project/processed_data/parks.csv', index=False)\n",
    "hotels_df.to_csv('../Mid-term/Mid-Term-Project/processed_data/hotels.csv', index=False)\n",
    "facility_clean.to_csv('../Mid-term/Mid-Term-Project/processed_data/facilities.csv', index=False)\n",
    "house_start_df.to_csv('../Mid-term/Mid-Term-Project/processed_data/house_start.csv', index=False)\n"
   ]
  },
  {
   "cell_type": "markdown",
   "id": "121e9d02-09a7-4116-a624-660c9fb4c20a",
   "metadata": {
    "jp-MarkdownHeadingCollapsed": true,
    "tags": []
   },
   "source": [
    "### Housing"
   ]
  },
  {
   "cell_type": "markdown",
   "id": "024cb881-8a37-40b4-8a3a-9092fd68cf02",
   "metadata": {
    "tags": []
   },
   "source": [
    "#### House construction"
   ]
  },
  {
   "cell_type": "code",
   "execution_count": null,
   "id": "ba6b9c06-af0c-40f1-a887-7e3fa1b0a281",
   "metadata": {},
   "outputs": [],
   "source": [
    "#-- API call -- \n",
    "\n",
    "#call housing data within range\n",
    "housing_start_JSON = range_SODA(construction_root, 'project_start_date', ['2021-01-01T00:00:00', '2021-12-30T00:00:00'])\n",
    "housing_complete_JSON = range_SODA(construction_root, 'project_completion_date', ['2021-01-01T00:00:00', '2021-12-30T00:00:00'])"
   ]
  },
  {
   "cell_type": "code",
   "execution_count": null,
   "id": "15a4e781-caed-4827-9ceb-82d046998667",
   "metadata": {},
   "outputs": [],
   "source": [
    "#id desired features\n",
    "desired_feat = ['total_units', 'latitude', 'longitude']"
   ]
  },
  {
   "cell_type": "code",
   "execution_count": null,
   "id": "8a0bec89-4224-42db-affa-84d7c5e59583",
   "metadata": {},
   "outputs": [],
   "source": [
    "house_start_df = JSON_to_DF(housing_start_JSON, desired_feat)\n",
    "print(house_start_df.shape)"
   ]
  },
  {
   "cell_type": "code",
   "execution_count": null,
   "id": "1bf85c6b-02d6-4aac-9c98-5949d7d70cdd",
   "metadata": {},
   "outputs": [],
   "source": [
    "house_start_df = house_start_df.apply(pd.to_numeric, errors='coerce')\n",
    "house_start_df.head()"
   ]
  },
  {
   "cell_type": "code",
   "execution_count": null,
   "id": "2220a9a7-b657-4acd-a51b-f49b1d9960c0",
   "metadata": {},
   "outputs": [],
   "source": [
    "house_end_df = JSON_to_DF(housing_complete_JSON, desired_feat)\n",
    "house_end_df.shape"
   ]
  },
  {
   "cell_type": "markdown",
   "id": "b9cba784-33e3-4611-86f7-37185eb33653",
   "metadata": {
    "tags": []
   },
   "source": [
    "#### HPD buildings"
   ]
  },
  {
   "cell_type": "code",
   "execution_count": null,
   "id": "6378bb68-292e-4b40-8c7f-54eb95a2bb8a",
   "metadata": {},
   "outputs": [],
   "source": [
    "print(hbd_root)"
   ]
  },
  {
   "cell_type": "code",
   "execution_count": 12,
   "id": "36375a99-2fa5-4f45-a8b5-040c0eff46d4",
   "metadata": {},
   "outputs": [],
   "source": [
    "#-- API call -- \n",
    "#call housing data within range\n",
    "hbd_JSON = API(hbd_root,'?recordstatus=Active&lifecycle=Building&$limit=50000',\n",
    "              None)"
   ]
  },
  {
   "cell_type": "code",
   "execution_count": 13,
   "id": "7b182f60-0890-420e-89ef-87355a1fe906",
   "metadata": {},
   "outputs": [],
   "source": [
    "desired_feat = ['zip', 'legalstories']\n",
    "\n",
    "hbd_df = JSON_to_DF(hbd_JSON, desired_feat)"
   ]
  },
  {
   "cell_type": "code",
   "execution_count": 14,
   "id": "3e364ce3-d2ac-47c5-b7fa-aefbb0a50e56",
   "metadata": {},
   "outputs": [
    {
     "data": {
      "text/html": [
       "<div>\n",
       "<style scoped>\n",
       "    .dataframe tbody tr th:only-of-type {\n",
       "        vertical-align: middle;\n",
       "    }\n",
       "\n",
       "    .dataframe tbody tr th {\n",
       "        vertical-align: top;\n",
       "    }\n",
       "\n",
       "    .dataframe thead th {\n",
       "        text-align: right;\n",
       "    }\n",
       "</style>\n",
       "<table border=\"1\" class=\"dataframe\">\n",
       "  <thead>\n",
       "    <tr style=\"text-align: right;\">\n",
       "      <th></th>\n",
       "      <th>zip</th>\n",
       "      <th>legalstories</th>\n",
       "    </tr>\n",
       "  </thead>\n",
       "  <tbody>\n",
       "    <tr>\n",
       "      <th>0</th>\n",
       "      <td>10466</td>\n",
       "      <td>1</td>\n",
       "    </tr>\n",
       "    <tr>\n",
       "      <th>1</th>\n",
       "      <td>11216</td>\n",
       "      <td>3</td>\n",
       "    </tr>\n",
       "    <tr>\n",
       "      <th>2</th>\n",
       "      <td>10314</td>\n",
       "      <td>2</td>\n",
       "    </tr>\n",
       "    <tr>\n",
       "      <th>3</th>\n",
       "      <td>11375</td>\n",
       "      <td>2</td>\n",
       "    </tr>\n",
       "    <tr>\n",
       "      <th>4</th>\n",
       "      <td>11226</td>\n",
       "      <td>2</td>\n",
       "    </tr>\n",
       "  </tbody>\n",
       "</table>\n",
       "</div>"
      ],
      "text/plain": [
       "     zip legalstories\n",
       "0  10466            1\n",
       "1  11216            3\n",
       "2  10314            2\n",
       "3  11375            2\n",
       "4  11226            2"
      ]
     },
     "execution_count": 14,
     "metadata": {},
     "output_type": "execute_result"
    }
   ],
   "source": [
    "hbd_df.head()"
   ]
  },
  {
   "cell_type": "markdown",
   "id": "ef27662b-bc14-470a-bb91-4112f30778b8",
   "metadata": {},
   "source": [
    "*Note*: the next part is commented out due to the generation of data from google API costing money. We can't rerun this part but we did get the data necessary out of it. See `building_count.csv` and `building_stories.csv`"
   ]
  },
  {
   "cell_type": "code",
   "execution_count": 10,
   "id": "fad55f33-4d05-434b-8fb2-ffcde0ae585f",
   "metadata": {},
   "outputs": [],
   "source": [
    "#gmaps = googlemaps.Client(key=os.environ['TEMP_GOOGLE'])"
   ]
  },
  {
   "cell_type": "code",
   "execution_count": null,
   "id": "c661ece3-b71e-45d0-a1c3-6685cf36518f",
   "metadata": {},
   "outputs": [],
   "source": [
    "#lat = []\n",
    "#long = []\n",
    "\n",
    "#-- DO NOT RUN -- \n",
    "\n",
    "#for zip_code in hbd_df.zip:\n",
    "\n",
    "    #geocode_result = gmaps.geocode(f'{zip_code}, NY')\n",
    "    #try:\n",
    "        #lat.append(geocode_result[0]['geometry']['location']['lat'])\n",
    "        #long.append(geocode_result[0]['geometry']['location']['lng'])\n",
    "    #except:\n",
    "        #lat.append('NaN')\n",
    "        #long.append('NaN')"
   ]
  },
  {
   "cell_type": "code",
   "execution_count": null,
   "id": "d4ba68e7-bb6c-4940-9616-23be757b0e78",
   "metadata": {},
   "outputs": [],
   "source": [
    "#append lat and long\n",
    "#hbd_df['latitude'] = lat\n",
    "#hbd_df['longitude'] = long\n",
    "\n",
    "#drop zip codes\n",
    "#hbd_df = hbd_df.drop('zip', axis=1)\n",
    "#hbd_df = hbd_df.apply(pd.to_numeric, errors='coerce')"
   ]
  },
  {
   "cell_type": "code",
   "execution_count": null,
   "id": "04292923-d08f-40f1-bf53-1e97983e249a",
   "metadata": {},
   "outputs": [],
   "source": [
    "#hbd_df.info()"
   ]
  },
  {
   "cell_type": "code",
   "execution_count": null,
   "id": "149b9384-bbb4-48c4-bbdb-901f9990d129",
   "metadata": {},
   "outputs": [],
   "source": [
    "#NTA = pd.read_csv('../Mid-Term/Mid-Term-Project/processed_data/geocoded_population.csv').loc[:, ['latitude', 'longitude']]\n",
    "#print(NTA.shape)\n",
    "#NTA.head()"
   ]
  },
  {
   "cell_type": "code",
   "execution_count": null,
   "id": "23c0830d-e843-4153-a0b7-7a72fe3f9cb8",
   "metadata": {},
   "outputs": [],
   "source": [
    "#bin within the facilities\n",
    "#building_count = bin_data(hbd_df,'count', 'buildings', 70)\n",
    "#building_level = bin_data(hbd_df, 'mean', 'buildings', 1)"
   ]
  },
  {
   "cell_type": "code",
   "execution_count": null,
   "id": "345c4227-a91a-4957-b6f7-9cbd41ec1b1c",
   "metadata": {},
   "outputs": [],
   "source": [
    "#building_level.head()"
   ]
  },
  {
   "cell_type": "code",
   "execution_count": null,
   "id": "e36d47bf-ad9f-40a6-8146-8755aa620247",
   "metadata": {},
   "outputs": [],
   "source": [
    "#building_count.loc[building_count['buildings'] != 0].describe()"
   ]
  },
  {
   "cell_type": "code",
   "execution_count": null,
   "id": "9f75b469-fd26-4a8e-9b65-3399c8698d20",
   "metadata": {},
   "outputs": [],
   "source": [
    "# -- DO NOT OVERWRITE SAVED BUILDING DATA --\n",
    "\n",
    "#building_count.to_csv('../Mid-term/Mid-Term-Project/processed_data/building_count.csv', index=False)\n",
    "#building_level.to_csv('../Mid-term/Mid-Term-Project/processed_data/building_stories.csv', index=False)"
   ]
  }
 ],
 "metadata": {
  "kernelspec": {
   "display_name": "Python 3 (ipykernel)",
   "language": "python",
   "name": "python3"
  },
  "language_info": {
   "codemirror_mode": {
    "name": "ipython",
    "version": 3
   },
   "file_extension": ".py",
   "mimetype": "text/x-python",
   "name": "python",
   "nbconvert_exporter": "python",
   "pygments_lexer": "ipython3",
   "version": "3.9.7"
  }
 },
 "nbformat": 4,
 "nbformat_minor": 5
}
