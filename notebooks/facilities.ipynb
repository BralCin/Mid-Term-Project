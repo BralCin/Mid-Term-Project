{
 "cells": [
  {
   "cell_type": "markdown",
   "id": "1fc3d9a5-5c29-4b82-b788-3a7eff92efd7",
   "metadata": {},
   "source": [
    "## Setup"
   ]
  },
  {
   "cell_type": "code",
   "execution_count": 1,
   "id": "fe3165f2-c41f-49b3-afc1-75b9ec062797",
   "metadata": {},
   "outputs": [],
   "source": [
    "import os\n",
    "import pandas as pd\n",
    "import requests as re\n",
    "from IPython.display import JSON"
   ]
  },
  {
   "cell_type": "code",
   "execution_count": 3,
   "id": "bdfdc662-a1a2-4df6-a034-d923d93d7b84",
   "metadata": {},
   "outputs": [],
   "source": [
    "#and a dictionary of the parameters to define\n",
    "def API(root, search_term, param, header=None):\n",
    "    \"\"\"search_term must be a string of valid end point queries \n",
    "            - as specified by the relevent documentation\n",
    "            \n",
    "            returns JSON of results\n",
    "   \"\"\"\n",
    " \n",
    "    #define endpoint\n",
    "    if search_term is not None:\n",
    "        endpoint = root + search_term\n",
    "    else:\n",
    "        endpoint = root\n",
    "    \n",
    "    #GET\n",
    "    response = re.get(endpoint, params = param, headers=header)\n",
    "   \n",
    "    #return status code and results\n",
    "    status_code, results = response.status_code, response.json()\n",
    "    \n",
    "    #Let's make sure it worked\n",
    "    if status_code != 200:\n",
    "        print('Something went wrong!')\n",
    "        print(status_code)\n",
    "        \n",
    "    return results"
   ]
  },
  {
   "cell_type": "code",
   "execution_count": 12,
   "id": "cf1f042b-2b22-4116-ab9f-16699bb5351e",
   "metadata": {},
   "outputs": [],
   "source": [
    "test_param = {'latitude': 45.6387, 'longitude':-122.6615, 'radius': 1000}\n",
    "test_param2 = {'ll': '45.6387,-122.6615', 'radius': 1000}\n",
    "yelp_head = {\"Authorization\": f\"Bearer {os.environ['YELP_API']}\"}\n",
    "four_head = {\"Accept\": \"application/json\",\n",
    "                  \"Authorization\": os.environ['FOURSQUARE_API_KEY']}\n",
    "             "
   ]
  },
  {
   "cell_type": "code",
   "execution_count": 13,
   "id": "a9034402-0473-46e3-a9e2-8233213fec85",
   "metadata": {},
   "outputs": [
    {
     "name": "stdout",
     "output_type": "stream",
     "text": [
      "True\n"
     ]
    },
    {
     "data": {
      "text/plain": [
       "True"
      ]
     },
     "execution_count": 13,
     "metadata": {},
     "output_type": "execute_result"
    }
   ],
   "source": [
    "#test it's working\n",
    "print(bool(API(\"https://api.yelp.com/\", 'v3/businesses/search', test_param, yelp_head)))\n",
    "bool(API(\"https://api.foursquare.com/\", 'v3/places/search', test_param2, four_head))"
   ]
  },
  {
   "cell_type": "markdown",
   "id": "a56e23c2-c8e7-4ef4-b5ed-a1d812e33d68",
   "metadata": {},
   "source": [
    "## JSON to DataFrame"
   ]
  },
  {
   "cell_type": "markdown",
   "id": "8341b07e-bcab-48ed-bc00-ebdb36f7494a",
   "metadata": {},
   "source": [
    "See MiniProject 4 Google Doc for more details"
   ]
  },
  {
   "cell_type": "code",
   "execution_count": 4,
   "id": "b0584e96-d0c6-4909-8be8-43e9ff4a7c23",
   "metadata": {},
   "outputs": [],
   "source": [
    "#set standard variables\n",
    "range_start = '2021-02-01T00:00:00'\n",
    "range_end = '2021-02-28T00:00:00'\n",
    "range_21 = [range_start, range_end]\n",
    "\n",
    "#roots of the different datasets\n",
    "#Housing\n",
    "housing_root = 'https://data.cityofnewyork.us/resource/hg8x-zxpr.json'\n",
    "\n",
    "#Areas of Interest\n",
    "facilities_root = 'https://data.cityofnewyork.us/resource/ji82-xba5.json'\n",
    "places_root = 'https://data.cityofnewyork.us/resource/ssdk-4qjy.json'\n",
    "parks_root = 'https://data.cityofnewyork.us/resource/enfh-gkve.json'\n",
    "hotels_root = 'https://data.cityofnewyork.us/resource/tjus-cn27.json'\n",
    "library_root = 'https://data.cityofnewyork.us/resource/feuq-due4.json'\n",
    "\n",
    "#Business\n",
    "business_root = 'https://data.cityofnewyork.us/resource/w7w3-xahh.json'"
   ]
  },
  {
   "cell_type": "code",
   "execution_count": 65,
   "id": "64a7c976-bf82-47c9-b30f-0c0d86be35ec",
   "metadata": {},
   "outputs": [],
   "source": [
    "#function to retrieve data from SODA datasets within inputted time frame\n",
    "def range_SODA(root, column, time_range, params=None):\n",
    "  \n",
    "    range_endpoint = f\"?$where=project_start_date between '{time_range[0]}' and '{time_range[1]}'\"\n",
    "    \n",
    "    endpoint = root + range_endpoint\n",
    "    \n",
    "    results = API(endpoint, None, params)\n",
    "    \n",
    "    return results"
   ]
  },
  {
   "cell_type": "code",
   "execution_count": 28,
   "id": "b6cc118c-d234-443e-952b-1a8e14163c23",
   "metadata": {},
   "outputs": [],
   "source": [
    "def JSON_to_DF(JSON, desired_features):\n",
    " \n",
    "    columns = {}\n",
    "    \n",
    "    #for each desired column\n",
    "    for feat in desired_features: \n",
    "        #empty value list\n",
    "        values = []\n",
    "        #for each project\n",
    "        for element in JSON:\n",
    "            #try to append value\n",
    "            try:\n",
    "                values.append(element[feat])\n",
    "            #if error means no value append NaaN\n",
    "            except:\n",
    "                values.append('NaaN')\n",
    "            \n",
    "        columns[feat] = values\n",
    "\n",
    "    #make dict into pandas dataframe        \n",
    "    return pd.DataFrame(columns)                    "
   ]
  },
  {
   "cell_type": "code",
   "execution_count": 308,
   "id": "b7226f1e-17cc-4396-8b8e-8827eba7925b",
   "metadata": {},
   "outputs": [],
   "source": [
    "def coord_from_geom(dataframe):\n",
    "    latitude = []\n",
    "    longitude = []\n",
    "\n",
    "    for row in range(dataframe.shape[0]):\n",
    "        #latitude\n",
    "        latitude.append(dataframe.the_geom[row]['coordinates'][1])\n",
    "        \n",
    "        #longitude\n",
    "        longitude.append(dataframe.the_geom[row]['coordinates'][0])\n",
    "\n",
    "    dataframe['latitude'] = latitude\n",
    "    dataframe['longitude'] = longitude\n",
    "    \n",
    "    dataframe = dataframe.drop('the_geom', axis = 1)\n",
    "    \n",
    "    return dataframe"
   ]
  },
  {
   "cell_type": "markdown",
   "id": "024cb881-8a37-40b4-8a3a-9092fd68cf02",
   "metadata": {
    "jp-MarkdownHeadingCollapsed": true,
    "tags": []
   },
   "source": [
    "### House construction"
   ]
  },
  {
   "cell_type": "code",
   "execution_count": 66,
   "id": "ba6b9c06-af0c-40f1-a887-7e3fa1b0a281",
   "metadata": {},
   "outputs": [],
   "source": [
    "#-- API call -- \n",
    "\n",
    "#call housing data within range\n",
    "housing_start_JSON = range_SODA(housing_root, 'project_start_date', range_21)\n",
    "housing_complete_JSON = range_SODA(housing_root, 'project_completion_date', ['2020-11-01T00:00:00', '2021-03-01T00:00:00'])"
   ]
  },
  {
   "cell_type": "code",
   "execution_count": 276,
   "id": "15a4e781-caed-4827-9ceb-82d046998667",
   "metadata": {},
   "outputs": [],
   "source": [
    "#id desired features\n",
    "desired_feat = ['all_counted_units', 'total_units', 'latitude', 'longitude']"
   ]
  },
  {
   "cell_type": "code",
   "execution_count": 277,
   "id": "8a0bec89-4224-42db-affa-84d7c5e59583",
   "metadata": {},
   "outputs": [
    {
     "data": {
      "text/html": [
       "<div>\n",
       "<style scoped>\n",
       "    .dataframe tbody tr th:only-of-type {\n",
       "        vertical-align: middle;\n",
       "    }\n",
       "\n",
       "    .dataframe tbody tr th {\n",
       "        vertical-align: top;\n",
       "    }\n",
       "\n",
       "    .dataframe thead th {\n",
       "        text-align: right;\n",
       "    }\n",
       "</style>\n",
       "<table border=\"1\" class=\"dataframe\">\n",
       "  <thead>\n",
       "    <tr style=\"text-align: right;\">\n",
       "      <th></th>\n",
       "      <th>all_counted_units</th>\n",
       "      <th>total_units</th>\n",
       "      <th>latitude</th>\n",
       "      <th>longitude</th>\n",
       "    </tr>\n",
       "  </thead>\n",
       "  <tbody>\n",
       "    <tr>\n",
       "      <th>0</th>\n",
       "      <td>9</td>\n",
       "      <td>28</td>\n",
       "      <td>40.844171</td>\n",
       "      <td>-73.892197</td>\n",
       "    </tr>\n",
       "    <tr>\n",
       "      <th>1</th>\n",
       "      <td>15</td>\n",
       "      <td>48</td>\n",
       "      <td>40.648856</td>\n",
       "      <td>-73.964536</td>\n",
       "    </tr>\n",
       "    <tr>\n",
       "      <th>2</th>\n",
       "      <td>3</td>\n",
       "      <td>10</td>\n",
       "      <td>40.690236</td>\n",
       "      <td>-73.928624</td>\n",
       "    </tr>\n",
       "    <tr>\n",
       "      <th>3</th>\n",
       "      <td>3</td>\n",
       "      <td>10</td>\n",
       "      <td>40.690252</td>\n",
       "      <td>-73.928495</td>\n",
       "    </tr>\n",
       "    <tr>\n",
       "      <th>4</th>\n",
       "      <td>5</td>\n",
       "      <td>16</td>\n",
       "      <td>40.653856</td>\n",
       "      <td>-73.954709</td>\n",
       "    </tr>\n",
       "  </tbody>\n",
       "</table>\n",
       "</div>"
      ],
      "text/plain": [
       "  all_counted_units total_units   latitude   longitude\n",
       "0                 9          28  40.844171  -73.892197\n",
       "1                15          48  40.648856  -73.964536\n",
       "2                 3          10  40.690236  -73.928624\n",
       "3                 3          10  40.690252  -73.928495\n",
       "4                 5          16  40.653856  -73.954709"
      ]
     },
     "execution_count": 277,
     "metadata": {},
     "output_type": "execute_result"
    }
   ],
   "source": [
    "house_start_df = JSON_to_DF(housing_start_JSON, desired_feat)\n",
    "house_start_df.head()"
   ]
  },
  {
   "cell_type": "code",
   "execution_count": 69,
   "id": "2220a9a7-b657-4acd-a51b-f49b1d9960c0",
   "metadata": {},
   "outputs": [
    {
     "data": {
      "text/html": [
       "<div>\n",
       "<style scoped>\n",
       "    .dataframe tbody tr th:only-of-type {\n",
       "        vertical-align: middle;\n",
       "    }\n",
       "\n",
       "    .dataframe tbody tr th {\n",
       "        vertical-align: top;\n",
       "    }\n",
       "\n",
       "    .dataframe thead th {\n",
       "        text-align: right;\n",
       "    }\n",
       "</style>\n",
       "<table border=\"1\" class=\"dataframe\">\n",
       "  <thead>\n",
       "    <tr style=\"text-align: right;\">\n",
       "      <th></th>\n",
       "      <th>latitude</th>\n",
       "      <th>longitude</th>\n",
       "      <th>all_counted_units</th>\n",
       "      <th>total_units</th>\n",
       "    </tr>\n",
       "  </thead>\n",
       "  <tbody>\n",
       "    <tr>\n",
       "      <th>0</th>\n",
       "      <td>40.766618</td>\n",
       "      <td>-73.925719</td>\n",
       "      <td>10</td>\n",
       "      <td>31</td>\n",
       "    </tr>\n",
       "    <tr>\n",
       "      <th>1</th>\n",
       "      <td>40.858099</td>\n",
       "      <td>-73.905388</td>\n",
       "      <td>8</td>\n",
       "      <td>25</td>\n",
       "    </tr>\n",
       "    <tr>\n",
       "      <th>2</th>\n",
       "      <td>40.680762</td>\n",
       "      <td>-73.966791</td>\n",
       "      <td>34</td>\n",
       "      <td>113</td>\n",
       "    </tr>\n",
       "    <tr>\n",
       "      <th>3</th>\n",
       "      <td>40.639152</td>\n",
       "      <td>-73.984225</td>\n",
       "      <td>3</td>\n",
       "      <td>8</td>\n",
       "    </tr>\n",
       "    <tr>\n",
       "      <th>4</th>\n",
       "      <td>40.747525</td>\n",
       "      <td>-73.893776</td>\n",
       "      <td>47</td>\n",
       "      <td>154</td>\n",
       "    </tr>\n",
       "  </tbody>\n",
       "</table>\n",
       "</div>"
      ],
      "text/plain": [
       "    latitude   longitude all_counted_units total_units\n",
       "0  40.766618  -73.925719                10          31\n",
       "1  40.858099  -73.905388                 8          25\n",
       "2  40.680762  -73.966791                34         113\n",
       "3  40.639152  -73.984225                 3           8\n",
       "4  40.747525  -73.893776                47         154"
      ]
     },
     "execution_count": 69,
     "metadata": {},
     "output_type": "execute_result"
    }
   ],
   "source": [
    "house_end_df = JSON_to_DF(housing_complete_JSON, desired_feat)\n",
    "house_end_df.head()"
   ]
  },
  {
   "cell_type": "markdown",
   "id": "7f52e06d-ad6e-422e-b7e8-3a5baff8a655",
   "metadata": {},
   "source": [
    "### Libraries, Parks & Hotels"
   ]
  },
  {
   "cell_type": "code",
   "execution_count": 224,
   "id": "0a90d59f-cd74-4f68-ac05-57d0c342dcb6",
   "metadata": {},
   "outputs": [],
   "source": [
    "#-- API calls-- \n",
    "#for the smaller datasets, no filter required\n",
    "library_JSON = API(library_root, None, None)\n",
    "#only pull active parks\n",
    "parks_JSON = API(parks_root, '?retired=false&$limit=3000', None)\n",
    "hotels_JSON = API(hotels_root, '?taxyear=2021&$limit=6000', None)"
   ]
  },
  {
   "cell_type": "markdown",
   "id": "43f63edb-2acd-47c3-8ab0-ecc5bb9341f9",
   "metadata": {},
   "source": [
    "#### Libraries"
   ]
  },
  {
   "cell_type": "code",
   "execution_count": 309,
   "id": "795bdee9-a049-414b-8ca8-01c4844b8e26",
   "metadata": {},
   "outputs": [
    {
     "name": "stdout",
     "output_type": "stream",
     "text": [
      "(216, 2)\n"
     ]
    },
    {
     "data": {
      "text/html": [
       "<div>\n",
       "<style scoped>\n",
       "    .dataframe tbody tr th:only-of-type {\n",
       "        vertical-align: middle;\n",
       "    }\n",
       "\n",
       "    .dataframe tbody tr th {\n",
       "        vertical-align: top;\n",
       "    }\n",
       "\n",
       "    .dataframe thead th {\n",
       "        text-align: right;\n",
       "    }\n",
       "</style>\n",
       "<table border=\"1\" class=\"dataframe\">\n",
       "  <thead>\n",
       "    <tr style=\"text-align: right;\">\n",
       "      <th></th>\n",
       "      <th>latitude</th>\n",
       "      <th>longitude</th>\n",
       "    </tr>\n",
       "  </thead>\n",
       "  <tbody>\n",
       "    <tr>\n",
       "      <th>0</th>\n",
       "      <td>40.802980</td>\n",
       "      <td>-73.953531</td>\n",
       "    </tr>\n",
       "    <tr>\n",
       "      <th>1</th>\n",
       "      <td>40.803018</td>\n",
       "      <td>-73.934848</td>\n",
       "    </tr>\n",
       "    <tr>\n",
       "      <th>2</th>\n",
       "      <td>40.760807</td>\n",
       "      <td>-73.977363</td>\n",
       "    </tr>\n",
       "    <tr>\n",
       "      <th>3</th>\n",
       "      <td>40.762186</td>\n",
       "      <td>-73.969382</td>\n",
       "    </tr>\n",
       "    <tr>\n",
       "      <th>4</th>\n",
       "      <td>40.764915</td>\n",
       "      <td>-73.959550</td>\n",
       "    </tr>\n",
       "  </tbody>\n",
       "</table>\n",
       "</div>"
      ],
      "text/plain": [
       "    latitude  longitude\n",
       "0  40.802980 -73.953531\n",
       "1  40.803018 -73.934848\n",
       "2  40.760807 -73.977363\n",
       "3  40.762186 -73.969382\n",
       "4  40.764915 -73.959550"
      ]
     },
     "execution_count": 309,
     "metadata": {},
     "output_type": "execute_result"
    }
   ],
   "source": [
    "#pull out desired feats from library\n",
    "desired_feat = ['the_geom']\n",
    "library_geom = JSON_to_DF(library_JSON, desired_feat)\n",
    "\n",
    "#convert geometry point data to coordinates\n",
    "library_df = coord_from_geom(library_geom)\n",
    "print(library_df.shape)\n",
    "library_df.head()"
   ]
  },
  {
   "cell_type": "markdown",
   "id": "afd1a697-f1e8-470a-b72f-a7a02ce9d759",
   "metadata": {
    "tags": []
   },
   "source": [
    "#### Parks"
   ]
  },
  {
   "cell_type": "code",
   "execution_count": 186,
   "id": "36513ca7-957e-4255-975a-af92e1f6247c",
   "metadata": {},
   "outputs": [
    {
     "name": "stdout",
     "output_type": "stream",
     "text": [
      "(2025, 2)\n"
     ]
    },
    {
     "data": {
      "text/html": [
       "<div>\n",
       "<style scoped>\n",
       "    .dataframe tbody tr th:only-of-type {\n",
       "        vertical-align: middle;\n",
       "    }\n",
       "\n",
       "    .dataframe tbody tr th {\n",
       "        vertical-align: top;\n",
       "    }\n",
       "\n",
       "    .dataframe thead th {\n",
       "        text-align: right;\n",
       "    }\n",
       "</style>\n",
       "<table border=\"1\" class=\"dataframe\">\n",
       "  <thead>\n",
       "    <tr style=\"text-align: right;\">\n",
       "      <th></th>\n",
       "      <th>multipolygon</th>\n",
       "      <th>acres</th>\n",
       "    </tr>\n",
       "  </thead>\n",
       "  <tbody>\n",
       "    <tr>\n",
       "      <th>0</th>\n",
       "      <td>{'type': 'MultiPolygon', 'coordinates': [[[[-7...</td>\n",
       "      <td>21.10936646</td>\n",
       "    </tr>\n",
       "    <tr>\n",
       "      <th>1</th>\n",
       "      <td>{'type': 'MultiPolygon', 'coordinates': [[[[-7...</td>\n",
       "      <td>0.89</td>\n",
       "    </tr>\n",
       "    <tr>\n",
       "      <th>2</th>\n",
       "      <td>{'type': 'MultiPolygon', 'coordinates': [[[[-7...</td>\n",
       "      <td>5.739</td>\n",
       "    </tr>\n",
       "    <tr>\n",
       "      <th>3</th>\n",
       "      <td>{'type': 'MultiPolygon', 'coordinates': [[[[-7...</td>\n",
       "      <td>0.001</td>\n",
       "    </tr>\n",
       "    <tr>\n",
       "      <th>4</th>\n",
       "      <td>{'type': 'MultiPolygon', 'coordinates': [[[[-7...</td>\n",
       "      <td>0.032</td>\n",
       "    </tr>\n",
       "  </tbody>\n",
       "</table>\n",
       "</div>"
      ],
      "text/plain": [
       "                                        multipolygon        acres\n",
       "0  {'type': 'MultiPolygon', 'coordinates': [[[[-7...  21.10936646\n",
       "1  {'type': 'MultiPolygon', 'coordinates': [[[[-7...         0.89\n",
       "2  {'type': 'MultiPolygon', 'coordinates': [[[[-7...        5.739\n",
       "3  {'type': 'MultiPolygon', 'coordinates': [[[[-7...        0.001\n",
       "4  {'type': 'MultiPolygon', 'coordinates': [[[[-7...        0.032"
      ]
     },
     "execution_count": 186,
     "metadata": {},
     "output_type": "execute_result"
    }
   ],
   "source": [
    "#pull out desired feats from parks\n",
    "desired_feat = ['multipolygon', 'acres']\n",
    "parks_street = JSON_to_DF(parks_JSON, desired_feat)\n",
    "print(parks_street.shape)\n",
    "parks_street.head()"
   ]
  },
  {
   "cell_type": "code",
   "execution_count": 187,
   "id": "5d1c1d48-ee75-48af-a7da-f0850b66563d",
   "metadata": {},
   "outputs": [],
   "source": [
    "#function to find centroid from list of coordinates\n",
    "def centroid(vertexes):\n",
    "    _x_list = [vertex [0] for vertex in vertexes]\n",
    "    _y_list = [vertex [1] for vertex in vertexes]\n",
    "    _len = len(vertexes)\n",
    "    _x = sum(_x_list) / _len\n",
    "    _y = sum(_y_list) / _len\n",
    "    return(_x, _y)"
   ]
  },
  {
   "cell_type": "code",
   "execution_count": 188,
   "id": "84b379bf-18e3-45d1-84dc-822e5b78a61a",
   "metadata": {},
   "outputs": [
    {
     "data": {
      "text/html": [
       "<div>\n",
       "<style scoped>\n",
       "    .dataframe tbody tr th:only-of-type {\n",
       "        vertical-align: middle;\n",
       "    }\n",
       "\n",
       "    .dataframe tbody tr th {\n",
       "        vertical-align: top;\n",
       "    }\n",
       "\n",
       "    .dataframe thead th {\n",
       "        text-align: right;\n",
       "    }\n",
       "</style>\n",
       "<table border=\"1\" class=\"dataframe\">\n",
       "  <thead>\n",
       "    <tr style=\"text-align: right;\">\n",
       "      <th></th>\n",
       "      <th>acres</th>\n",
       "      <th>latitude</th>\n",
       "      <th>longitude</th>\n",
       "    </tr>\n",
       "  </thead>\n",
       "  <tbody>\n",
       "    <tr>\n",
       "      <th>0</th>\n",
       "      <td>21.10936646</td>\n",
       "      <td>40.796328</td>\n",
       "      <td>-73.897520</td>\n",
       "    </tr>\n",
       "    <tr>\n",
       "      <th>1</th>\n",
       "      <td>0.89</td>\n",
       "      <td>40.682928</td>\n",
       "      <td>-73.930628</td>\n",
       "    </tr>\n",
       "    <tr>\n",
       "      <th>2</th>\n",
       "      <td>5.739</td>\n",
       "      <td>40.690340</td>\n",
       "      <td>-73.999386</td>\n",
       "    </tr>\n",
       "    <tr>\n",
       "      <th>3</th>\n",
       "      <td>0.001</td>\n",
       "      <td>40.730382</td>\n",
       "      <td>-73.874960</td>\n",
       "    </tr>\n",
       "    <tr>\n",
       "      <th>4</th>\n",
       "      <td>0.032</td>\n",
       "      <td>40.621921</td>\n",
       "      <td>-74.022569</td>\n",
       "    </tr>\n",
       "  </tbody>\n",
       "</table>\n",
       "</div>"
      ],
      "text/plain": [
       "         acres   latitude  longitude\n",
       "0  21.10936646  40.796328 -73.897520\n",
       "1         0.89  40.682928 -73.930628\n",
       "2        5.739  40.690340 -73.999386\n",
       "3        0.001  40.730382 -73.874960\n",
       "4        0.032  40.621921 -74.022569"
      ]
     },
     "execution_count": 188,
     "metadata": {},
     "output_type": "execute_result"
    }
   ],
   "source": [
    "#define empty lat, long lists\n",
    "latitude = []\n",
    "longitude = []\n",
    "\n",
    "#for each row \n",
    "for row in range(parks_street.shape[0]):\n",
    "    #pull out polygon coordinates\n",
    "    polygon = parks_street.multipolygon[row]['coordinates'][0][0]\n",
    "    #find the center\n",
    "    center = centroid(polygon)\n",
    "    #append to lat and long (coordinate order is swapped)\n",
    "    #latitude\n",
    "    latitude.append(center[1])\n",
    "    #longitude\n",
    "    longitude.append(center[0])\n",
    "\n",
    "parks_street['latitude'] = latitude\n",
    "parks_street['longitude'] = longitude\n",
    "    \n",
    "parks_df = parks_street.drop('multipolygon', axis = 1)\n",
    "parks_df.head()"
   ]
  },
  {
   "cell_type": "markdown",
   "id": "874834e4-3fd8-4748-9633-fe84e990369f",
   "metadata": {},
   "source": [
    "#### Hotels"
   ]
  },
  {
   "cell_type": "code",
   "execution_count": 281,
   "id": "64f2cb60-e225-4fff-987a-416c56ff74d1",
   "metadata": {},
   "outputs": [
    {
     "name": "stdout",
     "output_type": "stream",
     "text": [
      "(2731, 2)\n"
     ]
    },
    {
     "data": {
      "text/html": [
       "<div>\n",
       "<style scoped>\n",
       "    .dataframe tbody tr th:only-of-type {\n",
       "        vertical-align: middle;\n",
       "    }\n",
       "\n",
       "    .dataframe tbody tr th {\n",
       "        vertical-align: top;\n",
       "    }\n",
       "\n",
       "    .dataframe thead th {\n",
       "        text-align: right;\n",
       "    }\n",
       "</style>\n",
       "<table border=\"1\" class=\"dataframe\">\n",
       "  <thead>\n",
       "    <tr style=\"text-align: right;\">\n",
       "      <th></th>\n",
       "      <th>latitude</th>\n",
       "      <th>longitude</th>\n",
       "    </tr>\n",
       "  </thead>\n",
       "  <tbody>\n",
       "    <tr>\n",
       "      <th>0</th>\n",
       "      <td>40.703235</td>\n",
       "      <td>-74.012421</td>\n",
       "    </tr>\n",
       "    <tr>\n",
       "      <th>1</th>\n",
       "      <td>40.702744</td>\n",
       "      <td>-74.012201</td>\n",
       "    </tr>\n",
       "    <tr>\n",
       "      <th>2</th>\n",
       "      <td>40.704025</td>\n",
       "      <td>-74.012638</td>\n",
       "    </tr>\n",
       "    <tr>\n",
       "      <th>3</th>\n",
       "      <td>40.704039</td>\n",
       "      <td>-74.012317</td>\n",
       "    </tr>\n",
       "    <tr>\n",
       "      <th>4</th>\n",
       "      <td>40.714812</td>\n",
       "      <td>-74.016153</td>\n",
       "    </tr>\n",
       "  </tbody>\n",
       "</table>\n",
       "</div>"
      ],
      "text/plain": [
       "    latitude   longitude\n",
       "0  40.703235  -74.012421\n",
       "1  40.702744  -74.012201\n",
       "2  40.704025  -74.012638\n",
       "3  40.704039  -74.012317\n",
       "4  40.714812  -74.016153"
      ]
     },
     "execution_count": 281,
     "metadata": {},
     "output_type": "execute_result"
    }
   ],
   "source": [
    "#transform from JSON to DF\n",
    "desired_feats = ['latitude', 'longitude']\n",
    "hotels_df = JSON_to_DF(hotels_JSON, desired_feats)\n",
    "print(hotels_df.shape)\n",
    "hotels_df.head()"
   ]
  },
  {
   "cell_type": "code",
   "execution_count": 298,
   "id": "cb08d70b-3d5f-423d-af7d-244d060bec00",
   "metadata": {},
   "outputs": [],
   "source": [
    "hotels_df = hotels_df.apply(pd.to_numeric, errors='coerce')"
   ]
  },
  {
   "cell_type": "markdown",
   "id": "fc01f608-ce92-4d88-b169-714ca6fc3502",
   "metadata": {},
   "source": [
    "#### Facilities\n",
    "\n",
    "Bigger sets, want to pull just based on specific categories so we're getting a clearer picture\n",
    "\n",
    "See `facilities_datadictionary.xlsx` for possible facility category, subcatory, and factype"
   ]
  },
  {
   "cell_type": "code",
   "execution_count": 48,
   "id": "80877d9c-083f-43f8-85dd-f7063ba36199",
   "metadata": {},
   "outputs": [],
   "source": [
    "#-- API call--\n",
    "\n",
    "#make dict to store JSON returns\n",
    "facility_JSONs = {}\n",
    "\n",
    "#define subgroups we want\n",
    "facility_subgroup = ['PARKING LOTS AND GARAGES', 'STREETSCAPES, PLAZAS, AND MALLS', 'MUSEUMS',\n",
    "                     'NON-PUBLIC K-12 SCHOOLS', 'PUBLIC K-12 SCHOOLS', 'COLLEGES OR UNIVERSITIES', \n",
    "                    'HOSPITALS AND CLINICS', 'BUS DEPOTS AND TERMINALS'] \n",
    "\n",
    "#loop through each subgroup and call JSON\n",
    "for subgroup in facility_subgroup:\n",
    "    #define endpoint with higher limit\n",
    "    endpoint = facilities_root + f\"?facsubgrp={subgroup}&$limit=3000\"\n",
    "    #GET\n",
    "    response = re.get(endpoint, \n",
    "                      data={'app_token': os.environ['NYC_TOKEN']})\n",
    "   \n",
    "    #return status code and results\n",
    "    status_code, facility_JSONs[subgroup] = response.status_code, response.json()"
   ]
  },
  {
   "cell_type": "code",
   "execution_count": 49,
   "id": "6f7aa274-f041-4e2e-b02a-2f196fe87a97",
   "metadata": {},
   "outputs": [
    {
     "name": "stdout",
     "output_type": "stream",
     "text": [
      "PARKING LOTS AND GARAGES 2559\n",
      "STREETSCAPES, PLAZAS, AND MALLS 560\n",
      "MUSEUMS 138\n",
      "NON-PUBLIC K-12 SCHOOLS 1113\n",
      "PUBLIC K-12 SCHOOLS 1515\n",
      "COLLEGES OR UNIVERSITIES 132\n",
      "HOSPITALS AND CLINICS 1191\n",
      "BUS DEPOTS AND TERMINALS 144\n"
     ]
    }
   ],
   "source": [
    "#number of return values for each JSON\n",
    "for JSON in facility_JSONs:\n",
    "    print(JSON, len(facility_JSONs[JSON]))"
   ]
  },
  {
   "cell_type": "code",
   "execution_count": 222,
   "id": "462bac8a-f7c4-4f3a-b6c6-885e9c5b8ccc",
   "metadata": {},
   "outputs": [],
   "source": [
    "#name lat, long columns\n",
    "facility_features = ['latitude', 'longitude']\n",
    "#create empty dict\n",
    "facility_df = {}\n",
    "#for every JSON, translate to pandas DF and store into dict under its name\n",
    "for JSON in facility_JSONs:\n",
    "    facility_df[JSON] = JSON_to_DF(facility_JSONs[JSON], facility_features)"
   ]
  },
  {
   "cell_type": "code",
   "execution_count": 196,
   "id": "95b09cfb-c389-400d-aed6-713cff7b01ec",
   "metadata": {},
   "outputs": [
    {
     "data": {
      "text/html": [
       "<div>\n",
       "<style scoped>\n",
       "    .dataframe tbody tr th:only-of-type {\n",
       "        vertical-align: middle;\n",
       "    }\n",
       "\n",
       "    .dataframe tbody tr th {\n",
       "        vertical-align: top;\n",
       "    }\n",
       "\n",
       "    .dataframe thead th {\n",
       "        text-align: right;\n",
       "    }\n",
       "</style>\n",
       "<table border=\"1\" class=\"dataframe\">\n",
       "  <thead>\n",
       "    <tr style=\"text-align: right;\">\n",
       "      <th></th>\n",
       "      <th>latitude</th>\n",
       "      <th>longitude</th>\n",
       "    </tr>\n",
       "  </thead>\n",
       "  <tbody>\n",
       "    <tr>\n",
       "      <th>0</th>\n",
       "      <td>40.60339034490</td>\n",
       "      <td>-73.99677939040</td>\n",
       "    </tr>\n",
       "    <tr>\n",
       "      <th>1</th>\n",
       "      <td>40.71255221990</td>\n",
       "      <td>-73.95334101910</td>\n",
       "    </tr>\n",
       "    <tr>\n",
       "      <th>2</th>\n",
       "      <td>40.70182731130</td>\n",
       "      <td>-73.81731462730</td>\n",
       "    </tr>\n",
       "    <tr>\n",
       "      <th>3</th>\n",
       "      <td>40.76871612370</td>\n",
       "      <td>-73.95720086870</td>\n",
       "    </tr>\n",
       "    <tr>\n",
       "      <th>4</th>\n",
       "      <td>40.82459184960</td>\n",
       "      <td>-73.84338192360</td>\n",
       "    </tr>\n",
       "  </tbody>\n",
       "</table>\n",
       "</div>"
      ],
      "text/plain": [
       "         latitude        longitude\n",
       "0  40.60339034490  -73.99677939040\n",
       "1  40.71255221990  -73.95334101910\n",
       "2  40.70182731130  -73.81731462730\n",
       "3  40.76871612370  -73.95720086870\n",
       "4  40.82459184960  -73.84338192360"
      ]
     },
     "execution_count": 196,
     "metadata": {},
     "output_type": "execute_result"
    }
   ],
   "source": [
    "#test print a facility dataframe\n",
    "facility_df[facility_subgroup[0]].head()"
   ]
  },
  {
   "cell_type": "code",
   "execution_count": 205,
   "id": "b12bad59-3949-42dd-86a7-dd41872cae81",
   "metadata": {},
   "outputs": [
    {
     "name": "stdout",
     "output_type": "stream",
     "text": [
      "(7352, 3)\n"
     ]
    },
    {
     "data": {
      "text/html": [
       "<div>\n",
       "<style scoped>\n",
       "    .dataframe tbody tr th:only-of-type {\n",
       "        vertical-align: middle;\n",
       "    }\n",
       "\n",
       "    .dataframe tbody tr th {\n",
       "        vertical-align: top;\n",
       "    }\n",
       "\n",
       "    .dataframe thead th {\n",
       "        text-align: right;\n",
       "    }\n",
       "</style>\n",
       "<table border=\"1\" class=\"dataframe\">\n",
       "  <thead>\n",
       "    <tr style=\"text-align: right;\">\n",
       "      <th></th>\n",
       "      <th>factype</th>\n",
       "      <th>latitude</th>\n",
       "      <th>longitude</th>\n",
       "    </tr>\n",
       "  </thead>\n",
       "  <tbody>\n",
       "    <tr>\n",
       "      <th>0</th>\n",
       "      <td>PARKING LOTS AND GARAGES</td>\n",
       "      <td>40.60339034490</td>\n",
       "      <td>-73.99677939040</td>\n",
       "    </tr>\n",
       "    <tr>\n",
       "      <th>1</th>\n",
       "      <td>PARKING LOTS AND GARAGES</td>\n",
       "      <td>40.71255221990</td>\n",
       "      <td>-73.95334101910</td>\n",
       "    </tr>\n",
       "    <tr>\n",
       "      <th>2</th>\n",
       "      <td>PARKING LOTS AND GARAGES</td>\n",
       "      <td>40.70182731130</td>\n",
       "      <td>-73.81731462730</td>\n",
       "    </tr>\n",
       "    <tr>\n",
       "      <th>3</th>\n",
       "      <td>PARKING LOTS AND GARAGES</td>\n",
       "      <td>40.76871612370</td>\n",
       "      <td>-73.95720086870</td>\n",
       "    </tr>\n",
       "    <tr>\n",
       "      <th>4</th>\n",
       "      <td>PARKING LOTS AND GARAGES</td>\n",
       "      <td>40.82459184960</td>\n",
       "      <td>-73.84338192360</td>\n",
       "    </tr>\n",
       "  </tbody>\n",
       "</table>\n",
       "</div>"
      ],
      "text/plain": [
       "                    factype        latitude        longitude\n",
       "0  PARKING LOTS AND GARAGES  40.60339034490  -73.99677939040\n",
       "1  PARKING LOTS AND GARAGES  40.71255221990  -73.95334101910\n",
       "2  PARKING LOTS AND GARAGES  40.70182731130  -73.81731462730\n",
       "3  PARKING LOTS AND GARAGES  40.76871612370  -73.95720086870\n",
       "4  PARKING LOTS AND GARAGES  40.82459184960  -73.84338192360"
      ]
     },
     "execution_count": 205,
     "metadata": {},
     "output_type": "execute_result"
    }
   ],
   "source": [
    "#concatinate all facilities into one dataframe, using title as factype column\n",
    "facility_all = pd.concat(facility_df).reset_index().drop('level_1', axis = 1)\n",
    "facility_all = facility_all.rename(columns={'level_0': 'factype'})\n",
    "print(facility_all.shape)\n",
    "facility_all.head()"
   ]
  },
  {
   "cell_type": "code",
   "execution_count": 306,
   "id": "305bc97c-ffc1-4874-b7d2-a3cabd776faf",
   "metadata": {},
   "outputs": [
    {
     "data": {
      "text/plain": [
       "factype       object\n",
       "latitude     float64\n",
       "longitude    float64\n",
       "dtype: object"
      ]
     },
     "execution_count": 306,
     "metadata": {},
     "output_type": "execute_result"
    }
   ],
   "source": [
    "#replace object lat_long with floata\n",
    "facility_all[['latitude', 'longitude']] = facility_all[['latitude', 'longitude']].apply(pd.to_numeric, errors='coerce')\n",
    "facility_all.dtypes"
   ]
  },
  {
   "cell_type": "markdown",
   "id": "3d7a1f62-4505-4ab8-93e9-026468632b26",
   "metadata": {},
   "source": [
    "### Binning work"
   ]
  },
  {
   "cell_type": "code",
   "execution_count": 235,
   "id": "257c0f4d-4d11-488a-9fac-b30913f88c3f",
   "metadata": {},
   "outputs": [
    {
     "data": {
      "text/html": [
       "<div>\n",
       "<style scoped>\n",
       "    .dataframe tbody tr th:only-of-type {\n",
       "        vertical-align: middle;\n",
       "    }\n",
       "\n",
       "    .dataframe tbody tr th {\n",
       "        vertical-align: top;\n",
       "    }\n",
       "\n",
       "    .dataframe thead th {\n",
       "        text-align: right;\n",
       "    }\n",
       "</style>\n",
       "<table border=\"1\" class=\"dataframe\">\n",
       "  <thead>\n",
       "    <tr style=\"text-align: right;\">\n",
       "      <th></th>\n",
       "      <th>latitude</th>\n",
       "      <th>longitude</th>\n",
       "    </tr>\n",
       "  </thead>\n",
       "  <tbody>\n",
       "    <tr>\n",
       "      <th>0</th>\n",
       "      <td>40.768352</td>\n",
       "      <td>-73.809546</td>\n",
       "    </tr>\n",
       "    <tr>\n",
       "      <th>1</th>\n",
       "      <td>40.763352</td>\n",
       "      <td>-73.868396</td>\n",
       "    </tr>\n",
       "    <tr>\n",
       "      <th>2</th>\n",
       "      <td>40.734894</td>\n",
       "      <td>-73.783716</td>\n",
       "    </tr>\n",
       "    <tr>\n",
       "      <th>3</th>\n",
       "      <td>40.755734</td>\n",
       "      <td>-73.983503</td>\n",
       "    </tr>\n",
       "    <tr>\n",
       "      <th>4</th>\n",
       "      <td>40.818055</td>\n",
       "      <td>-73.856188</td>\n",
       "    </tr>\n",
       "  </tbody>\n",
       "</table>\n",
       "</div>"
      ],
      "text/plain": [
       "    latitude  longitude\n",
       "0  40.768352 -73.809546\n",
       "1  40.763352 -73.868396\n",
       "2  40.734894 -73.783716\n",
       "3  40.755734 -73.983503\n",
       "4  40.818055 -73.856188"
      ]
     },
     "execution_count": 235,
     "metadata": {},
     "output_type": "execute_result"
    }
   ],
   "source": [
    "#get NTA centroid list\n",
    "NTA = pd.read_csv('../Mid-term/Mid-Term-Project/processed_data/geocoded_population.csv').loc[:, ['latitude', 'longitude']]\n",
    "NTA.head()"
   ]
  },
  {
   "cell_type": "code",
   "execution_count": 249,
   "id": "9c3f1197-0a99-4a12-9f23-a3e6985e925f",
   "metadata": {},
   "outputs": [],
   "source": [
    "def bin_test(dataframe):\n",
    "    \n",
    "    for i in range(dataframe.shape[0]):\n",
    "        df_lat, df_long = dataframe.latitude[i], dataframe.longitude[i]\n",
    "    \n",
    "        difference = []\n",
    "        \n",
    "        for lat, long in NTA.values:\n",
    "            print(abs(df_lat - lat))"
   ]
  },
  {
   "cell_type": "markdown",
   "id": "e11c8d32-5e50-4db2-971b-86b0f07a62fd",
   "metadata": {
    "tags": []
   },
   "source": [
    "### To csv"
   ]
  },
  {
   "cell_type": "code",
   "execution_count": 310,
   "id": "dfe1478a-e577-4e1f-9eea-0334ac956a6a",
   "metadata": {},
   "outputs": [],
   "source": [
    "#save final dataframes to csv\n",
    "library_df.to_csv('../Mid-term/Mid-Term-Project/processed_data/libraries.csv')\n",
    "parks_df.to_csv('../Mid-term/Mid-Term-Project/processed_data/parks.csv')\n",
    "hotels_df.to_csv('../Mid-term/Mid-Term-Project/processed_data/hotels.csv')\n",
    "facility_all.to_csv('../Mid-term/Mid-Term-Project/processed_data/facilities.csv')"
   ]
  },
  {
   "cell_type": "markdown",
   "id": "36941be1-5ef8-4512-b290-fcad5f1f503f",
   "metadata": {
    "jp-MarkdownHeadingCollapsed": true,
    "tags": []
   },
   "source": [
    "## Discontinued"
   ]
  },
  {
   "cell_type": "markdown",
   "id": "339754cb-8256-4723-b18f-d78ae5eb7763",
   "metadata": {
    "tags": []
   },
   "source": [
    "#### Business"
   ]
  },
  {
   "cell_type": "code",
   "execution_count": 159,
   "id": "39f925d4-af4e-4b05-9c24-02e1821db167",
   "metadata": {
    "tags": []
   },
   "outputs": [
    {
     "name": "stdout",
     "output_type": "stream",
     "text": [
      "Something went wrong!\n",
      "400\n",
      "Something went wrong!\n",
      "400\n"
     ]
    }
   ],
   "source": [
    "#within range\n",
    "business_started = range_SODA(business_root, 'license_creation_date', [range_start,range_end])\n",
    "business_ended = range_SODA(business_root, 'lic_expir_dd', [range_start,range_end])\n",
    "#all businesses with active license [may have limit?]\n",
    "business_active = API('https://data.cityofnewyork.us/resource/w7w3-xahh.json', None, {'license_status': 'Active'})"
   ]
  },
  {
   "cell_type": "markdown",
   "id": "a74c08dd-deab-497b-a560-c7e36151fb9f",
   "metadata": {
    "jp-MarkdownHeadingCollapsed": true,
    "tags": []
   },
   "source": [
    "#### Places"
   ]
  },
  {
   "cell_type": "code",
   "execution_count": null,
   "id": "f374bda8-caf1-46ec-9eff-3a2c99c6932d",
   "metadata": {},
   "outputs": [],
   "source": [
    "#-- API Call --\n",
    "places_JSON = API(places_root, None, None)"
   ]
  },
  {
   "cell_type": "code",
   "execution_count": 101,
   "id": "6957e00d-0188-49e4-9927-0ec8ce3c212d",
   "metadata": {},
   "outputs": [
    {
     "name": "stdout",
     "output_type": "stream",
     "text": [
      "(96, 3)\n"
     ]
    },
    {
     "data": {
      "text/html": [
       "<div>\n",
       "<style scoped>\n",
       "    .dataframe tbody tr th:only-of-type {\n",
       "        vertical-align: middle;\n",
       "    }\n",
       "\n",
       "    .dataframe tbody tr th {\n",
       "        vertical-align: top;\n",
       "    }\n",
       "\n",
       "    .dataframe thead th {\n",
       "        text-align: right;\n",
       "    }\n",
       "</style>\n",
       "<table border=\"1\" class=\"dataframe\">\n",
       "  <thead>\n",
       "    <tr style=\"text-align: right;\">\n",
       "      <th></th>\n",
       "      <th>annoline2a</th>\n",
       "      <th>latitude</th>\n",
       "      <th>longitude</th>\n",
       "    </tr>\n",
       "  </thead>\n",
       "  <tbody>\n",
       "    <tr>\n",
       "      <th>0</th>\n",
       "      <td>Cortlandt</td>\n",
       "      <td>-73.888958</td>\n",
       "      <td>40.896210</td>\n",
       "    </tr>\n",
       "    <tr>\n",
       "      <th>1</th>\n",
       "      <td>Cemetery</td>\n",
       "      <td>-73.871651</td>\n",
       "      <td>40.889879</td>\n",
       "    </tr>\n",
       "    <tr>\n",
       "      <th>2</th>\n",
       "      <td>Falls</td>\n",
       "      <td>-73.838642</td>\n",
       "      <td>40.886965</td>\n",
       "    </tr>\n",
       "    <tr>\n",
       "      <th>3</th>\n",
       "      <td>Bay</td>\n",
       "      <td>-73.809802</td>\n",
       "      <td>40.877986</td>\n",
       "    </tr>\n",
       "    <tr>\n",
       "      <th>4</th>\n",
       "      <td>Garden</td>\n",
       "      <td>-73.878308</td>\n",
       "      <td>40.864424</td>\n",
       "    </tr>\n",
       "  </tbody>\n",
       "</table>\n",
       "</div>"
      ],
      "text/plain": [
       "  annoline2a   latitude  longitude\n",
       "0  Cortlandt -73.888958  40.896210\n",
       "1   Cemetery -73.871651  40.889879\n",
       "2      Falls -73.838642  40.886965\n",
       "3        Bay -73.809802  40.877986\n",
       "4     Garden -73.878308  40.864424"
      ]
     },
     "execution_count": 101,
     "metadata": {},
     "output_type": "execute_result"
    }
   ],
   "source": [
    "#pull out desired feats from places\n",
    "desired_feat = ['annoline2a', 'the_geom']\n",
    "places_geom = JSON_to_DF(places_JSON, desired_feat)\n",
    "\n",
    "#convert geometry point data to coordinates\n",
    "places_df = coord_from_geom(places_geom)\n",
    "print(places_df.shape)\n",
    "places_df.head()"
   ]
  }
 ],
 "metadata": {
  "kernelspec": {
   "display_name": "Python 3 (ipykernel)",
   "language": "python",
   "name": "python3"
  },
  "language_info": {
   "codemirror_mode": {
    "name": "ipython",
    "version": 3
   },
   "file_extension": ".py",
   "mimetype": "text/x-python",
   "name": "python",
   "nbconvert_exporter": "python",
   "pygments_lexer": "ipython3",
   "version": "3.9.7"
  }
 },
 "nbformat": 4,
 "nbformat_minor": 5
}
