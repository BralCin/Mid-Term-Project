{
 "cells": [
  {
   "cell_type": "code",
   "execution_count": 1,
   "id": "e8745837-9476-44ff-922f-2ce565abdb6b",
   "metadata": {},
   "outputs": [],
   "source": [
    "import pandas as pd\n",
    "import requests\n",
    "import googlemaps\n",
    "from datetime import datetime"
   ]
  },
  {
   "cell_type": "code",
   "execution_count": 2,
   "id": "99d4bf16-46df-4fa6-85a0-9015bfd715d6",
   "metadata": {},
   "outputs": [
    {
     "name": "stderr",
     "output_type": "stream",
     "text": [
      "/tmp/ipykernel_5067/837621976.py:4: FutureWarning: Dropping of nuisance columns in DataFrame reductions (with 'numeric_only=None') is deprecated; in a future version this will raise TypeError.  Select only valid columns before calling the reduction.\n",
      "  df['traffic'] = (df.iloc[:, 5:].sum(axis=1)) / 24\n"
     ]
    }
   ],
   "source": [
    "df = pd.read_csv(\"../Mid-Term-Project/raw_data/traffic/traffic.csv\")\n",
    "\n",
    "df = df[df[\"Date\"].str.contains(\"2020\") == True]\n",
    "df['traffic'] = (df.iloc[:, 5:].sum(axis=1)) / 24\n",
    "df = df[['ID', 'Roadway Name', 'To', 'traffic']].copy()"
   ]
  },
  {
   "cell_type": "code",
   "execution_count": 3,
   "id": "04cd2ed3-4305-41fe-a587-e32a465cd1df",
   "metadata": {},
   "outputs": [],
   "source": [
    "df_mean = df.groupby(['ID']).mean()\n",
    "df_mean = df_mean.reset_index()"
   ]
  },
  {
   "cell_type": "code",
   "execution_count": 4,
   "id": "cc0d1aa2-4d84-43da-a7c1-3b97e1bb4395",
   "metadata": {},
   "outputs": [],
   "source": [
    "df = df.drop(['traffic'], axis=1)\n",
    "df = df.drop_duplicates()"
   ]
  },
  {
   "cell_type": "code",
   "execution_count": 5,
   "id": "406d36fb-89ba-4150-89e3-31788c6b8ba6",
   "metadata": {},
   "outputs": [],
   "source": [
    "traffic = df.set_index('ID').join(df_mean.set_index('ID'))\n",
    "traffic = traffic.reset_index()\n",
    "traffic = traffic.drop_duplicates(subset=['ID'], keep='first')"
   ]
  },
  {
   "cell_type": "code",
   "execution_count": 6,
   "id": "f81f591a-9dbf-4f64-82bb-78567b7cb61e",
   "metadata": {},
   "outputs": [],
   "source": [
    "gmaps = googlemaps.Client(key='GOOGLE_API_KEY')"
   ]
  },
  {
   "cell_type": "code",
   "execution_count": null,
   "id": "8ac98b4a-1be3-4479-b861-ecf898650cb2",
   "metadata": {},
   "outputs": [],
   "source": [
    "lat_long = []\n",
    "for i in range(len(traffic)):\n",
    "    first = traffic.iloc[i][1]\n",
    "    second = traffic.iloc[i][2]\n",
    "    geocode_result = gmaps.geocode(f'{first}, {second}, NY')\n",
    "    coords = (geocode_result[0]['geometry']['location']['lat'], geocode_result[0]['geometry']['location']['lng'])\n",
    "    lat_long.append(coords)"
   ]
  },
  {
   "cell_type": "code",
   "execution_count": null,
   "id": "917ddca3-2dac-4856-894c-0610bc5de9ce",
   "metadata": {},
   "outputs": [],
   "source": [
    "lat = []\n",
    "lng = []\n",
    "for i in range(349):\n",
    "    lat.append(lat_long[i][0])\n",
    "    lng.append(lat_long[i][1])"
   ]
  },
  {
   "cell_type": "code",
   "execution_count": null,
   "id": "93110a23-5f38-45ea-8fd6-7bf042af8aa8",
   "metadata": {},
   "outputs": [],
   "source": [
    "traffic = traffic.drop(['Roadway Name', 'To'], axis=1)\n",
    "traffic['latitude'] = lat\n",
    "traffic['longitude'] = lng"
   ]
  },
  {
   "cell_type": "code",
   "execution_count": null,
   "id": "fafc8c05-a38c-4a90-ba3d-e9a49d7e0233",
   "metadata": {},
   "outputs": [],
   "source": [
    "traffic.to_csv('../Mid-Term-Project/processed_data/geocoded_traffic.csv', index=False, encoding='utf-8')"
   ]
  },
  {
   "cell_type": "code",
   "execution_count": null,
   "id": "1ab3e1b2-b69a-48b6-87f9-f8e15b0e4b44",
   "metadata": {},
   "outputs": [],
   "source": []
  }
 ],
 "metadata": {
  "kernelspec": {
   "display_name": "Python 3 (ipykernel)",
   "language": "python",
   "name": "python3"
  },
  "language_info": {
   "codemirror_mode": {
    "name": "ipython",
    "version": 3
   },
   "file_extension": ".py",
   "mimetype": "text/x-python",
   "name": "python",
   "nbconvert_exporter": "python",
   "pygments_lexer": "ipython3",
   "version": "3.9.7"
  }
 },
 "nbformat": 4,
 "nbformat_minor": 5
}
