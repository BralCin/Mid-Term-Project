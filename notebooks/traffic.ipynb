{
 "cells": [
  {
   "cell_type": "code",
   "execution_count": 1,
   "id": "e8745837-9476-44ff-922f-2ce565abdb6b",
   "metadata": {},
   "outputs": [],
   "source": [
    "import pandas as pd\n",
    "import requests\n",
    "import googlemaps\n",
    "from datetime import datetime"
   ]
  },
  {
   "cell_type": "code",
   "execution_count": 2,
   "id": "99d4bf16-46df-4fa6-85a0-9015bfd715d6",
   "metadata": {},
   "outputs": [
    {
     "name": "stderr",
     "output_type": "stream",
     "text": [
      "/tmp/ipykernel_58377/3097917546.py:4: FutureWarning: Dropping of nuisance columns in DataFrame reductions (with 'numeric_only=None') is deprecated; in a future version this will raise TypeError.  Select only valid columns before calling the reduction.\n",
      "  df['traffic'] = (df.iloc[:, 5:].sum(axis=1)) / 24\n"
     ]
    }
   ],
   "source": [
    "df = pd.read_csv(\"../raw_data/traffic/traffic.csv\")\n",
    "\n",
    "df = df[df[\"Date\"].str.contains(\"2020\") == True]\n",
    "df['traffic'] = (df.iloc[:, 5:].sum(axis=1)) / 24\n",
    "df = df[['ID', 'Roadway Name', 'To', 'traffic']].copy()"
   ]
  },
  {
   "cell_type": "code",
   "execution_count": 3,
   "id": "04cd2ed3-4305-41fe-a587-e32a465cd1df",
   "metadata": {},
   "outputs": [],
   "source": [
    "df_mean = df.groupby(['ID']).mean()\n",
    "df_mean = df_mean.reset_index()"
   ]
  },
  {
   "cell_type": "code",
   "execution_count": 4,
   "id": "cc0d1aa2-4d84-43da-a7c1-3b97e1bb4395",
   "metadata": {},
   "outputs": [],
   "source": [
    "df = df.drop(['traffic'], axis=1)\n",
    "df = df.drop_duplicates()"
   ]
  },
  {
   "cell_type": "code",
   "execution_count": 5,
   "id": "406d36fb-89ba-4150-89e3-31788c6b8ba6",
   "metadata": {},
   "outputs": [],
   "source": [
    "traffic = df.set_index('ID').join(df_mean.set_index('ID'))\n",
    "traffic = traffic.reset_index()\n",
    "traffic = traffic.drop_duplicates(subset=['ID'], keep='first')"
   ]
  },
  {
   "cell_type": "code",
   "execution_count": 8,
   "id": "f81f591a-9dbf-4f64-82bb-78567b7cb61e",
   "metadata": {},
   "outputs": [],
   "source": [
    "gmaps = googlemaps.Client(key='GOOGLE_API_KEY')"
   ]
  },
  {
   "cell_type": "code",
   "execution_count": 9,
   "id": "8ac98b4a-1be3-4479-b861-ecf898650cb2",
   "metadata": {},
   "outputs": [],
   "source": [
    "lat_long = []\n",
    "for i in range(len(traffic)):\n",
    "    first = traffic.iloc[i][1]\n",
    "    second = traffic.iloc[i][2]\n",
    "    geocode_result = gmaps.geocode(f'{first}, {second}, NY')\n",
    "    coords = (geocode_result[0]['geometry']['location']['lat'], geocode_result[0]['geometry']['location']['lng'])\n",
    "    lat_long.append(coords)"
   ]
  },
  {
   "cell_type": "code",
   "execution_count": 10,
   "id": "917ddca3-2dac-4856-894c-0610bc5de9ce",
   "metadata": {},
   "outputs": [],
   "source": [
    "lat = []\n",
    "lng = []\n",
    "for i in range(349):\n",
    "    lat.append(lat_long[i][0])\n",
    "    lng.append(lat_long[i][1])"
   ]
  },
  {
   "cell_type": "code",
   "execution_count": 11,
   "id": "93110a23-5f38-45ea-8fd6-7bf042af8aa8",
   "metadata": {},
   "outputs": [],
   "source": [
    "traffic = traffic.drop(['Roadway Name', 'To', 'ID'], axis=1)\n",
    "traffic['latitude'] = lat\n",
    "traffic['longitude'] = lng"
   ]
  },
  {
   "cell_type": "code",
   "execution_count": 12,
   "id": "6e630abf-b0ad-41d2-8d3d-6262e13f8b60",
   "metadata": {},
   "outputs": [
    {
     "data": {
      "text/html": [
       "<div>\n",
       "<style scoped>\n",
       "    .dataframe tbody tr th:only-of-type {\n",
       "        vertical-align: middle;\n",
       "    }\n",
       "\n",
       "    .dataframe tbody tr th {\n",
       "        vertical-align: top;\n",
       "    }\n",
       "\n",
       "    .dataframe thead th {\n",
       "        text-align: right;\n",
       "    }\n",
       "</style>\n",
       "<table border=\"1\" class=\"dataframe\">\n",
       "  <thead>\n",
       "    <tr style=\"text-align: right;\">\n",
       "      <th></th>\n",
       "      <th>traffic</th>\n",
       "      <th>latitude</th>\n",
       "      <th>longitude</th>\n",
       "    </tr>\n",
       "  </thead>\n",
       "  <tbody>\n",
       "    <tr>\n",
       "      <th>0</th>\n",
       "      <td>954.828704</td>\n",
       "      <td>40.760866</td>\n",
       "      <td>-73.961061</td>\n",
       "    </tr>\n",
       "    <tr>\n",
       "      <th>1</th>\n",
       "      <td>1027.875000</td>\n",
       "      <td>40.800984</td>\n",
       "      <td>-73.931779</td>\n",
       "    </tr>\n",
       "    <tr>\n",
       "      <th>2</th>\n",
       "      <td>662.504630</td>\n",
       "      <td>40.730013</td>\n",
       "      <td>-73.983522</td>\n",
       "    </tr>\n",
       "    <tr>\n",
       "      <th>3</th>\n",
       "      <td>684.055556</td>\n",
       "      <td>40.739396</td>\n",
       "      <td>-73.976695</td>\n",
       "    </tr>\n",
       "    <tr>\n",
       "      <th>4</th>\n",
       "      <td>976.597222</td>\n",
       "      <td>40.762194</td>\n",
       "      <td>-73.993613</td>\n",
       "    </tr>\n",
       "    <tr>\n",
       "      <th>...</th>\n",
       "      <td>...</td>\n",
       "      <td>...</td>\n",
       "      <td>...</td>\n",
       "    </tr>\n",
       "    <tr>\n",
       "      <th>368</th>\n",
       "      <td>337.578704</td>\n",
       "      <td>40.759920</td>\n",
       "      <td>-73.958829</td>\n",
       "    </tr>\n",
       "    <tr>\n",
       "      <th>370</th>\n",
       "      <td>303.451389</td>\n",
       "      <td>40.768816</td>\n",
       "      <td>-73.952325</td>\n",
       "    </tr>\n",
       "    <tr>\n",
       "      <th>371</th>\n",
       "      <td>752.300926</td>\n",
       "      <td>40.747521</td>\n",
       "      <td>-73.993776</td>\n",
       "    </tr>\n",
       "    <tr>\n",
       "      <th>372</th>\n",
       "      <td>165.064815</td>\n",
       "      <td>40.821958</td>\n",
       "      <td>-73.928103</td>\n",
       "    </tr>\n",
       "    <tr>\n",
       "      <th>373</th>\n",
       "      <td>121.916667</td>\n",
       "      <td>40.759279</td>\n",
       "      <td>-73.980878</td>\n",
       "    </tr>\n",
       "  </tbody>\n",
       "</table>\n",
       "<p>349 rows × 3 columns</p>\n",
       "</div>"
      ],
      "text/plain": [
       "         traffic   latitude  longitude\n",
       "0     954.828704  40.760866 -73.961061\n",
       "1    1027.875000  40.800984 -73.931779\n",
       "2     662.504630  40.730013 -73.983522\n",
       "3     684.055556  40.739396 -73.976695\n",
       "4     976.597222  40.762194 -73.993613\n",
       "..           ...        ...        ...\n",
       "368   337.578704  40.759920 -73.958829\n",
       "370   303.451389  40.768816 -73.952325\n",
       "371   752.300926  40.747521 -73.993776\n",
       "372   165.064815  40.821958 -73.928103\n",
       "373   121.916667  40.759279 -73.980878\n",
       "\n",
       "[349 rows x 3 columns]"
      ]
     },
     "execution_count": 12,
     "metadata": {},
     "output_type": "execute_result"
    }
   ],
   "source": [
    "traffic"
   ]
  },
  {
   "cell_type": "code",
   "execution_count": 14,
   "id": "fafc8c05-a38c-4a90-ba3d-e9a49d7e0233",
   "metadata": {},
   "outputs": [],
   "source": [
    "traffic.to_csv('../processed_data/geocoded_traffic.csv', index=False, encoding='utf-8')"
   ]
  },
  {
   "cell_type": "code",
   "execution_count": null,
   "id": "1ab3e1b2-b69a-48b6-87f9-f8e15b0e4b44",
   "metadata": {},
   "outputs": [],
   "source": []
  }
 ],
 "metadata": {
  "kernelspec": {
   "display_name": "Python 3 (ipykernel)",
   "language": "python",
   "name": "python3"
  },
  "language_info": {
   "codemirror_mode": {
    "name": "ipython",
    "version": 3
   },
   "file_extension": ".py",
   "mimetype": "text/x-python",
   "name": "python",
   "nbconvert_exporter": "python",
   "pygments_lexer": "ipython3",
   "version": "3.9.7"
  }
 },
 "nbformat": 4,
 "nbformat_minor": 5
}
