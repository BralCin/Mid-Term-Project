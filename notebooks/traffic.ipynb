{
 "cells": [
  {
   "cell_type": "code",
   "execution_count": 17,
   "id": "e8745837-9476-44ff-922f-2ce565abdb6b",
   "metadata": {},
   "outputs": [],
   "source": [
    "import pandas as pd\n",
    "import numpy as np\n",
    "import requests\n",
    "import googlemaps\n",
    "from sklearn.preprocessing import MinMaxScaler"
   ]
  },
  {
   "cell_type": "code",
   "execution_count": 31,
   "id": "a963e8da-029a-41aa-953a-4d291b4a2d38",
   "metadata": {},
   "outputs": [],
   "source": [
    "%run -i ../notebooks/functions.py"
   ]
  },
  {
   "cell_type": "code",
   "execution_count": 2,
   "id": "99d4bf16-46df-4fa6-85a0-9015bfd715d6",
   "metadata": {},
   "outputs": [
    {
     "name": "stderr",
     "output_type": "stream",
     "text": [
      "/tmp/ipykernel_32215/3097917546.py:4: FutureWarning: Dropping of nuisance columns in DataFrame reductions (with 'numeric_only=None') is deprecated; in a future version this will raise TypeError.  Select only valid columns before calling the reduction.\n",
      "  df['traffic'] = (df.iloc[:, 5:].sum(axis=1)) / 24\n"
     ]
    }
   ],
   "source": [
    "df = pd.read_csv(\"../raw_data/traffic/traffic.csv\")\n",
    "\n",
    "df = df[df[\"Date\"].str.contains(\"2020\") == True]\n",
    "df['traffic'] = (df.iloc[:, 5:].sum(axis=1)) / 24\n",
    "df = df[['ID', 'Roadway Name', 'To', 'traffic']].copy()"
   ]
  },
  {
   "cell_type": "code",
   "execution_count": 3,
   "id": "04cd2ed3-4305-41fe-a587-e32a465cd1df",
   "metadata": {},
   "outputs": [],
   "source": [
    "df_mean = df.groupby(['ID']).mean()\n",
    "df_mean = df_mean.reset_index()"
   ]
  },
  {
   "cell_type": "code",
   "execution_count": 4,
   "id": "cc0d1aa2-4d84-43da-a7c1-3b97e1bb4395",
   "metadata": {},
   "outputs": [],
   "source": [
    "df = df.drop(['traffic'], axis=1)\n",
    "df = df.drop_duplicates()"
   ]
  },
  {
   "cell_type": "code",
   "execution_count": 5,
   "id": "406d36fb-89ba-4150-89e3-31788c6b8ba6",
   "metadata": {},
   "outputs": [],
   "source": [
    "traffic = df.set_index('ID').join(df_mean.set_index('ID'))\n",
    "traffic = traffic.reset_index()\n",
    "traffic = traffic.drop_duplicates(subset=['ID'], keep='first')"
   ]
  },
  {
   "cell_type": "code",
   "execution_count": 6,
   "id": "f81f591a-9dbf-4f64-82bb-78567b7cb61e",
   "metadata": {},
   "outputs": [
    {
     "ename": "ValueError",
     "evalue": "Invalid API key provided.",
     "output_type": "error",
     "traceback": [
      "\u001b[0;31m---------------------------------------------------------------------------\u001b[0m",
      "\u001b[0;31mValueError\u001b[0m                                Traceback (most recent call last)",
      "\u001b[0;32m/tmp/ipykernel_32215/573139825.py\u001b[0m in \u001b[0;36m<module>\u001b[0;34m\u001b[0m\n\u001b[0;32m----> 1\u001b[0;31m \u001b[0mgmaps\u001b[0m \u001b[0;34m=\u001b[0m \u001b[0mgooglemaps\u001b[0m\u001b[0;34m.\u001b[0m\u001b[0mClient\u001b[0m\u001b[0;34m(\u001b[0m\u001b[0mkey\u001b[0m\u001b[0;34m=\u001b[0m\u001b[0;34m'GOOGLE_API_KEY'\u001b[0m\u001b[0;34m)\u001b[0m\u001b[0;34m\u001b[0m\u001b[0;34m\u001b[0m\u001b[0m\n\u001b[0m",
      "\u001b[0;32m~/anaconda3/lib/python3.9/site-packages/googlemaps/client.py\u001b[0m in \u001b[0;36m__init__\u001b[0;34m(self, key, client_id, client_secret, timeout, connect_timeout, read_timeout, retry_timeout, requests_kwargs, queries_per_second, channel, retry_over_query_limit, experience_id, requests_session, base_url)\u001b[0m\n\u001b[1;32m    132\u001b[0m \u001b[0;34m\u001b[0m\u001b[0m\n\u001b[1;32m    133\u001b[0m         \u001b[0;32mif\u001b[0m \u001b[0mkey\u001b[0m \u001b[0;32mand\u001b[0m \u001b[0;32mnot\u001b[0m \u001b[0mkey\u001b[0m\u001b[0;34m.\u001b[0m\u001b[0mstartswith\u001b[0m\u001b[0;34m(\u001b[0m\u001b[0;34m\"AIza\"\u001b[0m\u001b[0;34m)\u001b[0m\u001b[0;34m:\u001b[0m\u001b[0;34m\u001b[0m\u001b[0;34m\u001b[0m\u001b[0m\n\u001b[0;32m--> 134\u001b[0;31m             \u001b[0;32mraise\u001b[0m \u001b[0mValueError\u001b[0m\u001b[0;34m(\u001b[0m\u001b[0;34m\"Invalid API key provided.\"\u001b[0m\u001b[0;34m)\u001b[0m\u001b[0;34m\u001b[0m\u001b[0;34m\u001b[0m\u001b[0m\n\u001b[0m\u001b[1;32m    135\u001b[0m \u001b[0;34m\u001b[0m\u001b[0m\n\u001b[1;32m    136\u001b[0m         \u001b[0;32mif\u001b[0m \u001b[0mchannel\u001b[0m\u001b[0;34m:\u001b[0m\u001b[0;34m\u001b[0m\u001b[0;34m\u001b[0m\u001b[0m\n",
      "\u001b[0;31mValueError\u001b[0m: Invalid API key provided."
     ]
    }
   ],
   "source": [
    "gmaps = googlemaps.Client(key='GOOGLE_API_KEY')"
   ]
  },
  {
   "cell_type": "code",
   "execution_count": null,
   "id": "8ac98b4a-1be3-4479-b861-ecf898650cb2",
   "metadata": {},
   "outputs": [],
   "source": [
    "lat_long = []\n",
    "for i in range(len(traffic)):\n",
    "    first = traffic.iloc[i][1]\n",
    "    second = traffic.iloc[i][2]\n",
    "    geocode_result = gmaps.geocode(f'{first}, {second}, NY')\n",
    "    coords = (geocode_result[0]['geometry']['location']['lat'], geocode_result[0]['geometry']['location']['lng'])\n",
    "    lat_long.append(coords)"
   ]
  },
  {
   "cell_type": "code",
   "execution_count": null,
   "id": "917ddca3-2dac-4856-894c-0610bc5de9ce",
   "metadata": {},
   "outputs": [],
   "source": [
    "lat = []\n",
    "lng = []\n",
    "for i in range(349):\n",
    "    lat.append(lat_long[i][0])\n",
    "    lng.append(lat_long[i][1])"
   ]
  },
  {
   "cell_type": "code",
   "execution_count": null,
   "id": "93110a23-5f38-45ea-8fd6-7bf042af8aa8",
   "metadata": {},
   "outputs": [],
   "source": [
    "traffic = traffic.drop(['Roadway Name', 'To', 'ID'], axis=1)\n",
    "traffic['latitude'] = lat\n",
    "traffic['longitude'] = lng"
   ]
  },
  {
   "cell_type": "code",
   "execution_count": 9,
   "id": "6e630abf-b0ad-41d2-8d3d-6262e13f8b60",
   "metadata": {},
   "outputs": [
    {
     "data": {
      "text/html": [
       "<div>\n",
       "<style scoped>\n",
       "    .dataframe tbody tr th:only-of-type {\n",
       "        vertical-align: middle;\n",
       "    }\n",
       "\n",
       "    .dataframe tbody tr th {\n",
       "        vertical-align: top;\n",
       "    }\n",
       "\n",
       "    .dataframe thead th {\n",
       "        text-align: right;\n",
       "    }\n",
       "</style>\n",
       "<table border=\"1\" class=\"dataframe\">\n",
       "  <thead>\n",
       "    <tr style=\"text-align: right;\">\n",
       "      <th></th>\n",
       "      <th>ID</th>\n",
       "      <th>Roadway Name</th>\n",
       "      <th>To</th>\n",
       "      <th>traffic</th>\n",
       "    </tr>\n",
       "  </thead>\n",
       "  <tbody>\n",
       "    <tr>\n",
       "      <th>0</th>\n",
       "      <td>1</td>\n",
       "      <td>1st AVENUE</td>\n",
       "      <td>East 61st Street</td>\n",
       "      <td>954.828704</td>\n",
       "    </tr>\n",
       "    <tr>\n",
       "      <th>1</th>\n",
       "      <td>2</td>\n",
       "      <td>1 Avenue</td>\n",
       "      <td>E 124th St</td>\n",
       "      <td>1027.875000</td>\n",
       "    </tr>\n",
       "    <tr>\n",
       "      <th>2</th>\n",
       "      <td>3</td>\n",
       "      <td>1st AVENUE</td>\n",
       "      <td>East 12th Street</td>\n",
       "      <td>662.504630</td>\n",
       "    </tr>\n",
       "    <tr>\n",
       "      <th>3</th>\n",
       "      <td>4</td>\n",
       "      <td>1st AVENUE</td>\n",
       "      <td>East 27th Street</td>\n",
       "      <td>684.055556</td>\n",
       "    </tr>\n",
       "    <tr>\n",
       "      <th>4</th>\n",
       "      <td>5</td>\n",
       "      <td>10TH AVENUE</td>\n",
       "      <td>West 46th Street</td>\n",
       "      <td>976.597222</td>\n",
       "    </tr>\n",
       "    <tr>\n",
       "      <th>...</th>\n",
       "      <td>...</td>\n",
       "      <td>...</td>\n",
       "      <td>...</td>\n",
       "      <td>...</td>\n",
       "    </tr>\n",
       "    <tr>\n",
       "      <th>368</th>\n",
       "      <td>369</td>\n",
       "      <td>YORK AVENUE</td>\n",
       "      <td>East 61st Street</td>\n",
       "      <td>337.578704</td>\n",
       "    </tr>\n",
       "    <tr>\n",
       "      <th>370</th>\n",
       "      <td>370</td>\n",
       "      <td>YORK AVENUE</td>\n",
       "      <td>East 75th Street</td>\n",
       "      <td>303.451389</td>\n",
       "    </tr>\n",
       "    <tr>\n",
       "      <th>371</th>\n",
       "      <td>371</td>\n",
       "      <td>7th AVENUE</td>\n",
       "      <td>East 28th Street</td>\n",
       "      <td>752.300926</td>\n",
       "    </tr>\n",
       "    <tr>\n",
       "      <th>372</th>\n",
       "      <td>372</td>\n",
       "      <td>GERARD AVENUE</td>\n",
       "      <td>East 151st Street</td>\n",
       "      <td>165.064815</td>\n",
       "    </tr>\n",
       "    <tr>\n",
       "      <th>373</th>\n",
       "      <td>373</td>\n",
       "      <td>WEST 49th STREET</td>\n",
       "      <td>6th Avenue</td>\n",
       "      <td>121.916667</td>\n",
       "    </tr>\n",
       "  </tbody>\n",
       "</table>\n",
       "<p>349 rows × 4 columns</p>\n",
       "</div>"
      ],
      "text/plain": [
       "      ID      Roadway Name                 To      traffic\n",
       "0      1        1st AVENUE   East 61st Street   954.828704\n",
       "1      2          1 Avenue         E 124th St  1027.875000\n",
       "2      3        1st AVENUE   East 12th Street   662.504630\n",
       "3      4        1st AVENUE   East 27th Street   684.055556\n",
       "4      5       10TH AVENUE   West 46th Street   976.597222\n",
       "..   ...               ...                ...          ...\n",
       "368  369       YORK AVENUE   East 61st Street   337.578704\n",
       "370  370       YORK AVENUE   East 75th Street   303.451389\n",
       "371  371        7th AVENUE   East 28th Street   752.300926\n",
       "372  372     GERARD AVENUE  East 151st Street   165.064815\n",
       "373  373  WEST 49th STREET         6th Avenue   121.916667\n",
       "\n",
       "[349 rows x 4 columns]"
      ]
     },
     "execution_count": 9,
     "metadata": {},
     "output_type": "execute_result"
    }
   ],
   "source": [
    "traffic"
   ]
  },
  {
   "cell_type": "code",
   "execution_count": null,
   "id": "fafc8c05-a38c-4a90-ba3d-e9a49d7e0233",
   "metadata": {},
   "outputs": [],
   "source": [
    "traffic.to_csv('../processed_data/geocoded_traffic.csv', index=False, encoding='utf-8')"
   ]
  },
  {
   "cell_type": "code",
   "execution_count": 27,
   "id": "1ab3e1b2-b69a-48b6-87f9-f8e15b0e4b44",
   "metadata": {},
   "outputs": [],
   "source": [
    "df_car_raw = pd.read_csv(\"../processed_data/geocoded_traffic.csv\")\n",
    "df_car = np.array(df_car_raw['traffic'])\n",
    "df_car = np.reshape(df_car, (349,1))\n",
    "\n",
    "scaler = MinMaxScaler()\n",
    "car = scaler.fit_transform(df_car)"
   ]
  },
  {
   "cell_type": "code",
   "execution_count": 29,
   "id": "c46219ac-f451-4de3-90e0-f4c2ba53b6c6",
   "metadata": {},
   "outputs": [],
   "source": [
    "df_ped_raw = pd.read_csv(\"../processed_data/geocoded_pedestrian.csv\")\n",
    "df_ped = np.array(df_ped_raw['ped_traffic'])\n",
    "df_ped = np.reshape(df_ped, (112,1))\n",
    "\n",
    "scaler = MinMaxScaler()\n",
    "ped = scaler.fit_transform(df_ped)"
   ]
  },
  {
   "cell_type": "code",
   "execution_count": 40,
   "id": "e41097d1-dd8a-4717-873a-265d27098287",
   "metadata": {},
   "outputs": [],
   "source": [
    "busy = pd.DataFrame(car)"
   ]
  },
  {
   "cell_type": "code",
   "execution_count": 42,
   "id": "26b1f0e4-e395-4e69-939d-88c01d3b1339",
   "metadata": {},
   "outputs": [
    {
     "data": {
      "text/html": [
       "<div>\n",
       "<style scoped>\n",
       "    .dataframe tbody tr th:only-of-type {\n",
       "        vertical-align: middle;\n",
       "    }\n",
       "\n",
       "    .dataframe tbody tr th {\n",
       "        vertical-align: top;\n",
       "    }\n",
       "\n",
       "    .dataframe thead th {\n",
       "        text-align: right;\n",
       "    }\n",
       "</style>\n",
       "<table border=\"1\" class=\"dataframe\">\n",
       "  <thead>\n",
       "    <tr style=\"text-align: right;\">\n",
       "      <th></th>\n",
       "      <th>0</th>\n",
       "    </tr>\n",
       "  </thead>\n",
       "  <tbody>\n",
       "    <tr>\n",
       "      <th>0</th>\n",
       "      <td>0.790442</td>\n",
       "    </tr>\n",
       "    <tr>\n",
       "      <th>1</th>\n",
       "      <td>0.851866</td>\n",
       "    </tr>\n",
       "    <tr>\n",
       "      <th>2</th>\n",
       "      <td>0.544628</td>\n",
       "    </tr>\n",
       "    <tr>\n",
       "      <th>3</th>\n",
       "      <td>0.562750</td>\n",
       "    </tr>\n",
       "    <tr>\n",
       "      <th>4</th>\n",
       "      <td>0.808747</td>\n",
       "    </tr>\n",
       "    <tr>\n",
       "      <th>...</th>\n",
       "      <td>...</td>\n",
       "    </tr>\n",
       "    <tr>\n",
       "      <th>344</th>\n",
       "      <td>0.271399</td>\n",
       "    </tr>\n",
       "    <tr>\n",
       "      <th>345</th>\n",
       "      <td>0.242702</td>\n",
       "    </tr>\n",
       "    <tr>\n",
       "      <th>346</th>\n",
       "      <td>0.620137</td>\n",
       "    </tr>\n",
       "    <tr>\n",
       "      <th>347</th>\n",
       "      <td>0.126333</td>\n",
       "    </tr>\n",
       "    <tr>\n",
       "      <th>348</th>\n",
       "      <td>0.090050</td>\n",
       "    </tr>\n",
       "  </tbody>\n",
       "</table>\n",
       "<p>349 rows × 1 columns</p>\n",
       "</div>"
      ],
      "text/plain": [
       "            0\n",
       "0    0.790442\n",
       "1    0.851866\n",
       "2    0.544628\n",
       "3    0.562750\n",
       "4    0.808747\n",
       "..        ...\n",
       "344  0.271399\n",
       "345  0.242702\n",
       "346  0.620137\n",
       "347  0.126333\n",
       "348  0.090050\n",
       "\n",
       "[349 rows x 1 columns]"
      ]
     },
     "execution_count": 42,
     "metadata": {},
     "output_type": "execute_result"
    }
   ],
   "source": [
    "busy"
   ]
  },
  {
   "cell_type": "code",
   "execution_count": null,
   "id": "2d6c572d-4374-405d-ab6e-af2d40b1567a",
   "metadata": {},
   "outputs": [],
   "source": []
  }
 ],
 "metadata": {
  "kernelspec": {
   "display_name": "Python 3 (ipykernel)",
   "language": "python",
   "name": "python3"
  },
  "language_info": {
   "codemirror_mode": {
    "name": "ipython",
    "version": 3
   },
   "file_extension": ".py",
   "mimetype": "text/x-python",
   "name": "python",
   "nbconvert_exporter": "python",
   "pygments_lexer": "ipython3",
   "version": "3.9.7"
  }
 },
 "nbformat": 4,
 "nbformat_minor": 5
}
