{
 "cells": [
  {
   "cell_type": "code",
   "execution_count": 1,
   "id": "c09814f6-3995-4bcb-b067-0abcf289f29f",
   "metadata": {},
   "outputs": [],
   "source": [
    "import pandas as pd\n",
    "import geopandas as gpd"
   ]
  },
  {
   "cell_type": "code",
   "execution_count": 3,
   "id": "4a0b5851-e477-41db-8d61-b9e9a5361e73",
   "metadata": {},
   "outputs": [],
   "source": [
    "df = pd.read_csv(\"../Mid-Term-Project/raw_data/pedestrian/pedestrian.csv\")\n",
    "\n",
    "df = df.drop(['Borough', 'Loc', 'OBJECTID', 'To_Street', 'Index'], axis=1)\n",
    "df = df[['the_geom', 'Street_Nam', 'From_Stree', 'May21_AM', 'May21_PM', 'May21_MD']]\n",
    "df = df.drop(25)\n",
    "\n",
    "df['ped_traffic'] = (df.iloc[:, 4:].sum(axis=1)) / 3\n",
    "df = df.drop(['May21_AM', 'May21_PM', 'May21_MD'], axis=1)"
   ]
  },
  {
   "cell_type": "code",
   "execution_count": 4,
   "id": "9c28ac50-3bc9-4a92-9af3-e8b202223c2d",
   "metadata": {},
   "outputs": [],
   "source": [
    "lat = []\n",
    "lng = []\n",
    "for i in range(113):\n",
    "    try:\n",
    "        string = df['the_geom'][i]\n",
    "        words = string.split()\n",
    "        lng.append(float(words[1][1:]))\n",
    "        lat.append(float(words[2][:-1]))\n",
    "    except KeyError:\n",
    "        lat.append(0)\n",
    "        lng.append(0)"
   ]
  },
  {
   "cell_type": "code",
   "execution_count": 5,
   "id": "deebafbb-2685-4210-8d82-d98aed4c8266",
   "metadata": {},
   "outputs": [],
   "source": [
    "df = df.drop(['Street_Nam', 'From_Stree', 'the_geom'], axis=1)\n",
    "df['latitude'] = lat\n",
    "df['longitude'] = lng\n",
    "df = df[df.latitude != 0]\n",
    "df = df.reset_index().rename(columns={'index': 'ID'})"
   ]
  },
  {
   "cell_type": "code",
   "execution_count": 8,
   "id": "8004a0db-5249-4904-ad5d-a1098171eb84",
   "metadata": {},
   "outputs": [],
   "source": [
    "df.to_csv('../Mid-Term-Project/processed_data/geocoded_pedestrian.csv', index=False, encoding='utf-8')"
   ]
  },
  {
   "cell_type": "code",
   "execution_count": null,
   "id": "2ef4137e-e52c-4aa2-9f46-7ff089226a85",
   "metadata": {},
   "outputs": [],
   "source": []
  }
 ],
 "metadata": {
  "kernelspec": {
   "display_name": "Python 3 (ipykernel)",
   "language": "python",
   "name": "python3"
  },
  "language_info": {
   "codemirror_mode": {
    "name": "ipython",
    "version": 3
   },
   "file_extension": ".py",
   "mimetype": "text/x-python",
   "name": "python",
   "nbconvert_exporter": "python",
   "pygments_lexer": "ipython3",
   "version": "3.9.7"
  }
 },
 "nbformat": 4,
 "nbformat_minor": 5
}
