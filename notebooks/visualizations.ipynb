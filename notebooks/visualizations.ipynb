{
 "cells": [
  {
   "cell_type": "code",
   "execution_count": null,
   "id": "8c539918-253f-4fce-9bb1-39af221451d4",
   "metadata": {},
   "outputs": [],
   "source": [
    "import pandas as pd\n",
    "import numpy as np\n",
    "import geopandas as gpd\n",
    "from geopandas import GeoDataFrame\n",
    "import geoplot\n",
    "from shapely.geometry import Point\n",
    "import matplotlib.pyplot as plt\n",
    "from sklearn import cluster\n",
    "from sklearn.decomposition import PCA\n",
    "from sklearn.cluster import KMeans\n",
    "from sklearn.preprocessing import StandardScaler\n",
    "import scipy.cluster.hierarchy as sch"
   ]
  },
  {
   "cell_type": "markdown",
   "id": "bfa84cd4-087a-4e9d-9101-ef2e0656b159",
   "metadata": {
    "tags": []
   },
   "source": [
    "## Initial Plot of non-binned data"
   ]
  },
  {
   "cell_type": "code",
   "execution_count": 4,
   "id": "4a503965-6a3a-431d-a1ad-a2e4a888063b",
   "metadata": {},
   "outputs": [],
   "source": [
    "pop_df = pd.read_csv('../processed_data/density/geocoded_population.csv')\n",
    "traf_df = pd.read_csv('../processed_data/density/geocoded_traffic.csv')\n",
    "ped_df = pd.read_csv('../processed_data/density/geocoded_pedestrian.csv')\n",
    "fac_df = pd.read_csv('../processed_data/buildings/facilities.csv')\n",
    "hot_df = pd.read_csv('../processed_data/buildings/hotels.csv')\n",
    "lib_df = pd.read_csv('../processed_data/buildings/libraries.csv')\n",
    "park_df = pd.read_csv('../processed_data/buildings/parks.csv')\n",
    "\n",
    "\n",
    "crs = {'init': 'epsg:2263'}"
   ]
  },
  {
   "cell_type": "code",
   "execution_count": null,
   "id": "bdf9a28f-ec9d-47aa-976a-a95a5bb1f0cc",
   "metadata": {},
   "outputs": [
    {
     "ename": "KeyError",
     "evalue": "'NTA_long'",
     "output_type": "error",
     "traceback": [
      "\u001b[0;31m---------------------------------------------------------------------------\u001b[0m",
      "\u001b[0;31mKeyError\u001b[0m                                  Traceback (most recent call last)",
      "\u001b[0;32m~/anaconda3/lib/python3.9/site-packages/pandas/core/indexes/base.py\u001b[0m in \u001b[0;36mget_loc\u001b[0;34m(self, key, method, tolerance)\u001b[0m\n\u001b[1;32m   3360\u001b[0m             \u001b[0;32mtry\u001b[0m\u001b[0;34m:\u001b[0m\u001b[0;34m\u001b[0m\u001b[0;34m\u001b[0m\u001b[0m\n\u001b[0;32m-> 3361\u001b[0;31m                 \u001b[0;32mreturn\u001b[0m \u001b[0mself\u001b[0m\u001b[0;34m.\u001b[0m\u001b[0m_engine\u001b[0m\u001b[0;34m.\u001b[0m\u001b[0mget_loc\u001b[0m\u001b[0;34m(\u001b[0m\u001b[0mcasted_key\u001b[0m\u001b[0;34m)\u001b[0m\u001b[0;34m\u001b[0m\u001b[0;34m\u001b[0m\u001b[0m\n\u001b[0m\u001b[1;32m   3362\u001b[0m             \u001b[0;32mexcept\u001b[0m \u001b[0mKeyError\u001b[0m \u001b[0;32mas\u001b[0m \u001b[0merr\u001b[0m\u001b[0;34m:\u001b[0m\u001b[0;34m\u001b[0m\u001b[0;34m\u001b[0m\u001b[0m\n",
      "\u001b[0;32m~/anaconda3/lib/python3.9/site-packages/pandas/_libs/index.pyx\u001b[0m in \u001b[0;36mpandas._libs.index.IndexEngine.get_loc\u001b[0;34m()\u001b[0m\n",
      "\u001b[0;32m~/anaconda3/lib/python3.9/site-packages/pandas/_libs/index.pyx\u001b[0m in \u001b[0;36mpandas._libs.index.IndexEngine.get_loc\u001b[0;34m()\u001b[0m\n",
      "\u001b[0;32mpandas/_libs/hashtable_class_helper.pxi\u001b[0m in \u001b[0;36mpandas._libs.hashtable.PyObjectHashTable.get_item\u001b[0;34m()\u001b[0m\n",
      "\u001b[0;32mpandas/_libs/hashtable_class_helper.pxi\u001b[0m in \u001b[0;36mpandas._libs.hashtable.PyObjectHashTable.get_item\u001b[0;34m()\u001b[0m\n",
      "\u001b[0;31mKeyError\u001b[0m: 'NTA_long'",
      "\nThe above exception was the direct cause of the following exception:\n",
      "\u001b[0;31mKeyError\u001b[0m                                  Traceback (most recent call last)",
      "\u001b[0;32m~/Documents/Lighthouse/Midterm/Mid-Term-Project/notebooks/functions/functions.py\u001b[0m in \u001b[0;36m<module>\u001b[0;34m\u001b[0m\n\u001b[1;32m      1\u001b[0m \u001b[0mdf_list\u001b[0m \u001b[0;34m=\u001b[0m \u001b[0;34m[\u001b[0m\u001b[0mpop_df\u001b[0m\u001b[0;34m,\u001b[0m \u001b[0mtraf_df\u001b[0m\u001b[0;34m,\u001b[0m \u001b[0mped_df\u001b[0m\u001b[0;34m,\u001b[0m \u001b[0mfac_df\u001b[0m\u001b[0;34m,\u001b[0m \u001b[0mhot_df\u001b[0m\u001b[0;34m,\u001b[0m \u001b[0mlib_df\u001b[0m\u001b[0;34m,\u001b[0m \u001b[0mpark_df\u001b[0m\u001b[0;34m]\u001b[0m\u001b[0;34m\u001b[0m\u001b[0;34m\u001b[0m\u001b[0m\n\u001b[0;32m----> 2\u001b[0;31m \u001b[0mnew_df_list\u001b[0m \u001b[0;34m=\u001b[0m \u001b[0mllz_set\u001b[0m\u001b[0;34m(\u001b[0m\u001b[0mdf_list\u001b[0m\u001b[0;34m)\u001b[0m\u001b[0;34m\u001b[0m\u001b[0;34m\u001b[0m\u001b[0m\n\u001b[0m",
      "\u001b[0;32m~/Documents/Lighthouse/Midterm/Mid-Term-Project/notebooks/functions/functions.py\u001b[0m in \u001b[0;36mllz_set\u001b[0;34m(df_list)\u001b[0m\n\u001b[1;32m     68\u001b[0m     \u001b[0mnew_df_list\u001b[0m \u001b[0;34m=\u001b[0m \u001b[0;34m[\u001b[0m\u001b[0;34m]\u001b[0m\u001b[0;34m\u001b[0m\u001b[0;34m\u001b[0m\u001b[0m\n\u001b[1;32m     69\u001b[0m     \u001b[0;32mfor\u001b[0m \u001b[0melement\u001b[0m \u001b[0;32min\u001b[0m \u001b[0mdf_list\u001b[0m\u001b[0;34m:\u001b[0m\u001b[0;34m\u001b[0m\u001b[0;34m\u001b[0m\u001b[0m\n\u001b[0;32m---> 70\u001b[0;31m         \u001b[0mnew_df_list\u001b[0m\u001b[0;34m.\u001b[0m\u001b[0mappend\u001b[0m\u001b[0;34m(\u001b[0m\u001b[0mlat_long_zip\u001b[0m\u001b[0;34m(\u001b[0m\u001b[0melement\u001b[0m\u001b[0;34m)\u001b[0m\u001b[0;34m)\u001b[0m\u001b[0;34m\u001b[0m\u001b[0;34m\u001b[0m\u001b[0m\n\u001b[0m\u001b[1;32m     71\u001b[0m     \u001b[0;32mreturn\u001b[0m \u001b[0mnew_df_list\u001b[0m\u001b[0;34m\u001b[0m\u001b[0;34m\u001b[0m\u001b[0m\n",
      "\u001b[0;32m~/Documents/Lighthouse/Midterm/Mid-Term-Project/notebooks/functions/functions.py\u001b[0m in \u001b[0;36mlat_long_zip\u001b[0;34m(df)\u001b[0m\n\u001b[1;32m     58\u001b[0m     \u001b[0;32mfrom\u001b[0m \u001b[0mshapely\u001b[0m\u001b[0;34m.\u001b[0m\u001b[0mgeometry\u001b[0m \u001b[0;32mimport\u001b[0m \u001b[0mPoint\u001b[0m\u001b[0;34m\u001b[0m\u001b[0;34m\u001b[0m\u001b[0m\n\u001b[1;32m     59\u001b[0m \u001b[0;34m\u001b[0m\u001b[0m\n\u001b[0;32m---> 60\u001b[0;31m     \u001b[0mgeometry\u001b[0m \u001b[0;34m=\u001b[0m \u001b[0;34m[\u001b[0m\u001b[0mPoint\u001b[0m\u001b[0;34m(\u001b[0m\u001b[0mxy\u001b[0m\u001b[0;34m)\u001b[0m \u001b[0;32mfor\u001b[0m \u001b[0mxy\u001b[0m \u001b[0;32min\u001b[0m \u001b[0mzip\u001b[0m\u001b[0;34m(\u001b[0m\u001b[0mdf\u001b[0m\u001b[0;34m[\u001b[0m\u001b[0;34m'NTA_long'\u001b[0m\u001b[0;34m]\u001b[0m\u001b[0;34m,\u001b[0m \u001b[0mdf\u001b[0m\u001b[0;34m[\u001b[0m\u001b[0;34m'NTA_lat'\u001b[0m\u001b[0;34m]\u001b[0m\u001b[0;34m)\u001b[0m\u001b[0;34m]\u001b[0m\u001b[0;34m\u001b[0m\u001b[0;34m\u001b[0m\u001b[0m\n\u001b[0m\u001b[1;32m     61\u001b[0m     geo_df = geopandas.GeoDataFrame(df, crs = {'init': 'epsg:2263'},\n\u001b[1;32m     62\u001b[0m                                     geometry=geopandas.points_from_xy(df[\"NTA_long\"], df[\"NTA_lat\"]))\n",
      "\u001b[0;32m~/anaconda3/lib/python3.9/site-packages/pandas/core/frame.py\u001b[0m in \u001b[0;36m__getitem__\u001b[0;34m(self, key)\u001b[0m\n\u001b[1;32m   3456\u001b[0m             \u001b[0;32mif\u001b[0m \u001b[0mself\u001b[0m\u001b[0;34m.\u001b[0m\u001b[0mcolumns\u001b[0m\u001b[0;34m.\u001b[0m\u001b[0mnlevels\u001b[0m \u001b[0;34m>\u001b[0m \u001b[0;36m1\u001b[0m\u001b[0;34m:\u001b[0m\u001b[0;34m\u001b[0m\u001b[0;34m\u001b[0m\u001b[0m\n\u001b[1;32m   3457\u001b[0m                 \u001b[0;32mreturn\u001b[0m \u001b[0mself\u001b[0m\u001b[0;34m.\u001b[0m\u001b[0m_getitem_multilevel\u001b[0m\u001b[0;34m(\u001b[0m\u001b[0mkey\u001b[0m\u001b[0;34m)\u001b[0m\u001b[0;34m\u001b[0m\u001b[0;34m\u001b[0m\u001b[0m\n\u001b[0;32m-> 3458\u001b[0;31m             \u001b[0mindexer\u001b[0m \u001b[0;34m=\u001b[0m \u001b[0mself\u001b[0m\u001b[0;34m.\u001b[0m\u001b[0mcolumns\u001b[0m\u001b[0;34m.\u001b[0m\u001b[0mget_loc\u001b[0m\u001b[0;34m(\u001b[0m\u001b[0mkey\u001b[0m\u001b[0;34m)\u001b[0m\u001b[0;34m\u001b[0m\u001b[0;34m\u001b[0m\u001b[0m\n\u001b[0m\u001b[1;32m   3459\u001b[0m             \u001b[0;32mif\u001b[0m \u001b[0mis_integer\u001b[0m\u001b[0;34m(\u001b[0m\u001b[0mindexer\u001b[0m\u001b[0;34m)\u001b[0m\u001b[0;34m:\u001b[0m\u001b[0;34m\u001b[0m\u001b[0;34m\u001b[0m\u001b[0m\n\u001b[1;32m   3460\u001b[0m                 \u001b[0mindexer\u001b[0m \u001b[0;34m=\u001b[0m \u001b[0;34m[\u001b[0m\u001b[0mindexer\u001b[0m\u001b[0;34m]\u001b[0m\u001b[0;34m\u001b[0m\u001b[0;34m\u001b[0m\u001b[0m\n",
      "\u001b[0;32m~/anaconda3/lib/python3.9/site-packages/pandas/core/indexes/base.py\u001b[0m in \u001b[0;36mget_loc\u001b[0;34m(self, key, method, tolerance)\u001b[0m\n\u001b[1;32m   3361\u001b[0m                 \u001b[0;32mreturn\u001b[0m \u001b[0mself\u001b[0m\u001b[0;34m.\u001b[0m\u001b[0m_engine\u001b[0m\u001b[0;34m.\u001b[0m\u001b[0mget_loc\u001b[0m\u001b[0;34m(\u001b[0m\u001b[0mcasted_key\u001b[0m\u001b[0;34m)\u001b[0m\u001b[0;34m\u001b[0m\u001b[0;34m\u001b[0m\u001b[0m\n\u001b[1;32m   3362\u001b[0m             \u001b[0;32mexcept\u001b[0m \u001b[0mKeyError\u001b[0m \u001b[0;32mas\u001b[0m \u001b[0merr\u001b[0m\u001b[0;34m:\u001b[0m\u001b[0;34m\u001b[0m\u001b[0;34m\u001b[0m\u001b[0m\n\u001b[0;32m-> 3363\u001b[0;31m                 \u001b[0;32mraise\u001b[0m \u001b[0mKeyError\u001b[0m\u001b[0;34m(\u001b[0m\u001b[0mkey\u001b[0m\u001b[0;34m)\u001b[0m \u001b[0;32mfrom\u001b[0m \u001b[0merr\u001b[0m\u001b[0;34m\u001b[0m\u001b[0;34m\u001b[0m\u001b[0m\n\u001b[0m\u001b[1;32m   3364\u001b[0m \u001b[0;34m\u001b[0m\u001b[0m\n\u001b[1;32m   3365\u001b[0m         \u001b[0;32mif\u001b[0m \u001b[0mis_scalar\u001b[0m\u001b[0;34m(\u001b[0m\u001b[0mkey\u001b[0m\u001b[0;34m)\u001b[0m \u001b[0;32mand\u001b[0m \u001b[0misna\u001b[0m\u001b[0;34m(\u001b[0m\u001b[0mkey\u001b[0m\u001b[0;34m)\u001b[0m \u001b[0;32mand\u001b[0m \u001b[0;32mnot\u001b[0m \u001b[0mself\u001b[0m\u001b[0;34m.\u001b[0m\u001b[0mhasnans\u001b[0m\u001b[0;34m:\u001b[0m\u001b[0;34m\u001b[0m\u001b[0;34m\u001b[0m\u001b[0m\n",
      "\u001b[0;31mKeyError\u001b[0m: 'NTA_long'"
     ]
    }
   ],
   "source": [
    "df_list = [pop_df, traf_df, ped_df, fac_df, hot_df, lib_df, park_df]\n",
    "new_df_list = llz_set(df_list)"
   ]
  },
  {
   "cell_type": "code",
   "execution_count": null,
   "id": "8ab85e2c-735f-4848-93a1-ab28ddd768be",
   "metadata": {},
   "outputs": [],
   "source": [
    "boroughs = gpd.read_file(geoplot.datasets.get_path('nyc_boroughs'))\n",
    "boroughs.plot(ax=ax,alpha=0.4,color=\"grey\")\n",
    "\n",
    "fig,ax=plt.subplots(figsize=(20,20))\n",
    "new_df_list[0].plot(ax = ax, markersize = 15, color = 'blue', marker = 'o', label = 'population')\n",
    "new_df_list[1].plot(ax = ax, markersize = 5, color = 'red', marker = 'o', label = 'traffic')\n",
    "new_df_list[2].plot(ax = ax, markersize = 5, color = 'green', marker = 'o', label = 'ped_traffic')\n",
    "new_df_list[3].plot(ax = ax, markersize = 5, color = 'orange', marker = 'o', label = 'facilities')\n",
    "new_df_list[4].plot(ax = ax, markersize = 5, color = 'purple', marker = 'o', label = 'hotels')\n",
    "new_df_list[5].plot(ax = ax, markersize = 5, color = 'yellow', marker = 'o', label = 'libraries')\n",
    "new_df_list[6].plot(ax = ax, markersize = 5, color = 'pink', marker = 'o', label = 'parks')\n",
    "\n",
    "plt.legend()\n",
    "plt.savefig('../Mid-Term-Project/figures/pre_bin_map.png')"
   ]
  },
  {
   "cell_type": "markdown",
   "id": "900d6035-f466-4f44-9618-d88da57180e4",
   "metadata": {
    "jp-MarkdownHeadingCollapsed": true,
    "tags": []
   },
   "source": [
    "## Elbow Plot"
   ]
  },
  {
   "cell_type": "code",
   "execution_count": 4,
   "id": "91866869-8b21-4382-8a78-7cc3cebb344f",
   "metadata": {},
   "outputs": [],
   "source": [
    "master_df = pd.read_csv('../processed_data/master.csv')"
   ]
  },
  {
   "cell_type": "code",
   "execution_count": 5,
   "id": "1bd0c19e-dc69-444f-80a2-a9612a4b7d19",
   "metadata": {},
   "outputs": [],
   "source": [
    "X = master_df.iloc[:, 2:]\n",
    "lat_lng = master_df.iloc[:, 0:2]"
   ]
  },
  {
   "cell_type": "code",
   "execution_count": 6,
   "id": "e8f6a539-e902-4810-9ed4-48f1f207ed04",
   "metadata": {},
   "outputs": [
    {
     "data": {
      "text/html": [
       "<div>\n",
       "<style scoped>\n",
       "    .dataframe tbody tr th:only-of-type {\n",
       "        vertical-align: middle;\n",
       "    }\n",
       "\n",
       "    .dataframe tbody tr th {\n",
       "        vertical-align: top;\n",
       "    }\n",
       "\n",
       "    .dataframe thead th {\n",
       "        text-align: right;\n",
       "    }\n",
       "</style>\n",
       "<table border=\"1\" class=\"dataframe\">\n",
       "  <thead>\n",
       "    <tr style=\"text-align: right;\">\n",
       "      <th></th>\n",
       "      <th>Population</th>\n",
       "      <th>traffic</th>\n",
       "      <th>ped_traffic</th>\n",
       "      <th>count_x</th>\n",
       "      <th>acres</th>\n",
       "      <th>count_y</th>\n",
       "      <th>PARKING LOTS AND GARAGES</th>\n",
       "      <th>NON-PUBLIC K-12 SCHOOLS</th>\n",
       "      <th>HOSPITALS AND CLINICS</th>\n",
       "      <th>PUBLIC K-12 SCHOOLS</th>\n",
       "      <th>STREETSCAPES, PLAZAS, AND MALLS</th>\n",
       "      <th>BUS DEPOTS AND TERMINALS</th>\n",
       "      <th>MUSEUMS</th>\n",
       "      <th>COLLEGES OR UNIVERSITIES</th>\n",
       "    </tr>\n",
       "  </thead>\n",
       "  <tbody>\n",
       "    <tr>\n",
       "      <th>0</th>\n",
       "      <td>-0.837351</td>\n",
       "      <td>-0.637258</td>\n",
       "      <td>-0.379571</td>\n",
       "      <td>-0.152898</td>\n",
       "      <td>0.834789</td>\n",
       "      <td>-0.197862</td>\n",
       "      <td>0.308110</td>\n",
       "      <td>-0.412739</td>\n",
       "      <td>-1.065555</td>\n",
       "      <td>-1.009000</td>\n",
       "      <td>-0.633610</td>\n",
       "      <td>0.131304</td>\n",
       "      <td>0.170919</td>\n",
       "      <td>-0.453408</td>\n",
       "    </tr>\n",
       "    <tr>\n",
       "      <th>1</th>\n",
       "      <td>-0.636818</td>\n",
       "      <td>-0.119831</td>\n",
       "      <td>-0.379571</td>\n",
       "      <td>-0.152898</td>\n",
       "      <td>1.579880</td>\n",
       "      <td>-0.214343</td>\n",
       "      <td>-0.530724</td>\n",
       "      <td>-0.565171</td>\n",
       "      <td>-0.716633</td>\n",
       "      <td>-1.009000</td>\n",
       "      <td>-0.633610</td>\n",
       "      <td>-0.370740</td>\n",
       "      <td>-0.413805</td>\n",
       "      <td>-0.453408</td>\n",
       "    </tr>\n",
       "    <tr>\n",
       "      <th>2</th>\n",
       "      <td>-0.952083</td>\n",
       "      <td>0.069818</td>\n",
       "      <td>-0.379571</td>\n",
       "      <td>-1.572667</td>\n",
       "      <td>0.461823</td>\n",
       "      <td>-0.214343</td>\n",
       "      <td>-0.635578</td>\n",
       "      <td>-0.717602</td>\n",
       "      <td>-1.065555</td>\n",
       "      <td>-0.797435</td>\n",
       "      <td>-0.972114</td>\n",
       "      <td>0.131304</td>\n",
       "      <td>0.170919</td>\n",
       "      <td>-0.453408</td>\n",
       "    </tr>\n",
       "    <tr>\n",
       "      <th>3</th>\n",
       "      <td>-1.886269</td>\n",
       "      <td>-0.795459</td>\n",
       "      <td>-0.379571</td>\n",
       "      <td>-1.572667</td>\n",
       "      <td>-0.392163</td>\n",
       "      <td>-0.230824</td>\n",
       "      <td>-0.688006</td>\n",
       "      <td>-0.870034</td>\n",
       "      <td>-1.065555</td>\n",
       "      <td>-1.643693</td>\n",
       "      <td>-0.972114</td>\n",
       "      <td>-0.370740</td>\n",
       "      <td>-0.413805</td>\n",
       "      <td>-0.453408</td>\n",
       "    </tr>\n",
       "    <tr>\n",
       "      <th>4</th>\n",
       "      <td>-0.054161</td>\n",
       "      <td>0.075751</td>\n",
       "      <td>-0.379571</td>\n",
       "      <td>-0.152898</td>\n",
       "      <td>0.765566</td>\n",
       "      <td>-0.230824</td>\n",
       "      <td>-0.583151</td>\n",
       "      <td>-0.107875</td>\n",
       "      <td>-1.065555</td>\n",
       "      <td>-0.374306</td>\n",
       "      <td>-0.633610</td>\n",
       "      <td>-0.370740</td>\n",
       "      <td>-0.413805</td>\n",
       "      <td>-0.453408</td>\n",
       "    </tr>\n",
       "  </tbody>\n",
       "</table>\n",
       "</div>"
      ],
      "text/plain": [
       "   Population   traffic  ped_traffic   count_x     acres   count_y  \\\n",
       "0   -0.837351 -0.637258    -0.379571 -0.152898  0.834789 -0.197862   \n",
       "1   -0.636818 -0.119831    -0.379571 -0.152898  1.579880 -0.214343   \n",
       "2   -0.952083  0.069818    -0.379571 -1.572667  0.461823 -0.214343   \n",
       "3   -1.886269 -0.795459    -0.379571 -1.572667 -0.392163 -0.230824   \n",
       "4   -0.054161  0.075751    -0.379571 -0.152898  0.765566 -0.230824   \n",
       "\n",
       "   PARKING LOTS AND GARAGES  NON-PUBLIC K-12 SCHOOLS  HOSPITALS AND CLINICS  \\\n",
       "0                  0.308110                -0.412739              -1.065555   \n",
       "1                 -0.530724                -0.565171              -0.716633   \n",
       "2                 -0.635578                -0.717602              -1.065555   \n",
       "3                 -0.688006                -0.870034              -1.065555   \n",
       "4                 -0.583151                -0.107875              -1.065555   \n",
       "\n",
       "   PUBLIC K-12 SCHOOLS  STREETSCAPES, PLAZAS, AND MALLS  \\\n",
       "0            -1.009000                        -0.633610   \n",
       "1            -1.009000                        -0.633610   \n",
       "2            -0.797435                        -0.972114   \n",
       "3            -1.643693                        -0.972114   \n",
       "4            -0.374306                        -0.633610   \n",
       "\n",
       "   BUS DEPOTS AND TERMINALS   MUSEUMS  COLLEGES OR UNIVERSITIES  \n",
       "0                  0.131304  0.170919                 -0.453408  \n",
       "1                 -0.370740 -0.413805                 -0.453408  \n",
       "2                  0.131304  0.170919                 -0.453408  \n",
       "3                 -0.370740 -0.413805                 -0.453408  \n",
       "4                 -0.370740 -0.413805                 -0.453408  "
      ]
     },
     "execution_count": 6,
     "metadata": {},
     "output_type": "execute_result"
    }
   ],
   "source": [
    "#Scaling the data\n",
    "scaler = StandardScaler()\n",
    "#fit scaler to data\n",
    "scaler.fit(X.values)\n",
    "\n",
    "#transform and save into new dataframe\n",
    "X_std = pd.DataFrame(scaler.transform(X.values), \n",
    "                                columns = X.columns)\n",
    "    \n",
    "X_std.head()"
   ]
  },
  {
   "cell_type": "code",
   "execution_count": 97,
   "id": "bde11d17-658e-4036-b5cf-c47d9346b527",
   "metadata": {},
   "outputs": [
    {
     "data": {
      "image/png": "[encoded data removed]",
      "text/plain": [
       "<Figure size 432x288 with 1 Axes>"
      ]
     },
     "metadata": {
      "needs_background": "light"
     },
     "output_type": "display_data"
    },
    {
     "data": {
      "text/plain": [
       "<Figure size 432x288 with 0 Axes>"
      ]
     },
     "metadata": {},
     "output_type": "display_data"
    }
   ],
   "source": [
    "max_k = 10\n",
    "## iterations\n",
    "distortions = [] \n",
    "for i in range(1, max_k+1):\n",
    "    if len(X_std) >= i:\n",
    "        model = cluster.KMeans(n_clusters=i, init='k-means++', max_iter=100, n_init=10)\n",
    "        model.fit(X_std)\n",
    "        distortions.append(model.inertia_)\n",
    "\n",
    "k = [i*100 for i in np.diff(distortions,2)].index(min([i*100 for i \n",
    "     in np.diff(distortions,2)]))\n",
    "\n",
    "fig, ax = plt.subplots()\n",
    "ax.plot(range(1, len(distortions)+1), distortions)\n",
    "ax.axvline(k, ls='--', color=\"red\", label=\"k = \"+str(k))\n",
    "ax.set(title='The Elbow Method', xlabel='Number of clusters', \n",
    "       ylabel=\"Distortion\")\n",
    "ax.legend()\n",
    "ax.grid(True)\n",
    "plt.show()\n",
    "plt.savefig('../figures/elbow-method.png')"
   ]
  },
  {
   "cell_type": "markdown",
   "id": "06d11953-e1fc-4844-911e-7c126aba89ca",
   "metadata": {
    "jp-MarkdownHeadingCollapsed": true,
    "tags": []
   },
   "source": [
    "## PCA"
   ]
  },
  {
   "cell_type": "code",
   "execution_count": 6,
   "id": "5644229e-cc39-4135-bceb-7fd85af97d2d",
   "metadata": {},
   "outputs": [
    {
     "ename": "NameError",
     "evalue": "name 'X_std' is not defined",
     "output_type": "error",
     "traceback": [
      "\u001b[0;31m---------------------------------------------------------------------------\u001b[0m",
      "\u001b[0;31mNameError\u001b[0m                                 Traceback (most recent call last)",
      "\u001b[0;32m~/Documents/Lighthouse/Midterm/Mid-Term-Project/notebooks/functions/functions.py\u001b[0m in \u001b[0;36m<module>\u001b[0;34m\u001b[0m\n\u001b[1;32m      1\u001b[0m \u001b[0mpca\u001b[0m \u001b[0;34m=\u001b[0m \u001b[0mPCA\u001b[0m\u001b[0;34m(\u001b[0m\u001b[0;34m)\u001b[0m\u001b[0;34m\u001b[0m\u001b[0;34m\u001b[0m\u001b[0m\n\u001b[0;32m----> 2\u001b[0;31m \u001b[0mprincipalComponents\u001b[0m \u001b[0;34m=\u001b[0m \u001b[0mpca\u001b[0m\u001b[0;34m.\u001b[0m\u001b[0mfit_transform\u001b[0m\u001b[0;34m(\u001b[0m\u001b[0mX_std\u001b[0m\u001b[0;34m)\u001b[0m\u001b[0;34m\u001b[0m\u001b[0;34m\u001b[0m\u001b[0m\n\u001b[0m\u001b[1;32m      3\u001b[0m \u001b[0mPCA_components\u001b[0m \u001b[0;34m=\u001b[0m \u001b[0mpd\u001b[0m\u001b[0;34m.\u001b[0m\u001b[0mDataFrame\u001b[0m\u001b[0;34m(\u001b[0m\u001b[0mprincipalComponents\u001b[0m\u001b[0;34m)\u001b[0m\u001b[0;34m\u001b[0m\u001b[0;34m\u001b[0m\u001b[0m\n",
      "\u001b[0;31mNameError\u001b[0m: name 'X_std' is not defined"
     ]
    }
   ],
   "source": [
    "pca = PCA()\n",
    "principalComponents = pca.fit_transform(X_std)\n",
    "PCA_components = pd.DataFrame(principalComponents)"
   ]
  },
  {
   "cell_type": "code",
   "execution_count": 19,
   "id": "65f1e70d-361f-4413-b45c-33a2159c8416",
   "metadata": {},
   "outputs": [],
   "source": [
    "km = KMeans(n_clusters=5, n_init=1000)\n",
    "y_km = km.fit_predict(principalComponents)"
   ]
  },
  {
   "cell_type": "code",
   "execution_count": 20,
   "id": "b30d6182-dd01-4fb3-aa6b-70c812e8d148",
   "metadata": {},
   "outputs": [
    {
     "data": {
      "image/png": "[encoded data removed]",
      "text/plain": [
       "<Figure size 432x288 with 1 Axes>"
      ]
     },
     "metadata": {
      "needs_background": "light"
     },
     "output_type": "display_data"
    }
   ],
   "source": [
    "plot_clusters(principalComponents, y_km, plt_cluster_centers= True)"
   ]
  },
  {
   "cell_type": "code",
   "execution_count": 7,
   "id": "eecbce5d-5767-4fff-bc3c-d726a859a53e",
   "metadata": {},
   "outputs": [],
   "source": [
    "def plot_dendrogram(X,method ='ward'):\n",
    "    dendrogram = sch.dendrogram(sch.linkage(X, method=method))\n",
    "    plt.title(\"Dendrogram\")\n",
    "    plt.ylabel(\"Euclidean distances\")\n",
    "    plt.xlabel('Points')\n",
    "    plt.show()"
   ]
  },
  {
   "cell_type": "code",
   "execution_count": 28,
   "id": "3cb074d4-3c5f-44a4-ac6c-0898fbf45c3d",
   "metadata": {},
   "outputs": [
    {
     "data": {
      "image/png": "[encoded data removed]",
      "text/plain": [
       "<Figure size 432x288 with 1 Axes>"
      ]
     },
     "metadata": {
      "needs_background": "light"
     },
     "output_type": "display_data"
    }
   ],
   "source": [
    "plot_dendrogram(PCA_components)"
   ]
  }
 ],
 "metadata": {
  "kernelspec": {
   "display_name": "Python 3 (ipykernel)",
   "language": "python",
   "name": "python3"
  },
  "language_info": {
   "codemirror_mode": {
    "name": "ipython",
    "version": 3
   },
   "file_extension": ".py",
   "mimetype": "text/x-python",
   "name": "python",
   "nbconvert_exporter": "python",
   "pygments_lexer": "ipython3",
   "version": "3.9.7"
  }
 },
 "nbformat": 4,
 "nbformat_minor": 5
}
