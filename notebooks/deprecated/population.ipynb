{
 "cells": [
  {
   "cell_type": "code",
   "execution_count": 1,
   "id": "493ff1bb-af48-49b8-80b8-362dafa0aa33",
   "metadata": {},
   "outputs": [],
   "source": [
    "import pandas as pd\n",
    "import geopandas as gpd\n",
    "import shapely"
   ]
  },
  {
   "cell_type": "markdown",
   "id": "b4cb6705-fa8c-47e8-bc2f-8a3607d4eb43",
   "metadata": {
    "tags": []
   },
   "source": [
    "## Population"
   ]
  },
  {
   "cell_type": "markdown",
   "id": "22625551-3f46-4cee-93f6-92cedb41b413",
   "metadata": {},
   "source": [
    "### Population Import"
   ]
  },
  {
   "cell_type": "code",
   "execution_count": 2,
   "id": "5f508823-cc09-4f59-b9a5-c6d1e05cd142",
   "metadata": {},
   "outputs": [],
   "source": [
    "df = pd.read_csv(\"../raw_data/density/population/population.csv\")"
   ]
  },
  {
   "cell_type": "markdown",
   "id": "e632a354-ef29-4535-8ddd-a298120ef284",
   "metadata": {},
   "source": [
    "### Cleaning"
   ]
  },
  {
   "cell_type": "code",
   "execution_count": null,
   "id": "1489d862-d3ab-4bd9-a0a5-260a0014932c",
   "metadata": {},
   "outputs": [],
   "source": [
    "df_2000 = df.iloc[0:195]\n",
    "df_2010 = df.iloc[195:]\n",
    "df_2010 = df_2010.reset_index()"
   ]
  },
  {
   "cell_type": "code",
   "execution_count": null,
   "id": "29c6709c-2f73-4e47-8d12-1e6ba0eaa692",
   "metadata": {},
   "outputs": [],
   "source": [
    "df_2010['ntacode'] = df_2010['NTA Code']\n",
    "df_2010 = df_2010.drop(['index','Borough','Year','FIPS County Code','NTA Name','NTA Code'], axis=1)"
   ]
  },
  {
   "cell_type": "markdown",
   "id": "384bf849-c03c-452b-8459-4d9af7996360",
   "metadata": {},
   "source": [
    "### Geocoding"
   ]
  },
  {
   "cell_type": "code",
   "execution_count": 3,
   "id": "d9514ec5-6df5-4727-955e-9572fb329ed4",
   "metadata": {},
   "outputs": [
    {
     "name": "stderr",
     "output_type": "stream",
     "text": [
      "/tmp/ipykernel_11675/3693915574.py:5: UserWarning: Geometry is in a geographic CRS. Results from 'centroid' are likely incorrect. Use 'GeoSeries.to_crs()' to re-project geometries to a projected CRS before this operation.\n",
      "\n",
      "  poly.centroid\n",
      "/tmp/ipykernel_11675/3693915574.py:6: UserWarning: Geometry is in a geographic CRS. Results from 'centroid' are likely incorrect. Use 'GeoSeries.to_crs()' to re-project geometries to a projected CRS before this operation.\n",
      "\n",
      "  poly[\"NTA_lat\"] = poly.centroid.x\n",
      "/tmp/ipykernel_11675/3693915574.py:7: UserWarning: Geometry is in a geographic CRS. Results from 'centroid' are likely incorrect. Use 'GeoSeries.to_crs()' to re-project geometries to a projected CRS before this operation.\n",
      "\n",
      "  poly[\"NTA_long\"] = poly.centroid.y\n"
     ]
    }
   ],
   "source": [
    "poly = gpd.read_file(\"../raw_data/density/population/geo_export.shp\")\n",
    "\n",
    "poly['geometry'] = poly.geometry.map(lambda polygon: shapely.ops.transform(lambda x, y: (y, x), polygon))\n",
    "\n",
    "poly.centroid\n",
    "poly[\"NTA_lat\"] = poly.centroid.x\n",
    "poly[\"NTA_long\"] = poly.centroid.y\n",
    "\n",
    "NTAs = poly.drop(['boro_code', 'boro_name', 'county_fip', 'shape_area', 'shape_leng', 'geometry', 'ntaname'], axis=1)"
   ]
  },
  {
   "cell_type": "markdown",
   "id": "e127122a-4041-4f51-926f-1962e3fc2811",
   "metadata": {},
   "source": [
    "### Additional Cleaning"
   ]
  },
  {
   "cell_type": "code",
   "execution_count": 4,
   "id": "c2d7d950-43ec-48dc-8973-c9c5ff4509a8",
   "metadata": {},
   "outputs": [],
   "source": [
    "population = NTAs.set_index('ntacode').join(df_2010.set_index('ntacode'))\n",
    "geocoded_population = population.reset_index()\n",
    "geocoded_population = geocoded_population.drop(['ntacode'], axis=1)"
   ]
  },
  {
   "cell_type": "code",
   "execution_count": 5,
   "id": "d20056d4-3617-4f7c-9144-d92ded356efb",
   "metadata": {},
   "outputs": [],
   "source": [
    "geocoded_population = geocoded_population.replace(to_replace={'Population': {0: df['Population'].median()}}, value=None)"
   ]
  },
  {
   "cell_type": "markdown",
   "id": "69116d08-dd53-4239-8703-856e77984e82",
   "metadata": {},
   "source": [
    "### Population Export"
   ]
  },
  {
   "cell_type": "code",
   "execution_count": 6,
   "id": "b0a25628-838a-4c85-91e8-704cf28e727c",
   "metadata": {},
   "outputs": [],
   "source": [
    "geocoded_population.to_csv('../processed_data/density/geocoded_population.csv', index=False, encoding='utf-8')"
   ]
  }
 ],
 "metadata": {
  "kernelspec": {
   "display_name": "Python 3 (ipykernel)",
   "language": "python",
   "name": "python3"
  },
  "language_info": {
   "codemirror_mode": {
    "name": "ipython",
    "version": 3
   },
   "file_extension": ".py",
   "mimetype": "text/x-python",
   "name": "python",
   "nbconvert_exporter": "python",
   "pygments_lexer": "ipython3",
   "version": "3.9.7"
  }
 },
 "nbformat": 4,
 "nbformat_minor": 5
}
