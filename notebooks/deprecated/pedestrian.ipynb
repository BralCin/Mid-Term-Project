{
 "cells": [
  {
   "cell_type": "code",
   "execution_count": 1,
   "id": "c09814f6-3995-4bcb-b067-0abcf289f29f",
   "metadata": {},
   "outputs": [],
   "source": [
    "import pandas as pd\n",
    "import geopandas as gpd"
   ]
  },
  {
   "cell_type": "code",
   "execution_count": 2,
   "id": "4a0b5851-e477-41db-8d61-b9e9a5361e73",
   "metadata": {},
   "outputs": [],
   "source": [
    "df = pd.read_csv(\"../raw_data/density/pedestrian/pedestrian.csv\")\n",
    "\n",
    "df = df.drop(['Borough', 'Loc', 'OBJECTID', 'To_Street', 'Index'], axis=1)\n",
    "df = df[['the_geom', 'Street_Nam', 'From_Stree', 'May21_AM', 'May21_PM', 'May21_MD']]\n",
    "df = df.drop(25)\n",
    "\n",
    "df['ped_traffic'] = (df.iloc[:, 4:].sum(axis=1)) / 3\n",
    "df = df.drop(['May21_AM', 'May21_PM', 'May21_MD'], axis=1)"
   ]
  },
  {
   "cell_type": "code",
   "execution_count": 3,
   "id": "9c28ac50-3bc9-4a92-9af3-e8b202223c2d",
   "metadata": {},
   "outputs": [],
   "source": [
    "lat = []\n",
    "lng = []\n",
    "for i in range(113):\n",
    "    try:\n",
    "        string = df['the_geom'][i]\n",
    "        words = string.split()\n",
    "        lng.append(float(words[1][1:]))\n",
    "        lat.append(float(words[2][:-1]))\n",
    "    except KeyError:\n",
    "        lat.append(0)\n",
    "        lng.append(0)"
   ]
  },
  {
   "cell_type": "code",
   "execution_count": 4,
   "id": "deebafbb-2685-4210-8d82-d98aed4c8266",
   "metadata": {},
   "outputs": [
    {
     "data": {
      "text/html": [
       "<div>\n",
       "<style scoped>\n",
       "    .dataframe tbody tr th:only-of-type {\n",
       "        vertical-align: middle;\n",
       "    }\n",
       "\n",
       "    .dataframe tbody tr th {\n",
       "        vertical-align: top;\n",
       "    }\n",
       "\n",
       "    .dataframe thead th {\n",
       "        text-align: right;\n",
       "    }\n",
       "</style>\n",
       "<table border=\"1\" class=\"dataframe\">\n",
       "  <thead>\n",
       "    <tr style=\"text-align: right;\">\n",
       "      <th></th>\n",
       "      <th>ped_traffic</th>\n",
       "      <th>NTA_lat</th>\n",
       "      <th>NTA_long</th>\n",
       "    </tr>\n",
       "  </thead>\n",
       "  <tbody>\n",
       "    <tr>\n",
       "      <th>0</th>\n",
       "      <td>1657.333333</td>\n",
       "      <td>40.879199</td>\n",
       "      <td>-73.904591</td>\n",
       "    </tr>\n",
       "    <tr>\n",
       "      <th>1</th>\n",
       "      <td>1169.000000</td>\n",
       "      <td>40.826628</td>\n",
       "      <td>-73.921884</td>\n",
       "    </tr>\n",
       "    <tr>\n",
       "      <th>2</th>\n",
       "      <td>3326.000000</td>\n",
       "      <td>40.862155</td>\n",
       "      <td>-73.895358</td>\n",
       "    </tr>\n",
       "    <tr>\n",
       "      <th>3</th>\n",
       "      <td>790.666667</td>\n",
       "      <td>40.881287</td>\n",
       "      <td>-73.878925</td>\n",
       "    </tr>\n",
       "    <tr>\n",
       "      <th>4</th>\n",
       "      <td>1255.333333</td>\n",
       "      <td>40.844637</td>\n",
       "      <td>-73.889564</td>\n",
       "    </tr>\n",
       "    <tr>\n",
       "      <th>...</th>\n",
       "      <td>...</td>\n",
       "      <td>...</td>\n",
       "      <td>...</td>\n",
       "    </tr>\n",
       "    <tr>\n",
       "      <th>109</th>\n",
       "      <td>157.666667</td>\n",
       "      <td>40.819495</td>\n",
       "      <td>-73.933305</td>\n",
       "    </tr>\n",
       "    <tr>\n",
       "      <th>110</th>\n",
       "      <td>60.666667</td>\n",
       "      <td>40.814131</td>\n",
       "      <td>-73.933133</td>\n",
       "    </tr>\n",
       "    <tr>\n",
       "      <th>111</th>\n",
       "      <td>58.333333</td>\n",
       "      <td>40.807555</td>\n",
       "      <td>-73.932530</td>\n",
       "    </tr>\n",
       "    <tr>\n",
       "      <th>112</th>\n",
       "      <td>29.666667</td>\n",
       "      <td>40.803769</td>\n",
       "      <td>-73.928961</td>\n",
       "    </tr>\n",
       "    <tr>\n",
       "      <th>113</th>\n",
       "      <td>252.666667</td>\n",
       "      <td>40.800345</td>\n",
       "      <td>-73.927852</td>\n",
       "    </tr>\n",
       "  </tbody>\n",
       "</table>\n",
       "<p>112 rows × 3 columns</p>\n",
       "</div>"
      ],
      "text/plain": [
       "     ped_traffic    NTA_lat   NTA_long\n",
       "0    1657.333333  40.879199 -73.904591\n",
       "1    1169.000000  40.826628 -73.921884\n",
       "2    3326.000000  40.862155 -73.895358\n",
       "3     790.666667  40.881287 -73.878925\n",
       "4    1255.333333  40.844637 -73.889564\n",
       "..           ...        ...        ...\n",
       "109   157.666667  40.819495 -73.933305\n",
       "110    60.666667  40.814131 -73.933133\n",
       "111    58.333333  40.807555 -73.932530\n",
       "112    29.666667  40.803769 -73.928961\n",
       "113   252.666667  40.800345 -73.927852\n",
       "\n",
       "[112 rows x 3 columns]"
      ]
     },
     "execution_count": 4,
     "metadata": {},
     "output_type": "execute_result"
    }
   ],
   "source": [
    "df = df.drop(['Street_Nam', 'From_Stree', 'the_geom'], axis=1)\n",
    "df['NTA_lat'] = lat\n",
    "df['NTA_long'] = lng\n",
    "df = df[df.NTA_lat != 0]\n",
    "df.replace(to_replace={'ped_traffic': {0: df['ped_traffic'].median()}}, value=None)"
   ]
  },
  {
   "cell_type": "code",
   "execution_count": 6,
   "id": "8004a0db-5249-4904-ad5d-a1098171eb84",
   "metadata": {},
   "outputs": [],
   "source": [
    "df.to_csv('../processed_data/density/geocoded_pedestrian.csv', index=False, encoding='utf-8')"
   ]
  },
  {
   "cell_type": "code",
   "execution_count": null,
   "id": "14078beb-1977-46f9-ba4a-7a24c1b31ce3",
   "metadata": {},
   "outputs": [],
   "source": []
  }
 ],
 "metadata": {
  "kernelspec": {
   "display_name": "Python 3 (ipykernel)",
   "language": "python",
   "name": "python3"
  },
  "language_info": {
   "codemirror_mode": {
    "name": "ipython",
    "version": 3
   },
   "file_extension": ".py",
   "mimetype": "text/x-python",
   "name": "python",
   "nbconvert_exporter": "python",
   "pygments_lexer": "ipython3",
   "version": "3.9.7"
  }
 },
 "nbformat": 4,
 "nbformat_minor": 5
}
