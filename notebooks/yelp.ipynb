{
 "cells": [
  {
   "cell_type": "code",
   "execution_count": 61,
   "id": "673534a4-155c-49aa-a75e-9150c97ae45e",
   "metadata": {},
   "outputs": [],
   "source": [
    "import requests as re\n",
    "import json\n",
    "import pandas as pd\n",
    "from statistics import mean"
   ]
  },
  {
   "cell_type": "code",
   "execution_count": 2,
   "id": "9c469cf9-0e48-4114-a088-535c3555abc8",
   "metadata": {},
   "outputs": [],
   "source": [
    "#load master csv for lat-long data\n",
    "df = pd.read_csv(\"../processed_data/master.csv\")\n",
    "#separate lat-long from df\n",
    "nta_ll = df.iloc[:, :2]"
   ]
  },
  {
   "cell_type": "code",
   "execution_count": 3,
   "id": "c8c73e30-73c7-4aaf-9d86-e051383dc98a",
   "metadata": {},
   "outputs": [],
   "source": [
    "lat = nta_ll['NTA_lat'].to_list()\n",
    "long = nta_ll['NTA_long'].to_list()"
   ]
  },
  {
   "cell_type": "code",
   "execution_count": 4,
   "id": "81ce3731-8316-4a10-a658-b17491383678",
   "metadata": {
    "tags": []
   },
   "outputs": [],
   "source": [
    "#initialize request variables\n",
    "root_endpoint = \"https://api.yelp.com/v3/businesses/search\"\n",
    "headers = {\"Accept\": \"application/json\", \n",
    "           \"Authorization\": ('Bearer '\n",
    "                             'MO2-UQr4yN7-3DImCA38ZJtCMhFC_3sQa-WLIK7SMQ'\n",
    "                             'rUmMGtrOBtLEgzfYQmqcv36tupTqNBiB1IE2BrpjGLK'\n",
    "                             'bI0b72tBtg2bBZ7toXdEUvuCvLPbL6_vqVvLtroYXYx')}"
   ]
  },
  {
   "cell_type": "code",
   "execution_count": 5,
   "id": "543e4039-5a89-43ea-b49e-664e705424b9",
   "metadata": {},
   "outputs": [],
   "source": [
    "#pulling and saving requests\n",
    "results_list = []\n",
    "for i in range(195):\n",
    "    response = re.get(root_endpoint, params={'latitude': lat[i], 'longitude': long[i], 'radius': 500, \n",
    "                                             'categories': 'Food', 'limit': 50}, headers=headers)\n",
    "    results_list.append(response.json())"
   ]
  },
  {
   "cell_type": "code",
   "execution_count": 39,
   "id": "cf39000a-1867-455d-bbbc-5a49f0613039",
   "metadata": {},
   "outputs": [],
   "source": [
    "#checking for failed requests\n",
    "fails = []\n",
    "for i in range(len(results_list)):\n",
    "    if 'error' in results_list[i]:\n",
    "        fails.append(i)"
   ]
  },
  {
   "cell_type": "code",
   "execution_count": 26,
   "id": "02b6382a-eae5-4099-b1df-09c0679713cc",
   "metadata": {},
   "outputs": [],
   "source": [
    "#rety failed requests\n",
    "retry_list = []\n",
    "for i in range(len(fails)):\n",
    "    response = re.get(root_endpoint, params={'latitude': lat[(fails[i])], 'longitude': long[(fails[i])], \n",
    "                                             'radius': 500, 'categories': 'Food', 'limit': 50}, headers=headers)\n",
    "    retry_list.append(response.json())"
   ]
  },
  {
   "cell_type": "code",
   "execution_count": 38,
   "id": "f5317d73-4062-4237-8eaf-ba0d10a0b22a",
   "metadata": {},
   "outputs": [],
   "source": [
    "#replace failed results\n",
    "for i in range(len(fails)):\n",
    "    results_list[(fails[i])] = retry_list[i]"
   ]
  },
  {
   "cell_type": "code",
   "execution_count": 43,
   "id": "643c56cf-4096-4d17-821b-62ac6f2fcab3",
   "metadata": {},
   "outputs": [],
   "source": [
    "#save as JSON\n",
    "with open('../raw_data/yelp/yelp.json', 'w', encoding='utf-8') as f:\n",
    "    json.dump(results_list, f)"
   ]
  },
  {
   "cell_type": "code",
   "execution_count": 45,
   "id": "7febae41-ec37-457e-9ea0-a5273628a9ed",
   "metadata": {},
   "outputs": [],
   "source": [
    "#load json for parsing\n",
    "file = open(\"../raw_data/yelp/yelp.json\", \"r\")\n",
    "yelp = json.load(file)"
   ]
  },
  {
   "cell_type": "code",
   "execution_count": 67,
   "id": "0e278f9e-dd5b-441d-9fa2-57f0c3f706d2",
   "metadata": {},
   "outputs": [],
   "source": [
    "#JSON parsing\n",
    "yelp_list = []\n",
    "for i in range(195):\n",
    "    rating = []\n",
    "    price = []\n",
    "    for j in range(50):\n",
    "        try:\n",
    "            rating.append(yelp[i]['businesses'][j]['rating'])\n",
    "        except:\n",
    "            rating.append(2.5)\n",
    "        try:\n",
    "            if yelp[i]['businesses'][j]['price'] == '$':\n",
    "                price.append(1)\n",
    "            elif yelp[i]['businesses'][j]['price'] == '$$':\n",
    "                price.append(2)\n",
    "            elif yelp[i]['businesses'][j]['price'] == '$$$':\n",
    "                price.append(3)\n",
    "            elif yelp[i]['businesses'][j]['price'] == '$$$$':\n",
    "                price.append(4)\n",
    "        except:\n",
    "            price.append(2)\n",
    "    try:\n",
    "        rating.remove(0)\n",
    "    except:\n",
    "        pass\n",
    "    rating_mean = mean(rating)\n",
    "    try:\n",
    "        price.remove(0)\n",
    "    except:\n",
    "        pass\n",
    "    price_mean = mean(price) \n",
    "    yelp_list.append((rating_mean, price_mean))"
   ]
  },
  {
   "cell_type": "code",
   "execution_count": 71,
   "id": "90da81c2-d953-4001-b342-8da1dee0f1ef",
   "metadata": {},
   "outputs": [],
   "source": [
    "df = pd.DataFrame(yelp_list, columns=['rating', 'price'])"
   ]
  },
  {
   "cell_type": "code",
   "execution_count": 73,
   "id": "3c112ad3-6ffb-45ed-9c77-0893e404a255",
   "metadata": {},
   "outputs": [],
   "source": [
    "df.to_csv('../processed_data/yelp.csv', index=False, encoding='utf-8')"
   ]
  },
  {
   "cell_type": "code",
   "execution_count": null,
   "id": "2b165d3f-1256-4de2-bf9c-2b9bf324a75c",
   "metadata": {},
   "outputs": [],
   "source": []
  }
 ],
 "metadata": {
  "kernelspec": {
   "display_name": "Python 3 (ipykernel)",
   "language": "python",
   "name": "python3"
  },
  "language_info": {
   "codemirror_mode": {
    "name": "ipython",
    "version": 3
   },
   "file_extension": ".py",
   "mimetype": "text/x-python",
   "name": "python",
   "nbconvert_exporter": "python",
   "pygments_lexer": "ipython3",
   "version": "3.9.7"
  }
 },
 "nbformat": 4,
 "nbformat_minor": 5
}
