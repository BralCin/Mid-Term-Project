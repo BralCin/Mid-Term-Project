{
 "cells": [
  {
   "cell_type": "code",
   "execution_count": 1,
   "id": "493ff1bb-af48-49b8-80b8-362dafa0aa33",
   "metadata": {},
   "outputs": [],
   "source": [
    "import pandas as pd\n",
    "import geopandas as gpd\n",
    "import shapely"
   ]
  },
  {
   "cell_type": "code",
   "execution_count": 2,
   "id": "5f508823-cc09-4f59-b9a5-c6d1e05cd142",
   "metadata": {},
   "outputs": [],
   "source": [
    "df = pd.read_csv(\"../Mid-Term-Project/raw_data/population/population.csv\")\n",
    "\n",
    "df_2000 = df.iloc[0:195]\n",
    "df_2010 = df.iloc[195:]\n",
    "df_2010 = df_2010.reset_index()\n",
    "\n",
    "df_2010['ntacode'] = df_2010['NTA Code']\n",
    "df_2010 = df_2010.drop(['index','Borough','Year','FIPS County Code','NTA Name','NTA Code'], axis=1)"
   ]
  },
  {
   "cell_type": "code",
   "execution_count": 3,
   "id": "d9514ec5-6df5-4727-955e-9572fb329ed4",
   "metadata": {},
   "outputs": [
    {
     "name": "stderr",
     "output_type": "stream",
     "text": [
      "/tmp/ipykernel_38241/619830744.py:5: UserWarning: Geometry is in a geographic CRS. Results from 'centroid' are likely incorrect. Use 'GeoSeries.to_crs()' to re-project geometries to a projected CRS before this operation.\n",
      "\n",
      "  poly.centroid\n",
      "/tmp/ipykernel_38241/619830744.py:6: UserWarning: Geometry is in a geographic CRS. Results from 'centroid' are likely incorrect. Use 'GeoSeries.to_crs()' to re-project geometries to a projected CRS before this operation.\n",
      "\n",
      "  poly[\"latitude\"] = poly.centroid.x\n",
      "/tmp/ipykernel_38241/619830744.py:7: UserWarning: Geometry is in a geographic CRS. Results from 'centroid' are likely incorrect. Use 'GeoSeries.to_crs()' to re-project geometries to a projected CRS before this operation.\n",
      "\n",
      "  poly[\"longitude\"] = poly.centroid.y\n"
     ]
    }
   ],
   "source": [
    "poly = gpd.read_file(\"../Mid-Term-Project/raw_data/population/geo_export.shp\")\n",
    "\n",
    "poly['geometry'] = poly.geometry.map(lambda polygon: shapely.ops.transform(lambda x, y: (y, x), polygon))\n",
    "\n",
    "poly.centroid\n",
    "poly[\"latitude\"] = poly.centroid.x\n",
    "poly[\"longitude\"] = poly.centroid.y\n",
    "\n",
    "NTAs = poly.drop(['boro_code', 'boro_name', 'county_fip', 'shape_area', 'shape_leng', 'geometry', 'ntaname'], axis=1)"
   ]
  },
  {
   "cell_type": "code",
   "execution_count": 4,
   "id": "c2d7d950-43ec-48dc-8973-c9c5ff4509a8",
   "metadata": {},
   "outputs": [],
   "source": [
    "population = NTAs.set_index('ntacode').join(df_2010.set_index('ntacode'))\n",
    "geocoded_population = population.reset_index()"
   ]
  },
  {
   "cell_type": "code",
   "execution_count": 6,
   "id": "b0a25628-838a-4c85-91e8-704cf28e727c",
   "metadata": {},
   "outputs": [],
   "source": [
    "geocoded_population.to_csv('../Mid-Term-Project/processed_data/geocoded_population.csv', index=False, encoding='utf-8')"
   ]
  },
  {
   "cell_type": "code",
   "execution_count": null,
   "id": "ddcb6796-539d-431c-b1d5-b3a4b312e775",
   "metadata": {},
   "outputs": [],
   "source": []
  }
 ],
 "metadata": {
  "kernelspec": {
   "display_name": "Python 3 (ipykernel)",
   "language": "python",
   "name": "python3"
  },
  "language_info": {
   "codemirror_mode": {
    "name": "ipython",
    "version": 3
   },
   "file_extension": ".py",
   "mimetype": "text/x-python",
   "name": "python",
   "nbconvert_exporter": "python",
   "pygments_lexer": "ipython3",
   "version": "3.9.7"
  }
 },
 "nbformat": 4,
 "nbformat_minor": 5
}
