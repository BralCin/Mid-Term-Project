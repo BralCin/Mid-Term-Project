{
 "cells": [
  {
   "cell_type": "code",
   "execution_count": 2,
   "id": "0e72ba8c-6b27-4228-9842-6a389600f273",
   "metadata": {},
   "outputs": [],
   "source": [
    "import pandas as pd"
   ]
  },
  {
   "cell_type": "code",
   "execution_count": 9,
   "id": "8dfaa5df-8574-46fa-8dac-c20c3a0cf422",
   "metadata": {},
   "outputs": [],
   "source": [
    "fac_df = pd.read_csv('../processed_data/facilities.csv')"
   ]
  },
  {
   "cell_type": "code",
   "execution_count": 14,
   "id": "7cd842f3-f9e9-469e-8696-c0b777a158dc",
   "metadata": {},
   "outputs": [],
   "source": [
    "fac_df = fac_df.loc[fac_df['latitude'] != 0]"
   ]
  },
  {
   "cell_type": "code",
   "execution_count": 18,
   "id": "fb531f1d-dd1c-497a-bc5d-8d14f2588aee",
   "metadata": {},
   "outputs": [],
   "source": [
    "fac_df.to_csv('../processed_data/facilities.csv', index=False, encoding='utf-8')"
   ]
  },
  {
   "cell_type": "code",
   "execution_count": null,
   "id": "2372c16c-8c63-42cd-a13a-fb090c27a9e2",
   "metadata": {},
   "outputs": [],
   "source": []
  }
 ],
 "metadata": {
  "kernelspec": {
   "display_name": "Python 3 (ipykernel)",
   "language": "python",
   "name": "python3"
  },
  "language_info": {
   "codemirror_mode": {
    "name": "ipython",
    "version": 3
   },
   "file_extension": ".py",
   "mimetype": "text/x-python",
   "name": "python",
   "nbconvert_exporter": "python",
   "pygments_lexer": "ipython3",
   "version": "3.9.7"
  }
 },
 "nbformat": 4,
 "nbformat_minor": 5
}
